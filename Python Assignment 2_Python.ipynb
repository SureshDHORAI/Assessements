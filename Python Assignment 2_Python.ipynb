{
 "cells": [
  {
   "cell_type": "markdown",
   "id": "d6707551",
   "metadata": {},
   "source": [
    "1. Python program for n-th fibonacci number"
   ]
  },
  {
   "cell_type": "code",
   "execution_count": 10,
   "id": "b0d87454",
   "metadata": {},
   "outputs": [],
   "source": [
    "def Fibonacci(n):\n",
    "    if n<= 0:\n",
    "        print(\"Incorrect input\")\n",
    "    # First Fibonacci number is 0\n",
    "    elif n == 1:\n",
    "        return 0\n",
    "    # Second Fibonacci number is 1\n",
    "    elif n == 2:\n",
    "        return 1\n",
    "    else:\n",
    "        return Fibonacci(n-1)+Fibonacci(n-2)"
   ]
  },
  {
   "cell_type": "code",
   "execution_count": 11,
   "id": "e4b7b23e",
   "metadata": {},
   "outputs": [
    {
     "name": "stdout",
     "output_type": "stream",
     "text": [
      "5\n"
     ]
    }
   ],
   "source": [
    "print(Fibonacci(6))"
   ]
  },
  {
   "cell_type": "markdown",
   "id": "01507d66",
   "metadata": {},
   "source": [
    "2. Python Program for How to check if a given number is Fibonacci number?"
   ]
  },
  {
   "cell_type": "code",
   "execution_count": 13,
   "id": "21f794bb",
   "metadata": {},
   "outputs": [],
   "source": [
    "import math"
   ]
  },
  {
   "cell_type": "code",
   "execution_count": 16,
   "id": "c130cb1b",
   "metadata": {},
   "outputs": [
    {
     "name": "stdout",
     "output_type": "stream",
     "text": [
      "1 is a Fibonacci Number\n",
      "2 is a Fibonacci Number\n",
      "3 is a Fibonacci Number\n",
      "4 is a not Fibonacci Number \n",
      "5 is a Fibonacci Number\n",
      "6 is a not Fibonacci Number \n",
      "7 is a not Fibonacci Number \n",
      "8 is a Fibonacci Number\n",
      "9 is a not Fibonacci Number \n",
      "10 is a not Fibonacci Number \n"
     ]
    }
   ],
   "source": [
    "def isPerfectSquare(x):\n",
    "    s = int(math.sqrt(x))\n",
    "    return s*s == x\n",
    " \n",
    "# Returns true if n is a Fibonacci Number, else false\n",
    "def isFibonacci(n):\n",
    " \n",
    "    # n is Fibonacci if one of 5*n*n + 4 or 5*n*n - 4 or both\n",
    "    # is a perfect square\n",
    "    return isPerfectSquare(5*n*n + 4) or isPerfectSquare(5*n*n - 4)\n",
    "    \n",
    "# A utility function to test above functions\n",
    "for i in range(1,11):\n",
    "     if (isFibonacci(i) == True):\n",
    "         print (i,\"is a Fibonacci Number\")\n",
    "     else:\n",
    "         print (i,\"is a not Fibonacci Number \")"
   ]
  },
  {
   "cell_type": "markdown",
   "id": "f974470d",
   "metadata": {},
   "source": [
    "3.Python Program for n\\’th multiple of a number in Fibonacci Series"
   ]
  },
  {
   "cell_type": "code",
   "execution_count": 18,
   "id": "efd894af",
   "metadata": {},
   "outputs": [],
   "source": [
    "def findPosition(k, n):\n",
    "    f1 = 0\n",
    "    f2 = 1\n",
    "    i =2;\n",
    "    while i!=0:\n",
    "        f3 = f1 + f2;\n",
    "        f1 = f2;\n",
    "        f2 = f3;\n",
    " \n",
    "        if f2%k == 0:\n",
    "            return n*i\n",
    " \n",
    "        i+=1\n",
    "         \n",
    "    return"
   ]
  },
  {
   "cell_type": "code",
   "execution_count": 22,
   "id": "dc04e89b",
   "metadata": {},
   "outputs": [],
   "source": [
    "n = 3;\n",
    "k = 2;"
   ]
  },
  {
   "cell_type": "code",
   "execution_count": 23,
   "id": "e37f54c2",
   "metadata": {},
   "outputs": [
    {
     "name": "stdout",
     "output_type": "stream",
     "text": [
      "Position of n'th multiple of k inFibonacci Series is 9\n"
     ]
    }
   ],
   "source": [
    "print(\"Position of n\\'th multiple of k in\"\n",
    "                \"Fibonacci Series is\", findPosition(k,n));"
   ]
  },
  {
   "cell_type": "markdown",
   "id": "1ad3f50f",
   "metadata": {},
   "source": [
    "4.Program to print ASCII Value of a character"
   ]
  },
  {
   "cell_type": "code",
   "execution_count": 26,
   "id": "14abc14a",
   "metadata": {},
   "outputs": [
    {
     "name": "stdout",
     "output_type": "stream",
     "text": [
      "Enter a String:  Suresh\n",
      "S \t 83\n",
      "u \t 117\n",
      "r \t 114\n",
      "e \t 101\n",
      "s \t 115\n",
      "h \t 104\n"
     ]
    }
   ],
   "source": [
    "print(\"Enter a String: \", end=\" \")\n",
    "text = input()\n",
    "textlength = len(text)\n",
    "for char in text:\n",
    "    ascii = ord(char)\n",
    "    print(char, \"\\t\", ascii)"
   ]
  },
  {
   "cell_type": "markdown",
   "id": "3485aee8",
   "metadata": {},
   "source": [
    "5.Python Program for Sum of squares of first n natural numbers"
   ]
  },
  {
   "cell_type": "code",
   "execution_count": 28,
   "id": "0641f9de",
   "metadata": {},
   "outputs": [],
   "source": [
    "def squaresum(n) :\n",
    "  \n",
    "    sm = 0\n",
    "    for i in range(1, n+1) :\n",
    "        sm = sm + (i * i)\n",
    "      \n",
    "    return sm\n"
   ]
  },
  {
   "cell_type": "code",
   "execution_count": 29,
   "id": "448f884f",
   "metadata": {},
   "outputs": [],
   "source": [
    "n = 4"
   ]
  },
  {
   "cell_type": "code",
   "execution_count": 30,
   "id": "cf346dcf",
   "metadata": {},
   "outputs": [
    {
     "name": "stdout",
     "output_type": "stream",
     "text": [
      "30\n"
     ]
    }
   ],
   "source": [
    "print(squaresum(n))"
   ]
  },
  {
   "cell_type": "code",
   "execution_count": null,
   "id": "8d0dd3a6",
   "metadata": {},
   "outputs": [],
   "source": [
    "6.Python Program for cube sum of first n natural numbers"
   ]
  },
  {
   "cell_type": "code",
   "execution_count": 32,
   "id": "1cb33d64",
   "metadata": {},
   "outputs": [],
   "source": [
    "def cubesum(n) :\n",
    "  \n",
    "    cm = 0\n",
    "    for i in range(1, n+1) :\n",
    "        cm += i*i*i\n",
    "      \n",
    "    return cm"
   ]
  },
  {
   "cell_type": "code",
   "execution_count": 33,
   "id": "d56d6fcc",
   "metadata": {},
   "outputs": [],
   "source": [
    "n = 5"
   ]
  },
  {
   "cell_type": "code",
   "execution_count": 34,
   "id": "ac9d7aa1",
   "metadata": {},
   "outputs": [
    {
     "name": "stdout",
     "output_type": "stream",
     "text": [
      "225\n"
     ]
    }
   ],
   "source": [
    "print(cubesum(n))"
   ]
  },
  {
   "cell_type": "markdown",
   "id": "5a2d4356",
   "metadata": {},
   "source": [
    "7.Python Program to find sum of array"
   ]
  },
  {
   "cell_type": "code",
   "execution_count": 37,
   "id": "fb60d80d",
   "metadata": {},
   "outputs": [
    {
     "name": "stdout",
     "output_type": "stream",
     "text": [
      "Sum of the array is  23\n"
     ]
    }
   ],
   "source": [
    "sm_arr=[]\n",
    "sm_arr=[1,3,5,14]\n",
    "a=sum(sm_arr)\n",
    "print(\"Sum of the array is \", a)"
   ]
  },
  {
   "cell_type": "markdown",
   "id": "1f83efd0",
   "metadata": {},
   "source": [
    "8.Python Program to find largest element in an array"
   ]
  },
  {
   "cell_type": "code",
   "execution_count": 39,
   "id": "241bb81b",
   "metadata": {},
   "outputs": [],
   "source": [
    "def largest(arr,n):\n",
    "  \n",
    "    max = arr[0]\n",
    "  \n",
    "    \n",
    "    for i in range(1, n):\n",
    "        if arr[i] > max:\n",
    "            max = arr[i]\n",
    "    return max\n",
    "  "
   ]
  },
  {
   "cell_type": "code",
   "execution_count": 40,
   "id": "ed7656df",
   "metadata": {},
   "outputs": [
    {
     "name": "stdout",
     "output_type": "stream",
     "text": [
      "Largest in given array is 9808\n"
     ]
    }
   ],
   "source": [
    "arr = [10, 324, 45, 90, 9808]\n",
    "n = len(arr)\n",
    "Ans = largest(arr,n)\n",
    "print (\"Largest in given array is\",Ans)"
   ]
  },
  {
   "cell_type": "markdown",
   "id": "d423a587",
   "metadata": {},
   "source": [
    "9.Python Program for array rotation"
   ]
  },
  {
   "cell_type": "code",
   "execution_count": 43,
   "id": "85e471f3",
   "metadata": {},
   "outputs": [],
   "source": [
    "def rotateArray(arr, n, d):\n",
    "    temp = []\n",
    "    i = 0\n",
    "    while (i < d):\n",
    "        temp.append(arr[i])\n",
    "        i = i + 1\n",
    "    i = 0\n",
    "    while (d < n):\n",
    "        arr[i] = arr[d]\n",
    "        i = i + 1\n",
    "        d = d + 1\n",
    "    arr[:] = arr[: i] + temp\n",
    "    return arr"
   ]
  },
  {
   "cell_type": "code",
   "execution_count": 45,
   "id": "9b5a12a9",
   "metadata": {},
   "outputs": [
    {
     "name": "stdout",
     "output_type": "stream",
     "text": [
      "Array after left rotation is:  [3, 4, 5, 6, 7, 1, 2]\n"
     ]
    }
   ],
   "source": [
    "arr = [1, 2, 3, 4, 5, 6, 7]\n",
    "print(\"Array after left rotation is: \", end=' ')\n",
    "print(rotateArray(arr, len(arr), 2))"
   ]
  },
  {
   "cell_type": "markdown",
   "id": "81ce2ebc",
   "metadata": {},
   "source": [
    "10.Python Program for Reversal algorithm for array rotation"
   ]
  },
  {
   "cell_type": "code",
   "execution_count": 51,
   "id": "c0e178f0",
   "metadata": {},
   "outputs": [],
   "source": [
    "def rverseArray(arr, start, end):\n",
    "    while (start < end):\n",
    "        temp = arr[start]\n",
    "        arr[start] = arr[end]\n",
    "        arr[end] = temp\n",
    "        start += 1\n",
    "        end = end-1"
   ]
  },
  {
   "cell_type": "code",
   "execution_count": 52,
   "id": "5b077413",
   "metadata": {},
   "outputs": [],
   "source": [
    "def leftRotate(arr, d):\n",
    "    n = len(arr)\n",
    "    rverseArray(arr, 0, d-1)\n",
    "    rverseArray(arr, d, n-1)\n",
    "    rverseArray(arr, 0, n-1)"
   ]
  },
  {
   "cell_type": "code",
   "execution_count": 53,
   "id": "d9097b2b",
   "metadata": {},
   "outputs": [],
   "source": [
    "def printArray(arr):\n",
    "    for i in range(0, len(arr)):\n",
    "        print (arr[i])"
   ]
  },
  {
   "cell_type": "code",
   "execution_count": 58,
   "id": "05aa492b",
   "metadata": {},
   "outputs": [
    {
     "name": "stdout",
     "output_type": "stream",
     "text": [
      "3\n",
      "4\n",
      "5\n",
      "6\n",
      "7\n",
      "1\n",
      "2\n"
     ]
    }
   ],
   "source": [
    "arr = [1, 2, 3, 4, 5, 6, 7]\n",
    "leftRotate(arr, 2) # Rotate array by 2\n",
    "printArray(arr)"
   ]
  },
  {
   "cell_type": "markdown",
   "id": "421b66e5",
   "metadata": {},
   "source": [
    "11.Python Program to Split the array and add the first part to the end"
   ]
  },
  {
   "cell_type": "code",
   "execution_count": 59,
   "id": "0a3ceb6e",
   "metadata": {},
   "outputs": [
    {
     "name": "stdout",
     "output_type": "stream",
     "text": [
      "5 6 52 36 12 10 "
     ]
    }
   ],
   "source": [
    "def splitArr(arr, n, k): \n",
    "    for i in range(0, k): \n",
    "        x = arr[0]\n",
    "        for j in range(0, n-1):\n",
    "            arr[j] = arr[j + 1]\n",
    "          \n",
    "        arr[n-1] = x\n",
    "          \n",
    "  \n",
    "# main\n",
    "arr = [12, 10, 5, 6, 52, 36]\n",
    "n = len(arr)\n",
    "position = 2\n",
    "  \n",
    "splitArr(arr, n, position)\n",
    "  \n",
    "for i in range(0, n): \n",
    "    print(arr[i], end = ' ')"
   ]
  },
  {
   "cell_type": "code",
   "execution_count": null,
   "id": "ee23ab8d",
   "metadata": {},
   "outputs": [],
   "source": []
  },
  {
   "cell_type": "code",
   "execution_count": null,
   "id": "a098d624",
   "metadata": {},
   "outputs": [],
   "source": []
  }
 ],
 "metadata": {
  "kernelspec": {
   "display_name": "Python 3 (ipykernel)",
   "language": "python",
   "name": "python3"
  },
  "language_info": {
   "codemirror_mode": {
    "name": "ipython",
    "version": 3
   },
   "file_extension": ".py",
   "mimetype": "text/x-python",
   "name": "python",
   "nbconvert_exporter": "python",
   "pygments_lexer": "ipython3",
   "version": "3.9.7"
  }
 },
 "nbformat": 4,
 "nbformat_minor": 5
}
