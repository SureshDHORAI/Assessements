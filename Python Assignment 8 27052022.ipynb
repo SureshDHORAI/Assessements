{
 "cells": [
  {
   "cell_type": "markdown",
   "id": "43c8d9d0",
   "metadata": {},
   "source": [
    "1. Python – Least Frequent Character in String"
   ]
  },
  {
   "cell_type": "code",
   "execution_count": 2,
   "id": "48761024",
   "metadata": {},
   "outputs": [
    {
     "name": "stdout",
     "output_type": "stream",
     "text": [
      "The original string is : SureshbadSuresh\n",
      "The minimum of all characters is : b\n"
     ]
    }
   ],
   "source": [
    "from collections import Counter\n",
    "\n",
    "test_str = \"SureshbadSuresh\"\n",
    "\n",
    "print (\"The original string is : \" + test_str)\n",
    "\n",
    "res = Counter(test_str)\n",
    "res = min(res, key = res.get) \n",
    " \n",
    "print (\"The minimum of all characters is : \" + str(res))"
   ]
  },
  {
   "cell_type": "markdown",
   "id": "aa798324",
   "metadata": {},
   "source": [
    "2.Python | Maximum frequency character in String"
   ]
  },
  {
   "cell_type": "code",
   "execution_count": 3,
   "id": "3dd6c127",
   "metadata": {},
   "outputs": [
    {
     "name": "stdout",
     "output_type": "stream",
     "text": [
      "The original string is : Suresh bad Suresh\n",
      "The maximum of all characters is : S\n"
     ]
    }
   ],
   "source": [
    "test_str = \"Suresh bad Suresh\"\n",
    "\n",
    "print (\"The original string is : \" + test_str)\n",
    "\n",
    "all_freq = {}\n",
    "for i in test_str:\n",
    "    if i in all_freq:\n",
    "        all_freq[i] += 1\n",
    "    else:\n",
    "        all_freq[i] = 1\n",
    "res = max(all_freq, key = all_freq.get) \n",
    "\n",
    "print (\"The maximum of all characters is : \" + str(res))"
   ]
  },
  {
   "cell_type": "markdown",
   "id": "5516fd1d",
   "metadata": {},
   "source": [
    "3.Python | Program to check if a string contains any special character"
   ]
  },
  {
   "cell_type": "code",
   "execution_count": 5,
   "id": "cf0d2e4c",
   "metadata": {},
   "outputs": [
    {
     "name": "stdout",
     "output_type": "stream",
     "text": [
      "Enter any string: Sure#sh\n",
      "The string contains special characters.\n"
     ]
    }
   ],
   "source": [
    "import re\n",
    "\n",
    "string = input('Enter any string: ')\n",
    "\n",
    "special_char = re.compile('[@_!#$%^&*()<>?/\\|}{~:]')\n",
    "\n",
    "if(special_char.search(string) == None):\n",
    "    print('String does not contain any special characters.')\n",
    "else:\n",
    "    print('The string contains special characters.')"
   ]
  },
  {
   "cell_type": "markdown",
   "id": "64a66f60",
   "metadata": {},
   "source": [
    "4.Generating random strings until a given string is generated"
   ]
  },
  {
   "cell_type": "code",
   "execution_count": 9,
   "id": "2544814d",
   "metadata": {},
   "outputs": [
    {
     "name": "stdout",
     "output_type": "stream",
     "text": [
      "9NA\n",
      "vSP\n",
      "BQ \n",
      "r7n\n",
      "OaD\n",
      "Rj1\n",
      "Kxi\n",
      "uaZ\n",
      "2zS\n",
      ".Ge\n",
      "Kiv\n",
      "tnE\n",
      "l03\n",
      "cju\n",
      "G:o\n",
      "LBL\n",
      "32E\n",
      "ApU\n",
      "IBa\n",
      ".pB\n",
      "Siq\n",
      "SFT\n",
      "S!H\n",
      "SBA\n",
      "SCR\n",
      "Se,\n",
      "S3B\n",
      "S.K\n",
      "S,3\n",
      "SHz\n",
      "SVO\n",
      "SIU\n",
      "St?\n",
      "SOr\n",
      "Ssr\n",
      "S3r\n",
      "Srr\n",
      "S0r\n",
      "Sbr\n",
      "Swr\n",
      "Smr\n",
      "Spr\n",
      "SBr\n",
      "SHr\n",
      "Ssr\n",
      "Syr\n",
      "SLr\n",
      "S5r\n",
      "SNr\n",
      "SHr\n",
      "S:r\n",
      "S1r\n",
      "S,r\n",
      "Smr\n",
      "S,r\n",
      "SQr\n",
      "Syr\n",
      "SCr\n",
      "S1r\n",
      "SVr\n",
      "Sqr\n",
      "S9r\n",
      "S6r\n",
      "S5r\n",
      "SEr\n",
      "S4r\n",
      "Sfr\n",
      "Sor\n",
      "SOr\n",
      "SWr\n",
      "SRr\n",
      "SMr\n",
      "Sor\n",
      "Sar\n",
      "S?r\n",
      "Sar\n",
      "Sqr\n",
      "S!r\n",
      "Swr\n",
      "SDr\n",
      "Syr\n",
      "SYr\n",
      "S?r\n",
      "Sar\n",
      "Smr\n",
      "S,r\n",
      "S!r\n",
      "Syr\n",
      "SWr\n",
      "Swr\n",
      "S3r\n",
      "SWr\n",
      "S;r\n",
      "Ser\n",
      "SXr\n",
      "Sbr\n",
      "S r\n",
      "SSr\n",
      "Smr\n",
      "SPr\n",
      "S?r\n",
      "SZr\n",
      "SUr\n",
      "S4r\n",
      "SQr\n",
      "SLr\n",
      "SKr\n",
      "SFr\n",
      "SFr\n",
      "Smr\n",
      "Sbr\n",
      "SXr\n",
      "S;r\n",
      "SBr\n",
      "S:r\n",
      "Sqr\n",
      "SEr\n",
      "S3r\n",
      "S4r\n",
      "SOr\n",
      "Ser\n",
      "SCr\n",
      "Swr\n",
      "S;r\n",
      "SIr\n",
      "Slr\n",
      "Ser\n",
      "S r\n",
      "Ser\n",
      "S.r\n",
      "S2r\n",
      "Str\n",
      "Smr\n",
      "Sbr\n",
      "Sor\n",
      "Sar\n",
      "S1r\n",
      "SRr\n",
      "SUr\n",
      "Sor\n",
      "S3r\n",
      "SJr\n",
      "Syr\n",
      "S;r\n",
      "Sjr\n",
      "SSr\n",
      "SUr\n",
      "Sjr\n",
      "SUr\n",
      "SGr\n",
      "SBr\n",
      "Smr\n",
      "S0r\n",
      "Sgr\n",
      "Sar\n",
      "S!r\n",
      "SQr\n",
      "Szr\n",
      "S3r\n",
      "S1r\n",
      "Shr\n",
      "S9r\n",
      "SLr\n",
      "Swr\n",
      "SSr\n",
      "Szr\n",
      "Srr\n",
      "Sqr\n",
      "Skr\n",
      "SWr\n",
      "Sxr\n",
      "Sgr\n",
      "Skr\n",
      "Smr\n",
      "S0r\n",
      "S9r\n",
      "Sar\n",
      "S0r\n",
      "SMr\n",
      "Shr\n",
      "SLr\n",
      "Syr\n",
      "SNr\n",
      "SQr\n",
      "SYr\n",
      "SOr\n",
      "Sqr\n",
      "SHr\n",
      "S;r\n",
      "SRr\n",
      "SXr\n",
      "S r\n",
      "Syr\n",
      "Sur\n",
      "Target matched after 194 iterations\n"
     ]
    }
   ],
   "source": [
    "import string\n",
    "import random\n",
    "import time\n",
    "\n",
    "possibleCharacters = string.ascii_lowercase + string.digits + string.ascii_uppercase + ' ., !?;:'\n",
    "\n",
    "t = \"Sur\"\n",
    "\n",
    "attemptThis = ''.join(random.choice(possibleCharacters)\n",
    "                                for i in range(len(t)))\n",
    "attemptNext = ''\n",
    "  \n",
    "completed = False\n",
    "iteration = 0\n",
    "\n",
    "while completed == False:\n",
    "    print(attemptThis)\n",
    "      \n",
    "    attemptNext = ''\n",
    "    completed = True\n",
    "\n",
    "    for i in range(len(t)):\n",
    "        if attemptThis[i] != t[i]:\n",
    "            completed = False\n",
    "            attemptNext += random.choice(possibleCharacters)\n",
    "        else:\n",
    "            attemptNext += t[i]\n",
    "\n",
    "    iteration += 1\n",
    "    attemptThis = attemptNext\n",
    "    time.sleep(0.1)\n",
    "\n",
    "print(\"Target matched after \" +\n",
    "      str(iteration) + \" iterations\")"
   ]
  },
  {
   "cell_type": "markdown",
   "id": "5e1006be",
   "metadata": {},
   "source": [
    "5. Find words which are greater than given length k"
   ]
  },
  {
   "cell_type": "code",
   "execution_count": 11,
   "id": "32b3442f",
   "metadata": {},
   "outputs": [
    {
     "name": "stdout",
     "output_type": "stream",
     "text": [
      "Adhrith\n",
      "good\n"
     ]
    }
   ],
   "source": [
    "def word_k(k, s):    \n",
    "   \n",
    "    word = s.split(\" \")\n",
    "  \n",
    "    for x in word:\n",
    "       \n",
    "        if len(x)>k:\n",
    "         \n",
    "          print(x)\n",
    "k = 3\n",
    "s =\"Adhrith is good\"\n",
    "word_k(k, s)"
   ]
  },
  {
   "cell_type": "markdown",
   "id": "bd15c5fd",
   "metadata": {},
   "source": [
    "6.Python program for removing i-th character from a string"
   ]
  },
  {
   "cell_type": "code",
   "execution_count": 14,
   "id": "9d245c93",
   "metadata": {},
   "outputs": [
    {
     "name": "stdout",
     "output_type": "stream",
     "text": [
      "SuresForSabari\n"
     ]
    }
   ],
   "source": [
    "def remove(string, i): \n",
    "\n",
    "    a = string[ : i] \n",
    "\n",
    "    b = string[i + 1: ]\n",
    "\n",
    "    return a + b\n",
    "\n",
    "if __name__ == '__main__':\n",
    "      \n",
    "    string = \"SureshForSabari\"\n",
    "\n",
    "    i = 5\n",
    "\n",
    "    print(remove(string, i))"
   ]
  },
  {
   "cell_type": "markdown",
   "id": "62b54914",
   "metadata": {},
   "source": [
    "7.Python program to split and join a string"
   ]
  },
  {
   "cell_type": "code",
   "execution_count": 15,
   "id": "ad65a6d3",
   "metadata": {},
   "outputs": [
    {
     "name": "stdout",
     "output_type": "stream",
     "text": [
      "['Suresh', 'For', 'Sabari']\n",
      "Suresh-For-Sabari\n"
     ]
    }
   ],
   "source": [
    "def split_string(string):\n",
    "\n",
    "    list_string = string.split(' ')\n",
    "      \n",
    "    return list_string\n",
    "  \n",
    "def join_string(list_string):\n",
    "\n",
    "    string = '-'.join(list_string)\n",
    "      \n",
    "    return string\n",
    "\n",
    "if __name__ == '__main__':\n",
    "    string = 'Suresh For Sabari'\n",
    "\n",
    "    list_string = split_string(string)\n",
    "    print(list_string)\n",
    "\n",
    "    new_string = join_string(list_string)\n",
    "    print(new_string)"
   ]
  },
  {
   "cell_type": "markdown",
   "id": "58622f19",
   "metadata": {},
   "source": [
    "8.Python | Check if a given string is binary string or not"
   ]
  },
  {
   "cell_type": "code",
   "execution_count": 16,
   "id": "283a76c2",
   "metadata": {},
   "outputs": [
    {
     "name": "stdout",
     "output_type": "stream",
     "text": [
      "No\n"
     ]
    }
   ],
   "source": [
    "def check(string) :\n",
    "\n",
    "    p = set(string)\n",
    "\n",
    "    s = {'0', '1'}\n",
    " \n",
    "    if s == p or p == {'0'} or p == {'1'}:\n",
    "        print(\"Yes\")\n",
    "    else :\n",
    "        print(\"No\")\n",
    "\n",
    "if __name__ == \"__main__\" :\n",
    " \n",
    "    string = \"10221222322111000\"\n",
    "\n",
    "    check(string)"
   ]
  },
  {
   "cell_type": "markdown",
   "id": "38289c97",
   "metadata": {},
   "source": [
    "9.Python program to find uncommon words from two Strings"
   ]
  },
  {
   "cell_type": "code",
   "execution_count": 17,
   "id": "a19eee92",
   "metadata": {},
   "outputs": [
    {
     "name": "stdout",
     "output_type": "stream",
     "text": [
      " apple fruits\n"
     ]
    }
   ],
   "source": [
    "def uncommon(a,b):\n",
    "    list_a = a.split()\n",
    "    list_b = b.split()\n",
    "    uc = ''\n",
    "    for i in list_a:\n",
    "        if i not in list_b:\n",
    "            uc = uc+\" \"+i\n",
    "    for j in list_b:\n",
    "        if j not in list_a:\n",
    "            uc = uc+\" \"+j\n",
    "  \n",
    "    return uc\n",
    "\n",
    "a = \"apple banana mango\"\n",
    "b = \"banana fruits mango\"\n",
    "print(uncommon(a,b))"
   ]
  },
  {
   "cell_type": "markdown",
   "id": "a0b308f0",
   "metadata": {},
   "source": [
    "10.Python – Replace duplicate Occurrence in String"
   ]
  },
  {
   "cell_type": "code",
   "execution_count": null,
   "id": "1b2aab74",
   "metadata": {},
   "outputs": [],
   "source": []
  },
  {
   "cell_type": "code",
   "execution_count": null,
   "id": "453f5743",
   "metadata": {},
   "outputs": [],
   "source": []
  },
  {
   "cell_type": "code",
   "execution_count": null,
   "id": "cfe79be1",
   "metadata": {},
   "outputs": [],
   "source": []
  },
  {
   "cell_type": "code",
   "execution_count": null,
   "id": "5b800d6f",
   "metadata": {},
   "outputs": [],
   "source": []
  }
 ],
 "metadata": {
  "kernelspec": {
   "display_name": "Python 3 (ipykernel)",
   "language": "python",
   "name": "python3"
  },
  "language_info": {
   "codemirror_mode": {
    "name": "ipython",
    "version": 3
   },
   "file_extension": ".py",
   "mimetype": "text/x-python",
   "name": "python",
   "nbconvert_exporter": "python",
   "pygments_lexer": "ipython3",
   "version": "3.9.7"
  }
 },
 "nbformat": 4,
 "nbformat_minor": 5
}
