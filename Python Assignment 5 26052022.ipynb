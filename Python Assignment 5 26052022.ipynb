{
 "cells": [
  {
   "cell_type": "markdown",
   "id": "9bc33113",
   "metadata": {},
   "source": [
    "1.Python program to print all negative numbers in a range"
   ]
  },
  {
   "cell_type": "code",
   "execution_count": 1,
   "id": "fea5019d",
   "metadata": {},
   "outputs": [
    {
     "name": "stdout",
     "output_type": "stream",
     "text": [
      "Enter the start of range: -22\n",
      "Enter the end of range: 99\n",
      "-22 -21 -20 -19 -18 -17 -16 -15 -14 -13 -12 -11 -10 -9 -8 -7 -6 -5 -4 -3 -2 -1 "
     ]
    }
   ],
   "source": [
    "start = int(input(\"Enter the start of range: \"))\n",
    "end = int(input(\"Enter the end of range: \"))\n",
    "  \n",
    "for num in range(start, end + 1):\n",
    "    \n",
    "    if num < 0:\n",
    "        print(num, end = \" \")"
   ]
  },
  {
   "cell_type": "markdown",
   "id": "88d92d0a",
   "metadata": {},
   "source": [
    "2.Remove multiple elements from a list in Python"
   ]
  },
  {
   "cell_type": "code",
   "execution_count": 5,
   "id": "f86d06d4",
   "metadata": {},
   "outputs": [],
   "source": [
    "list1 = [11, 5, 17, 18, 23, 50]"
   ]
  },
  {
   "cell_type": "code",
   "execution_count": 6,
   "id": "614cbbac",
   "metadata": {},
   "outputs": [
    {
     "name": "stdout",
     "output_type": "stream",
     "text": [
      "New list after removing all even numbers:  [11, 5, 17, 18, 23, 50]\n",
      "New list after removing all even numbers:  [11, 5, 17, 18, 23, 50]\n",
      "New list after removing all even numbers:  [11, 5, 17, 18, 23, 50]\n",
      "New list after removing all even numbers:  [11, 5, 17, 23, 50]\n",
      "New list after removing all even numbers:  [11, 5, 17, 23]\n"
     ]
    }
   ],
   "source": [
    "for ele in list1:\n",
    "    if ele % 2 == 0:\n",
    "        list1.remove(ele)\n",
    "    print(\"New list after removing all even numbers: \", list1)"
   ]
  },
  {
   "cell_type": "markdown",
   "id": "5c87c482",
   "metadata": {},
   "source": [
    "3.write a Python program to Remove empty List from List"
   ]
  },
  {
   "cell_type": "code",
   "execution_count": 8,
   "id": "cea61916",
   "metadata": {},
   "outputs": [
    {
     "name": "stdout",
     "output_type": "stream",
     "text": [
      "The original list is : [5, 6, [], 3, [], [], 9]\n",
      "List after empty list removal : [5, 6, 3, 9]\n"
     ]
    }
   ],
   "source": [
    "list2 = [5, 6, [], 3, [], [], 9]\n",
    "print(\"The original list is : \" + str(list2))\n",
    "\n",
    "res = list(filter(None, list2))\n",
    "\n",
    "print(\"List after empty list removal : \" + str(res))"
   ]
  },
  {
   "cell_type": "code",
   "execution_count": null,
   "id": "c02f7880",
   "metadata": {},
   "outputs": [],
   "source": [
    "4.write a Python program to Cloning or Copying a list"
   ]
  },
  {
   "cell_type": "code",
   "execution_count": 10,
   "id": "8111e107",
   "metadata": {},
   "outputs": [
    {
     "name": "stdout",
     "output_type": "stream",
     "text": [
      "Original List: [2, 3, 2, 11, 18, 119]\n",
      "After Cloning: [2, 3, 2, 11, 18, 119]\n"
     ]
    }
   ],
   "source": [
    "def Cloning(list3):\n",
    "    li_copy = []\n",
    "    li_copy.extend(list3)\n",
    "    return li_copy\n",
    "\n",
    "list3 = [2, 3, 2, 11, 18, 119]\n",
    "list4 = Cloning(list3)\n",
    "print(\"Original List:\", list3)\n",
    "print(\"After Cloning:\", list4)"
   ]
  },
  {
   "cell_type": "markdown",
   "id": "846de485",
   "metadata": {},
   "source": [
    "5.write a Python program to Count occurrences of an element in a list"
   ]
  },
  {
   "cell_type": "code",
   "execution_count": 11,
   "id": "ab42ec15",
   "metadata": {},
   "outputs": [
    {
     "name": "stdout",
     "output_type": "stream",
     "text": [
      "8 has occurred 5 times\n"
     ]
    }
   ],
   "source": [
    "def countX(lst, x):\n",
    "    return lst.count(x)\n",
    " \n",
    "lst = [8, 6, 8, 10, 8, 20, 10, 8, 8]\n",
    "x = 8\n",
    "print('{} has occurred {} times'.format(x, countX(lst, x)))"
   ]
  },
  {
   "cell_type": "markdown",
   "id": "3bd1e205",
   "metadata": {},
   "source": [
    "6.write a Python program to Remove empty tuples from a list"
   ]
  },
  {
   "cell_type": "code",
   "execution_count": 21,
   "id": "4cd01ddb",
   "metadata": {},
   "outputs": [
    {
     "name": "stdout",
     "output_type": "stream",
     "text": [
      "[('ram', '15', '8'), ('laxman', 'sita'), ('krishna', 'akbar', '45'), ('', '')]\n"
     ]
    }
   ],
   "source": [
    "def Remove(tuples):\n",
    "    tuples = [t for t in tuples if t]\n",
    "    return tuples\n",
    "  \n",
    "tuples = [(), ('ram','15','8'), (), ('laxman', 'sita'),('krishna', 'akbar', '45'), ('',''),()]\n",
    "print (Remove(tuples))"
   ]
  },
  {
   "cell_type": "markdown",
   "id": "ae72c431",
   "metadata": {},
   "source": [
    "7. write a Python program to Program to print duplicates from a list of integers"
   ]
  },
  {
   "cell_type": "code",
   "execution_count": 24,
   "id": "76a5f310",
   "metadata": {},
   "outputs": [
    {
     "name": "stdout",
     "output_type": "stream",
     "text": [
      "Counter({1: 4, 2: 3, 5: 2, 9: 2, 3: 1, 4: 1, 6: 1, 7: 1, 8: 1})\n",
      "[1, 2, 5, 9]\n"
     ]
    }
   ],
   "source": [
    "from collections import Counter\n",
    "l1 = [1,2,1,2,3,4,5,1,1,2,5,6,7,8,9,9]\n",
    "d = Counter(l1)\n",
    "print(d)\n",
    " \n",
    "new_list = list([item for item in d if d[item]>1])\n",
    "print(new_list)"
   ]
  },
  {
   "cell_type": "markdown",
   "id": "1d758726",
   "metadata": {},
   "source": [
    "8.write a Python program to find Cumulative sum of a list"
   ]
  },
  {
   "cell_type": "code",
   "execution_count": 25,
   "id": "ac3e9b10",
   "metadata": {},
   "outputs": [
    {
     "name": "stdout",
     "output_type": "stream",
     "text": [
      "[10, 30, 60, 100, 150]\n"
     ]
    }
   ],
   "source": [
    "list=[10,20,30,40,50]\n",
    "new_list=[]\n",
    "j=0\n",
    "for i in range(0,len(list)):\n",
    "    j+=list[i]\n",
    "    new_list.append(j)\n",
    "     \n",
    "print(new_list)"
   ]
  },
  {
   "cell_type": "markdown",
   "id": "ecc7a132",
   "metadata": {},
   "source": [
    "9.write a Python program to Sum of number digits in List"
   ]
  },
  {
   "cell_type": "code",
   "execution_count": 28,
   "id": "e149d207",
   "metadata": {},
   "outputs": [
    {
     "name": "stdout",
     "output_type": "stream",
     "text": [
      "The original list is : [12, 67, 98, 34]\n",
      "List Integer Summation : [3]\n",
      "List Integer Summation : [3, 13]\n",
      "List Integer Summation : [3, 13, 17]\n",
      "List Integer Summation : [3, 13, 17, 7]\n"
     ]
    }
   ],
   "source": [
    "test_list = [12, 67, 98, 34]\n",
    " \n",
    "print(\"The original list is : \" + str(test_list))\n",
    "\n",
    "res = []\n",
    "for ele in test_list:\n",
    "    sum = 0\n",
    "    for digit in str(ele):\n",
    "        sum += int(digit)\n",
    "    res.append(sum)\n",
    "    print (\"List Integer Summation : \" + str(res))"
   ]
  },
  {
   "cell_type": "markdown",
   "id": "13a78e04",
   "metadata": {},
   "source": [
    "10.write a Python program to Break a list into chunks of size N"
   ]
  },
  {
   "cell_type": "code",
   "execution_count": 29,
   "id": "6a3b7f3f",
   "metadata": {},
   "outputs": [
    {
     "name": "stdout",
     "output_type": "stream",
     "text": [
      "[[1, 2, 3, 4], [5, 6, 7, 8], [9]]\n"
     ]
    }
   ],
   "source": [
    "Digit = [1, 2, 3, 4, 5, 6, 7, 8, 9]\n",
    "  \n",
    "n = 4 \n",
    " \n",
    "final = [Digit[i * n:(i + 1) * n] for i in range((len(Digit) + n - 1) // n )] \n",
    "print (final)"
   ]
  },
  {
   "cell_type": "markdown",
   "id": "c110849f",
   "metadata": {},
   "source": [
    "11. write a Python program to Sort the values of first list using second list"
   ]
  },
  {
   "cell_type": "code",
   "execution_count": 30,
   "id": "f3c326f6",
   "metadata": {},
   "outputs": [
    {
     "name": "stdout",
     "output_type": "stream",
     "text": [
      "['a', 'd', 'h', 'b', 'c', 'e', 'i', 'f', 'g']\n",
      "['g', 'k', 'r', 'e', 'e', 'g', 's', 'f', 'o']\n"
     ]
    }
   ],
   "source": [
    "def sort_list(list1, list2):\n",
    " \n",
    "    zipped_pairs = zip(list2, list1)\n",
    " \n",
    "    z = [x for _, x in sorted(zipped_pairs)]\n",
    "     \n",
    "    return z\n",
    "     \n",
    "x = [\"a\", \"b\", \"c\", \"d\", \"e\", \"f\", \"g\", \"h\", \"i\"]\n",
    "y = [ 0,   1,   1,    0,   1,   2,   2,   0,   1]\n",
    " \n",
    "print(sort_list(x, y))\n",
    " \n",
    "x = [\"g\", \"e\", \"e\", \"k\", \"s\", \"f\", \"o\", \"r\", \"g\", \"e\", \"e\", \"k\", \"s\"]\n",
    "y = [ 0,   1,   1,    0,   1,   2,   2,   0,   1]\n",
    " \n",
    "print(sort_list(x, y))"
   ]
  },
  {
   "cell_type": "code",
   "execution_count": null,
   "id": "dbe3fcfe",
   "metadata": {},
   "outputs": [],
   "source": []
  },
  {
   "cell_type": "code",
   "execution_count": null,
   "id": "6db53e71",
   "metadata": {},
   "outputs": [],
   "source": []
  },
  {
   "cell_type": "code",
   "execution_count": null,
   "id": "c861b9ad",
   "metadata": {},
   "outputs": [],
   "source": []
  },
  {
   "cell_type": "code",
   "execution_count": null,
   "id": "8433d314",
   "metadata": {},
   "outputs": [],
   "source": []
  },
  {
   "cell_type": "code",
   "execution_count": null,
   "id": "b46a5886",
   "metadata": {},
   "outputs": [],
   "source": []
  },
  {
   "cell_type": "code",
   "execution_count": null,
   "id": "f9010e86",
   "metadata": {},
   "outputs": [],
   "source": []
  },
  {
   "cell_type": "code",
   "execution_count": null,
   "id": "c781e747",
   "metadata": {},
   "outputs": [],
   "source": []
  },
  {
   "cell_type": "code",
   "execution_count": null,
   "id": "96658d1f",
   "metadata": {},
   "outputs": [],
   "source": []
  },
  {
   "cell_type": "code",
   "execution_count": null,
   "id": "b269fd99",
   "metadata": {},
   "outputs": [],
   "source": []
  },
  {
   "cell_type": "code",
   "execution_count": null,
   "id": "216c4696",
   "metadata": {},
   "outputs": [],
   "source": []
  }
 ],
 "metadata": {
  "kernelspec": {
   "display_name": "Python 3 (ipykernel)",
   "language": "python",
   "name": "python3"
  },
  "language_info": {
   "codemirror_mode": {
    "name": "ipython",
    "version": 3
   },
   "file_extension": ".py",
   "mimetype": "text/x-python",
   "name": "python",
   "nbconvert_exporter": "python",
   "pygments_lexer": "ipython3",
   "version": "3.9.7"
  }
 },
 "nbformat": 4,
 "nbformat_minor": 5
}
