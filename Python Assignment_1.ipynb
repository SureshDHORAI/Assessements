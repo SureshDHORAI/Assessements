{
 "cells": [
  {
   "cell_type": "markdown",
   "id": "13e80b9d",
   "metadata": {},
   "source": [
    "1. Write a Python program to find those numbers which are divisible by 7\n",
    "and multiple of 5, between 1500 and 2700 (both included)."
   ]
  },
  {
   "cell_type": "code",
   "execution_count": 2,
   "id": "614050e2",
   "metadata": {},
   "outputs": [
    {
     "name": "stdout",
     "output_type": "stream",
     "text": [
      "1505,1540,1575,1610,1645,1680,1715,1750,1785,1820,1855,1890,1925,1960,1995,2030,2065,2100,2135,2170,2205,2240,2275,2310,2345,2380,2415,2450,2485,2520,2555,2590,2625,2660,2695\n"
     ]
    }
   ],
   "source": [
    "nl=[]\n",
    "for e in range(1500, 2701):\n",
    "    if (e%7==0) and (e%5==0):\n",
    "        nl.append(str(e))\n",
    "print (','.join(nl))"
   ]
  },
  {
   "cell_type": "markdown",
   "id": "209a8b5a",
   "metadata": {},
   "source": [
    "2.Python program to add two numbers"
   ]
  },
  {
   "cell_type": "code",
   "execution_count": 12,
   "id": "967872bf",
   "metadata": {},
   "outputs": [
    {
     "name": "stdout",
     "output_type": "stream",
     "text": [
      "25\n"
     ]
    }
   ],
   "source": [
    "a=10\n",
    "b=15\n",
    "c=a+b\n",
    "print(c)"
   ]
  },
  {
   "cell_type": "markdown",
   "id": "924d7980",
   "metadata": {},
   "source": [
    "3.Maximum of two numbers in Python"
   ]
  },
  {
   "cell_type": "code",
   "execution_count": 17,
   "id": "34087a2e",
   "metadata": {},
   "outputs": [
    {
     "data": {
      "text/plain": [
       "45"
      ]
     },
     "execution_count": 17,
     "metadata": {},
     "output_type": "execute_result"
    }
   ],
   "source": [
    "f=[35,45]\n",
    "max(f)"
   ]
  },
  {
   "cell_type": "markdown",
   "id": "5aab11da",
   "metadata": {},
   "source": [
    "4.Python Program for factorial of a number"
   ]
  },
  {
   "cell_type": "code",
   "execution_count": null,
   "id": "45e1668b",
   "metadata": {},
   "outputs": [],
   "source": []
  },
  {
   "cell_type": "markdown",
   "id": "f4308cc5",
   "metadata": {},
   "source": [
    "5.Python Program for simple interest"
   ]
  },
  {
   "cell_type": "code",
   "execution_count": 26,
   "id": "7e9edb14",
   "metadata": {},
   "outputs": [
    {
     "name": "stdout",
     "output_type": "stream",
     "text": [
      "The principal is10\n",
      "The time period is2\n",
      "The rate of interest is5\n",
      "1.0\n"
     ]
    }
   ],
   "source": [
    "P=int(input('The principal is', ))\n",
    "t=int(input('The time period is', ))\n",
    "r=int(input('The rate of interest is', ))\n",
    "SI=((P*t*r)/100)\n",
    "print(SI)\n"
   ]
  },
  {
   "cell_type": "markdown",
   "id": "e4665fd1",
   "metadata": {},
   "source": [
    "6.Python Program for compound interest"
   ]
  },
  {
   "cell_type": "code",
   "execution_count": 45,
   "id": "87bac8ea",
   "metadata": {},
   "outputs": [
    {
     "name": "stdout",
     "output_type": "stream",
     "text": [
      "The principal is10\n",
      "The time period is2\n",
      "The rate of interest is5\n",
      "11.025\n"
     ]
    }
   ],
   "source": [
    "P=float(input('The principal is', ))\n",
    "t=float(input('The time period is', ))\n",
    "r=float(input('The rate of interest is', ))\n",
    "CI=(P*(pow((1+r/100),t)))\n",
    "print(CI)"
   ]
  },
  {
   "cell_type": "markdown",
   "id": "1cc4e0bb",
   "metadata": {},
   "source": [
    "8.Python Program for Program to find area of a circle"
   ]
  },
  {
   "cell_type": "code",
   "execution_count": 50,
   "id": "01bc9c4f",
   "metadata": {},
   "outputs": [
    {
     "name": "stdout",
     "output_type": "stream",
     "text": [
      "Please enter the radius of the given circle: 3\n",
      " The area of the given circle is:  28.259999999999998\n"
     ]
    }
   ],
   "source": [
    "pie = 3.14  \n",
    "Radius = float (input (\"Please enter the radius of the given circle: \"))  \n",
    "Circle_area = pie * Radius * Radius  \n",
    "print (\" The area of the given circle is: \", Circle_area)"
   ]
  },
  {
   "cell_type": "markdown",
   "id": "4af06e26",
   "metadata": {},
   "source": [
    "10.Python program to check whether a number is Prime or not"
   ]
  },
  {
   "cell_type": "code",
   "execution_count": 49,
   "id": "9bb9cf51",
   "metadata": {},
   "outputs": [
    {
     "name": "stdout",
     "output_type": "stream",
     "text": [
      "Enter any number: 23\n",
      "23 is a prime number\n"
     ]
    }
   ],
   "source": [
    "no= int(input(\"Enter any number: \"))\n",
    "if no > 1:\n",
    "    for i in range(2, no):\n",
    "        if (no % i) == 0:\n",
    "            print(no, \"is not a prime number\")\n",
    "            break\n",
    "    else:\n",
    "        print(no, \"is a prime number\")"
   ]
  },
  {
   "cell_type": "code",
   "execution_count": null,
   "id": "b252abcc",
   "metadata": {},
   "outputs": [],
   "source": []
  },
  {
   "cell_type": "code",
   "execution_count": null,
   "id": "ff9040a8",
   "metadata": {},
   "outputs": [],
   "source": []
  },
  {
   "cell_type": "code",
   "execution_count": null,
   "id": "252237ee",
   "metadata": {},
   "outputs": [],
   "source": []
  },
  {
   "cell_type": "code",
   "execution_count": null,
   "id": "89c8ff68",
   "metadata": {},
   "outputs": [],
   "source": []
  },
  {
   "cell_type": "code",
   "execution_count": null,
   "id": "cf4bdd53",
   "metadata": {},
   "outputs": [],
   "source": []
  },
  {
   "cell_type": "code",
   "execution_count": null,
   "id": "7f51b0a9",
   "metadata": {},
   "outputs": [],
   "source": []
  },
  {
   "cell_type": "code",
   "execution_count": null,
   "id": "d56b3c5f",
   "metadata": {},
   "outputs": [],
   "source": []
  },
  {
   "cell_type": "code",
   "execution_count": null,
   "id": "c1c37418",
   "metadata": {},
   "outputs": [],
   "source": []
  },
  {
   "cell_type": "code",
   "execution_count": null,
   "id": "cf1caaaf",
   "metadata": {},
   "outputs": [],
   "source": []
  },
  {
   "cell_type": "code",
   "execution_count": null,
   "id": "002b17b0",
   "metadata": {},
   "outputs": [],
   "source": []
  },
  {
   "cell_type": "code",
   "execution_count": null,
   "id": "f29fb397",
   "metadata": {},
   "outputs": [],
   "source": []
  },
  {
   "cell_type": "code",
   "execution_count": null,
   "id": "17a6f79e",
   "metadata": {},
   "outputs": [],
   "source": []
  },
  {
   "cell_type": "code",
   "execution_count": null,
   "id": "1507d9bc",
   "metadata": {},
   "outputs": [],
   "source": []
  },
  {
   "cell_type": "code",
   "execution_count": null,
   "id": "0a981ce3",
   "metadata": {},
   "outputs": [],
   "source": []
  },
  {
   "cell_type": "code",
   "execution_count": null,
   "id": "bca23ba1",
   "metadata": {},
   "outputs": [],
   "source": []
  },
  {
   "cell_type": "code",
   "execution_count": null,
   "id": "4d750398",
   "metadata": {},
   "outputs": [],
   "source": []
  },
  {
   "cell_type": "code",
   "execution_count": null,
   "id": "e2126083",
   "metadata": {},
   "outputs": [],
   "source": []
  },
  {
   "cell_type": "code",
   "execution_count": null,
   "id": "4b0f1f23",
   "metadata": {},
   "outputs": [],
   "source": []
  },
  {
   "cell_type": "code",
   "execution_count": null,
   "id": "68ba78dc",
   "metadata": {},
   "outputs": [],
   "source": []
  },
  {
   "cell_type": "code",
   "execution_count": null,
   "id": "c97356cc",
   "metadata": {},
   "outputs": [],
   "source": []
  },
  {
   "cell_type": "code",
   "execution_count": null,
   "id": "236a959b",
   "metadata": {},
   "outputs": [],
   "source": []
  }
 ],
 "metadata": {
  "kernelspec": {
   "display_name": "Python 3 (ipykernel)",
   "language": "python",
   "name": "python3"
  },
  "language_info": {
   "codemirror_mode": {
    "name": "ipython",
    "version": 3
   },
   "file_extension": ".py",
   "mimetype": "text/x-python",
   "name": "python",
   "nbconvert_exporter": "python",
   "pygments_lexer": "ipython3",
   "version": "3.9.7"
  }
 },
 "nbformat": 4,
 "nbformat_minor": 5
}
