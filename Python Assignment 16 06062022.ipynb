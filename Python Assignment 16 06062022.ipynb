{
 "cells": [
  {
   "cell_type": "markdown",
   "id": "fc8c1aa4",
   "metadata": {},
   "source": [
    "1.Python Program for Cycle Sort"
   ]
  },
  {
   "cell_type": "code",
   "execution_count": 1,
   "id": "5afe9226",
   "metadata": {},
   "outputs": [
    {
     "name": "stdout",
     "output_type": "stream",
     "text": [
      "Sorted array is : \n",
      "1 3 3 4 4 5 5 6 8 "
     ]
    }
   ],
   "source": [
    "def cycleSort(array):\n",
    "   writes = 0\n",
    " \n",
    "   for cycleStart in range(0, len(array) - 1):\n",
    "      item = array[cycleStart]\n",
    " \n",
    "      pos = cycleStart\n",
    "      for i in range(cycleStart + 1, len(array)):\n",
    "         if array[i] < item:\n",
    "            pos += 1\n",
    "  \n",
    "      if pos == cycleStart:\n",
    "         continue\n",
    "   \n",
    "      while item == array[pos]:\n",
    "         pos += 1\n",
    "      array[pos], item = item, array[pos]\n",
    "      writes += 1\n",
    "  \n",
    "      while pos != cycleStart:\n",
    "    \n",
    "         pos = cycleStart\n",
    "         for i in range(cycleStart + 1, len(array)):\n",
    "            if array[i] < item:\n",
    "               pos += 1\n",
    "    \n",
    "         while item == array[pos]:\n",
    "            pos += 1\n",
    "         array[pos], item = item, array[pos]\n",
    "         writes += 1\n",
    "   return writes\n",
    "\n",
    "arr = [1,5,3,4,8,6,3,4,5]\n",
    "n = len(arr)\n",
    "cycleSort(arr)\n",
    "print(\"Sorted array is : \")\n",
    "for i in range(0, n) :\n",
    "   print(arr[i], end = \" \")"
   ]
  },
  {
   "cell_type": "markdown",
   "id": "332ef376",
   "metadata": {},
   "source": [
    "2.Python Program for Stooge Sort"
   ]
  },
  {
   "cell_type": "code",
   "execution_count": 4,
   "id": "bfce369b",
   "metadata": {},
   "outputs": [
    {
     "ename": "SyntaxError",
     "evalue": "unexpected character after line continuation character (Temp/ipykernel_14892/3796650860.py, line 25)",
     "output_type": "error",
     "traceback": [
      "\u001b[1;36m  File \u001b[1;32m\"C:\\Users\\dhoraisu\\AppData\\Local\\Temp/ipykernel_14892/3796650860.py\"\u001b[1;36m, line \u001b[1;32m25\u001b[0m\n\u001b[1;33m    print(arr[i], end = \\' \\')\u001b[0m\n\u001b[1;37m                             ^\u001b[0m\n\u001b[1;31mSyntaxError\u001b[0m\u001b[1;31m:\u001b[0m unexpected character after line continuation character\n"
     ]
    }
   ],
   "source": [
    "def stoogesort(arr, l, h):\n",
    "    if l >= h:\n",
    "        return\n",
    "\n",
    "    if arr[l]>arr[h]:\n",
    "        t = arr[l]\n",
    "        arr[l] = arr[h]\n",
    "        arr[h] = t\n",
    "\n",
    "    if h-l+1 > 2:\n",
    "        t = (int)((h-l+1)/3)\n",
    "\n",
    "        stoogesort(arr, l, (h-t))\n",
    "\n",
    "        stoogesort(arr, l+t, (h))\n",
    "\n",
    "        stoogesort(arr, l, (h-t))\n",
    "\n",
    "arr = [2, 4, 5, 3, 1]\n",
    "n = len(arr)\n",
    "  \n",
    "stoogesort(arr, 0, n-1)\n",
    "   \n",
    "for i in range(0, n):\n",
    "    print(arr[i], end = \\' \\')\n",
    "  "
   ]
  },
  {
   "cell_type": "markdown",
   "id": "d696ac78",
   "metadata": {},
   "source": [
    "3.Python Program to print the pattern ‘G’"
   ]
  },
  {
   "cell_type": "code",
   "execution_count": 6,
   "id": "b49a1eb4",
   "metadata": {},
   "outputs": [
    {
     "name": "stdout",
     "output_type": "stream",
     "text": [
      "Enter the size you want: \t15\n"
     ]
    },
    {
     "ename": "NameError",
     "evalue": "name 'size' is not defined",
     "output_type": "error",
     "traceback": [
      "\u001b[1;31m---------------------------------------------------------------------------\u001b[0m",
      "\u001b[1;31mNameError\u001b[0m                                 Traceback (most recent call last)",
      "\u001b[1;32m~\\AppData\\Local\\Temp/ipykernel_14892/1134444914.py\u001b[0m in \u001b[0;36m<module>\u001b[1;34m\u001b[0m\n\u001b[0;32m     16\u001b[0m \u001b[1;33m\u001b[0m\u001b[0m\n\u001b[0;32m     17\u001b[0m \u001b[0mn\u001b[0m \u001b[1;33m=\u001b[0m \u001b[0mint\u001b[0m\u001b[1;33m(\u001b[0m\u001b[0minput\u001b[0m\u001b[1;33m(\u001b[0m\u001b[1;34m\"Enter the size you want: \\t\"\u001b[0m\u001b[1;33m)\u001b[0m\u001b[1;33m)\u001b[0m\u001b[1;33m\u001b[0m\u001b[1;33m\u001b[0m\u001b[0m\n\u001b[1;32m---> 18\u001b[1;33m \u001b[1;32mif\u001b[0m \u001b[0msize\u001b[0m \u001b[1;33m<\u001b[0m \u001b[1;36m8\u001b[0m\u001b[1;33m:\u001b[0m\u001b[1;33m\u001b[0m\u001b[1;33m\u001b[0m\u001b[0m\n\u001b[0m\u001b[0;32m     19\u001b[0m     \u001b[0mprint\u001b[0m\u001b[1;33m(\u001b[0m\u001b[1;34m\"Enter a size greater than 8\"\u001b[0m\u001b[1;33m)\u001b[0m\u001b[1;33m\u001b[0m\u001b[1;33m\u001b[0m\u001b[0m\n\u001b[0;32m     20\u001b[0m \u001b[1;32melse\u001b[0m\u001b[1;33m:\u001b[0m\u001b[1;33m\u001b[0m\u001b[1;33m\u001b[0m\u001b[0m\n",
      "\u001b[1;31mNameError\u001b[0m: name 'size' is not defined"
     ]
    }
   ],
   "source": [
    "def pattern(n):\n",
    " \n",
    "    for row in range(n): \n",
    "     \n",
    "        for col in range(n): \n",
    "            if ((row == 0 and (col != 0 and col != n-1)) or               \n",
    "                (row == n - 1 and (col != 0 and col != n-1)) or                \n",
    "                ((col == 0 and (row != 0 and row != n-1)) or                 \n",
    "                 (col == n-1 and row != n-1 and row >= (n/2)-1)) or                \n",
    "                (row == (n/2)-1 and ((n/2)-1 <= col < n-1))\n",
    "            ):\n",
    "                print(\"*\", end=\" \")\n",
    "            else:\n",
    "                print(\" \", end=\" \")\n",
    "        print()\n",
    "\n",
    "n = int(input(\"Enter the size you want: \\t\"))\n",
    "if size < 8:\n",
    "    print(\"Enter a size greater than 8\")\n",
    "else:\n",
    "    pattern(n)"
   ]
  },
  {
   "cell_type": "markdown",
   "id": "dc7733fa",
   "metadata": {},
   "source": [
    "4.Python Program to print an Inverted Star Pattern"
   ]
  },
  {
   "cell_type": "code",
   "execution_count": 7,
   "id": "1ac7a56d",
   "metadata": {},
   "outputs": [
    {
     "name": "stdout",
     "output_type": "stream",
     "text": [
      "***********\n",
      " **********\n",
      "  *********\n",
      "   ********\n",
      "    *******\n",
      "     ******\n",
      "      *****\n",
      "       ****\n",
      "        ***\n",
      "         **\n",
      "          *\n"
     ]
    }
   ],
   "source": [
    "n=11\n",
    "\n",
    "for i in range (n, 0, -1):\n",
    "    print((n-i) * ' ' + i * '*')"
   ]
  },
  {
   "cell_type": "markdown",
   "id": "8c674aa4",
   "metadata": {},
   "source": [
    "5.Python Program to print double sided stair-case pattern"
   ]
  },
  {
   "cell_type": "code",
   "execution_count": 8,
   "id": "d83e2db9",
   "metadata": {},
   "outputs": [
    {
     "name": "stdout",
     "output_type": "stream",
     "text": [
      "                 *   * \n",
      "                 *   * \n",
      "             *   *   *   * \n",
      "             *   *   *   * \n",
      "         *   *   *   *   *   * \n",
      "         *   *   *   *   *   * \n",
      "     *   *   *   *   *   *   *   * \n",
      "     *   *   *   *   *   *   *   * \n",
      " *   *   *   *   *   *   *   *   *   * \n",
      " *   *   *   *   *   *   *   *   *   * \n"
     ]
    }
   ],
   "source": [
    "def pattern(n):\n",
    "\n",
    "    for i in range(1,n+1):\n",
    "\n",
    "        k =i + 1 if(i % 2 != 0) else i\n",
    "\n",
    "        for g in range(k,n):\n",
    "            if g>=k:\n",
    "                print(end=\"  \")\n",
    "\n",
    "        for j in range(0,k):\n",
    "            if j == k - 1:\n",
    "                print(\" * \")\n",
    "            else:\n",
    "                print(\" * \", end = \" \")\n",
    "\n",
    "n = 10\n",
    "pattern(n)"
   ]
  },
  {
   "cell_type": "markdown",
   "id": "aaf118d2",
   "metadata": {},
   "source": [
    "6.Python Program to print with your own font"
   ]
  },
  {
   "cell_type": "code",
   "execution_count": 9,
   "id": "c05f73ae",
   "metadata": {},
   "outputs": [
    {
     "name": "stdout",
     "output_type": "stream",
     "text": [
      "..######..\n",
      "..#.......\n",
      "..######.. \n",
      ".......#..\n",
      "..######..\n",
      "\n",
      "\n",
      "..#....#..\n",
      "..#....#..\n",
      "..#....#.. \n",
      "..#....#..\n",
      "..######..\n",
      "\n",
      "\n",
      "..######..\n",
      "..#....#..\n",
      "..#.##... \n",
      "..#...#...\n",
      "..#....#..\n",
      "\n",
      "\n",
      "..######..\n",
      "..#.......\n",
      "..#####... \n",
      "..#.......\n",
      "..######..\n",
      "\n",
      "\n",
      "..######..\n",
      "..#.......\n",
      "..######.. \n",
      ".......#..\n",
      "..######..\n",
      "\n",
      "\n",
      "..#....#..\n",
      "..#....#..\n",
      "..######.. \n",
      "..#....#..\n",
      "..#....#..\n",
      "\n",
      "\n"
     ]
    }
   ],
   "source": [
    "name = \"SURESH\"\n",
    "\n",
    " \n",
    "length = len(name)\n",
    "l = \"\"\n",
    " \n",
    "for x in range(0, length):\n",
    "    c = name[x]\n",
    "    c = c.upper()\n",
    "     \n",
    "    if (c == \"A\"):\n",
    "        print(\"..######..\\n..#....#..\\n..######..\", end = \" \")\n",
    "        print(\"\\n..#....#..\\n..#....#..\\n\\n\")\n",
    "         \n",
    "    elif (c == \"B\"):\n",
    "        print(\"..######..\\n..#....#..\\n..#####...\", end = \" \")\n",
    "        print(\"\\n..#....#..\\n..######..\\n\\n\")\n",
    "         \n",
    "    elif (c == \"C\"):\n",
    "        print(\"..######..\\n..#.......\\n..#.......\", end = \" \")\n",
    "        print(\"\\n..#.......\\n..######..\\n\\n\")\n",
    "         \n",
    "    elif (c == \"D\"):\n",
    "        print(\"..#####...\\n..#....#..\\n..#....#..\", end = \" \")\n",
    "        print(\"\\n..#....#..\\n..#####...\\n\\n\")\n",
    "         \n",
    "    elif (c == \"E\"):\n",
    "        print(\"..######..\\n..#.......\\n..#####...\", end = \" \")\n",
    "        print(\"\\n..#.......\\n..######..\\n\\n\")\n",
    "         \n",
    "    elif (c == \"F\"):\n",
    "        print(\"..######..\\n..#.......\\n..#####...\", end = \" \")\n",
    "        print(\"\\n..#.......\\n..#.......\\n\\n\")\n",
    "         \n",
    "    elif (c == \"G\"):\n",
    "        print(\"..######..\\n..#.......\\n..#.####..\", end = \" \")\n",
    "        print(\"\\n..#....#..\\n..#####...\\n\\n\")\n",
    "         \n",
    "    elif (c == \"H\"):\n",
    "        print(\"..#....#..\\n..#....#..\\n..######..\", end = \" \")\n",
    "        print(\"\\n..#....#..\\n..#....#..\\n\\n\")\n",
    "         \n",
    "    elif (c == \"I\"):\n",
    "        print(\"..######..\\n....##....\\n....##....\", end = \" \")\n",
    "        print(\"\\n....##....\\n..######..\\n\\n\")\n",
    "         \n",
    "    elif (c == \"J\"):\n",
    "        print(\"..######..\\n....##....\\n....##....\", end = \" \")\n",
    "        print(\"\\n..#.##....\\n..####....\\n\\n\")\n",
    "         \n",
    "    elif (c == \"K\"):\n",
    "        print(\"..#...#...\\n..#..#....\\n..##......\", end = \" \")\n",
    "        print(\"\\n..#..#....\\n..#...#...\\n\\n\")\n",
    "         \n",
    "    elif (c == \"L\"):\n",
    "        print(\"..#.......\\n..#.......\\n..#.......\", end = \" \")\n",
    "        print(\"\\n..#.......\\n..######..\\n\\n\")\n",
    "         \n",
    "    elif (c == \"M\"):\n",
    "        print(\"..#....#..\\n..##..##..\\n..#.##.#..\", end = \" \")\n",
    "        print(\"\\n..#....#..\\n..#....#..\\n\\n\")\n",
    "         \n",
    "    elif (c == \"N\"):\n",
    "        print(\"..#....#..\\n..##...#..\\n..#.#..#..\", end = \" \")\n",
    "        print(\"\\n..#..#.#..\\n..#...##..\\n\\n\")\n",
    "         \n",
    "    elif (c == \"O\"):\n",
    "        print(\"..######..\\n..#....#..\\n..#....#..\", end = \" \")\n",
    "        print(\"\\n..#....#..\\n..######..\\n\\n\")\n",
    "         \n",
    "    elif (c == \"P\"):\n",
    "        print(\"..######..\\n..#....#..\\n..######..\", end = \" \")\n",
    "        print(\"\\n..#.......\\n..#.......\\n\\n\")\n",
    "         \n",
    "    elif (c == \"Q\"):\n",
    "        print(\"..######..\\n..#....#..\\n..#.#..#..\", end = \" \")\n",
    "        print(\"\\n..#..#.#..\\n..######..\\n\\n\")\n",
    "         \n",
    "    elif (c == \"R\"):\n",
    "        print(\"..######..\\n..#....#..\\n..#.##...\", end = \" \")\n",
    "        print(\"\\n..#...#...\\n..#....#..\\n\\n\")\n",
    "         \n",
    "    elif (c == \"S\"):\n",
    "        print(\"..######..\\n..#.......\\n..######..\", end = \" \")\n",
    "        print(\"\\n.......#..\\n..######..\\n\\n\")\n",
    "         \n",
    "    elif (c == \"T\"):\n",
    "        print(\"..######..\\n....##....\\n....##....\", end = \" \")\n",
    "        print(\"\\n....##....\\n....##....\\n\\n\")\n",
    "         \n",
    "    elif (c == \"U\"):\n",
    "        print(\"..#....#..\\n..#....#..\\n..#....#..\", end = \" \")\n",
    "        print(\"\\n..#....#..\\n..######..\\n\\n\")\n",
    "         \n",
    "    elif (c == \"V\"):\n",
    "        print(\"..#....#..\\n..#....#..\\n..#....#..\", end = \" \")\n",
    "        print(\"\\n...#..#...\\n....##....\\n\\n\")\n",
    "         \n",
    "    elif (c == \"W\"):\n",
    "        print(\"..#....#..\\n..#....#..\\n..#.##.#..\", end = \" \")\n",
    "        print(\"\\n..##..##..\\n..#....#..\\n\\n\")\n",
    "         \n",
    "    elif (c == \"X\"):\n",
    "        print(\"..#....#..\\n...#..#...\\n....##....\", end = \" \")\n",
    "        print(\"\\n...#..#...\\n..#....#..\\n\\n\")\n",
    "         \n",
    "    elif (c == \"Y\"):\n",
    "        print(\"..#....#..\\n...#..#...\\n....##....\", end = \" \")\n",
    "        print(\"\\n....##....\\n....##....\\n\\n\")\n",
    "         \n",
    "    elif (c == \"Z\"):\n",
    "        print(\"..######..\\n......#...\\n.....#....\", end = \" \")\n",
    "        print(\"\\n....#.....\\n..######..\\n\\n\")\n",
    "         \n",
    "    elif (c == \" \"):\n",
    "        print(\"..........\\n..........\\n..........\", end = \" \")\n",
    "        print(\"\\n..........\\n\\n\")\n",
    "         \n",
    "    elif (c == \".\"):\n",
    "        print(\"----..----\\n\\n\")"
   ]
  },
  {
   "cell_type": "markdown",
   "id": "4307f2a1",
   "metadata": {},
   "source": [
    "7.Get Current Date and Time using Python"
   ]
  },
  {
   "cell_type": "code",
   "execution_count": 10,
   "id": "74b682a1",
   "metadata": {},
   "outputs": [
    {
     "name": "stdout",
     "output_type": "stream",
     "text": [
      "d1 = 06/06/2022\n",
      "d2 = June 06, 2022\n",
      "d3 = 06/06/22\n",
      "d4 = Jun-06-2022\n"
     ]
    }
   ],
   "source": [
    "from datetime import date\n",
    "\n",
    "today = date.today()\n",
    "\n",
    "d1 = today.strftime(\"%d/%m/%Y\")\n",
    "print(\"d1 =\", d1)\n",
    "\n",
    "d2 = today.strftime(\"%B %d, %Y\")\n",
    "print(\"d2 =\", d2)\n",
    "\n",
    "d3 = today.strftime(\"%m/%d/%y\")\n",
    "print(\"d3 =\", d3)\n",
    "\n",
    "d4 = today.strftime(\"%b-%d-%Y\")\n",
    "print(\"d4 =\", d4)"
   ]
  },
  {
   "cell_type": "markdown",
   "id": "4f755807",
   "metadata": {},
   "source": [
    "8.Python | Find yesterday’s, today’s and tomorrow’s date"
   ]
  },
  {
   "cell_type": "code",
   "execution_count": 11,
   "id": "6e542ebe",
   "metadata": {},
   "outputs": [
    {
     "name": "stdout",
     "output_type": "stream",
     "text": [
      "Yesterday =  05-06-2022\n",
      "Today =  06-06-2022\n",
      "Tomorrow =  07-06-2022\n"
     ]
    }
   ],
   "source": [
    "from datetime import datetime, timedelta\n",
    "\n",
    "presentday = datetime.now() \n",
    "\n",
    "yesterday = presentday - timedelta(1)\n",
    "\n",
    "tomorrow = presentday + timedelta(1)\n",
    "\n",
    "print(\"Yesterday = \", yesterday.strftime('%d-%m-%Y'))\n",
    "print(\"Today = \", presentday.strftime('%d-%m-%Y'))\n",
    "print(\"Tomorrow = \", tomorrow.strftime('%d-%m-%Y'))"
   ]
  },
  {
   "cell_type": "markdown",
   "id": "9b18a002",
   "metadata": {},
   "source": [
    "9.Python program to convert time from 12 hour to 24 hour format"
   ]
  },
  {
   "cell_type": "code",
   "execution_count": 12,
   "id": "dab72708",
   "metadata": {},
   "outputs": [
    {
     "name": "stdout",
     "output_type": "stream",
     "text": [
      "20:05:45\n"
     ]
    }
   ],
   "source": [
    "def convert24(str1):\n",
    "\n",
    "    if str1[-2:] == \"AM\" and str1[:2] == \"12\":\n",
    "        return \"00\" + str1[2:-2]\n",
    "\n",
    "    elif str1[-2:] == \"AM\":\n",
    "        return str1[:-2]\n",
    "  \n",
    "    elif str1[-2:] == \"PM\" and str1[:2] == \"12\":\n",
    "        return str1[:-2]\n",
    "          \n",
    "    else:\n",
    "\n",
    "        return str(int(str1[:2]) + 12) + str1[2:8]\n",
    "      \n",
    "print(convert24(\"08:05:45 PM\"))"
   ]
  },
  {
   "cell_type": "code",
   "execution_count": null,
   "id": "2df8e978",
   "metadata": {},
   "outputs": [],
   "source": []
  },
  {
   "cell_type": "code",
   "execution_count": null,
   "id": "1849e544",
   "metadata": {},
   "outputs": [],
   "source": []
  },
  {
   "cell_type": "code",
   "execution_count": null,
   "id": "99cd8a89",
   "metadata": {},
   "outputs": [],
   "source": []
  },
  {
   "cell_type": "code",
   "execution_count": null,
   "id": "f2db684b",
   "metadata": {},
   "outputs": [],
   "source": []
  }
 ],
 "metadata": {
  "kernelspec": {
   "display_name": "Python 3 (ipykernel)",
   "language": "python",
   "name": "python3"
  },
  "language_info": {
   "codemirror_mode": {
    "name": "ipython",
    "version": 3
   },
   "file_extension": ".py",
   "mimetype": "text/x-python",
   "name": "python",
   "nbconvert_exporter": "python",
   "pygments_lexer": "ipython3",
   "version": "3.9.7"
  }
 },
 "nbformat": 4,
 "nbformat_minor": 5
}
