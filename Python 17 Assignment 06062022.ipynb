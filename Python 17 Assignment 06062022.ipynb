{
 "cells": [
  {
   "cell_type": "markdown",
   "id": "db9f2ca6",
   "metadata": {},
   "source": [
    "1.Python program to find difference between current time and given time"
   ]
  },
  {
   "cell_type": "code",
   "execution_count": 1,
   "id": "c439ac24",
   "metadata": {},
   "outputs": [
    {
     "name": "stdout",
     "output_type": "stream",
     "text": [
      "2 : 25\n",
      "3 : 31\n",
      "Both are same times\n"
     ]
    }
   ],
   "source": [
    "def difference(h1, m1, h2, m2):\n",
    "\n",
    "    t1 = h1 * 60 + m1\n",
    "\n",
    "    t2 = h2 * 60 + m2\n",
    "      \n",
    "    if (t1 == t2): \n",
    "        print(\"Both are same times\")\n",
    "        return \n",
    "    else:\n",
    "\n",
    "        diff = t2-t1\n",
    "\n",
    "    h = (int(diff / 60)) % 24\n",
    "\n",
    "    m = diff % 60\n",
    "  \n",
    "    print(h, \":\", m)\n",
    "\n",
    "if __name__ == \"__main__\":\n",
    "      \n",
    "    difference(7, 20, 9, 45)\n",
    "    difference(15, 23, 18, 54)\n",
    "    difference(16, 20, 16, 20)"
   ]
  },
  {
   "cell_type": "markdown",
   "id": "36887b31",
   "metadata": {},
   "source": [
    "2.Python Program to Create a Lap Timer"
   ]
  },
  {
   "cell_type": "code",
   "execution_count": 2,
   "id": "8e8254ac",
   "metadata": {},
   "outputs": [
    {
     "name": "stdout",
     "output_type": "stream",
     "text": [
      "Press ENTER to count laps.\n",
      "Press CTRL+C to stop\n",
      "\n",
      "Lap No. 1\n",
      "Total Time: 14.68\n",
      "Lap Time: 14.68\n",
      "********************\n",
      "\n",
      "Lap No. 2\n",
      "Total Time: 19.94\n",
      "Lap Time: 5.25\n",
      "********************\n",
      "\n",
      "Lap No. 3\n",
      "Total Time: 20.46\n",
      "Lap Time: 0.52\n",
      "********************\n",
      "\n",
      "Lap No. 4\n",
      "Total Time: 20.63\n",
      "Lap Time: 0.17\n",
      "********************\n",
      "\n",
      "Lap No. 5\n",
      "Total Time: 20.77\n",
      "Lap Time: 0.14\n",
      "********************\n",
      "\n",
      "Lap No. 6\n",
      "Total Time: 21.14\n",
      "Lap Time: 0.37\n",
      "********************\n",
      "Done\n"
     ]
    }
   ],
   "source": [
    "import time\n",
    "\n",
    "starttime=time.time()\n",
    "lasttime=starttime\n",
    "lapnum=1\n",
    "  \n",
    "print(\"Press ENTER to count laps.\\nPress CTRL+C to stop\")\n",
    "  \n",
    "try:\n",
    "     while True:\n",
    "\n",
    "          input()\n",
    "\n",
    "          laptime=round((time.time() - lasttime), 2)\n",
    "\n",
    "          totaltime=round((time.time() - starttime), 2)\n",
    "  \n",
    "          print(\"Lap No. \"+str(lapnum)) \n",
    "          print(\"Total Time: \"+str(totaltime))\n",
    "          print(\"Lap Time: \"+str(laptime))\n",
    "            \n",
    "          print(\"*\"*20)\n",
    "  \n",
    "          lasttime=time.time()\n",
    "          lapnum+=1\n",
    "  \n",
    "# Stopping when CTRL+C is pressed\n",
    "except KeyboardInterrupt:\n",
    "     print(\"Done\")"
   ]
  },
  {
   "cell_type": "markdown",
   "id": "bacd0a58",
   "metadata": {},
   "source": [
    "3.Convert date string to timestamp in Python"
   ]
  },
  {
   "cell_type": "code",
   "execution_count": 4,
   "id": "f3e53763",
   "metadata": {},
   "outputs": [
    {
     "name": "stdout",
     "output_type": "stream",
     "text": [
      "1579458600.0\n"
     ]
    }
   ],
   "source": [
    "import time\n",
    "import datetime\n",
    "  \n",
    "  \n",
    "string = \"20/01/2020\"\n",
    "print(time.mktime(datetime.datetime.strptime(string,\"%d/%m/%Y\").timetuple()))"
   ]
  },
  {
   "cell_type": "code",
   "execution_count": 5,
   "id": "4a213c98",
   "metadata": {},
   "outputs": [
    {
     "name": "stdout",
     "output_type": "stream",
     "text": [
      "1579458600.0\n"
     ]
    }
   ],
   "source": [
    "import time\n",
    "import datetime\n",
    "  \n",
    "  \n",
    "string = \"20/01/2020\"\n",
    "  \n",
    "element = datetime.datetime.strptime(string,\"%d/%m/%Y\")\n",
    "  \n",
    "tuple = element.timetuple()\n",
    "timestamp = time.mktime(tuple)\n",
    "  \n",
    "print(timestamp)"
   ]
  },
  {
   "cell_type": "markdown",
   "id": "bcd80fcf",
   "metadata": {},
   "source": [
    "4.How to convert timestamp string to datetime object in Python?"
   ]
  },
  {
   "cell_type": "code",
   "execution_count": 6,
   "id": "e10a0585",
   "metadata": {},
   "outputs": [
    {
     "name": "stdout",
     "output_type": "stream",
     "text": [
      "date_time: 2006-02-25 05:30:00\n",
      "type of dt: <class 'datetime.datetime'>\n"
     ]
    }
   ],
   "source": [
    "from datetime import datetime\n",
    "  \n",
    "  \n",
    "timestamp = 1545730073\n",
    "dt_obj = datetime.fromtimestamp(1140825600)\n",
    "  \n",
    "print(\"date_time:\",dt_obj)\n",
    "print(\"type of dt:\",type(dt_obj))"
   ]
  },
  {
   "cell_type": "markdown",
   "id": "7dd0d444",
   "metadata": {},
   "source": [
    "5.Find number of times every day occurs in a Year"
   ]
  },
  {
   "cell_type": "code",
   "execution_count": 7,
   "id": "805fb379",
   "metadata": {},
   "outputs": [
    {
     "name": "stdout",
     "output_type": "stream",
     "text": [
      "Monday 52\n",
      "Tuesday 53\n",
      "Wednesday 52\n",
      "Thursday 52\n",
      "Friday 52\n",
      "Saturday 52\n",
      "Sunday 52\n"
     ]
    }
   ],
   "source": [
    "import datetime\n",
    "import calendar\n",
    "  \n",
    "def day_occur_time(year):\n",
    "\n",
    "    days = [ \"Monday\", \"Tuesday\", \"Wednesday\", \n",
    "           \"Thursday\",  \"Friday\", \"Saturday\",\n",
    "           \"Sunday\" ]\n",
    "\n",
    "    L = [52 for i in range(7)]\n",
    "\n",
    "    pos = -1\n",
    "    day = datetime.datetime(year, month = 1, day = 1).strftime(\"%A\")\n",
    "    for i in range(7):\n",
    "        if day == days[i]:\n",
    "            pos = i\n",
    "\n",
    "    if calendar.isleap(year):\n",
    "        L[pos] += 1\n",
    "        L[(pos+1)%7] += 1\n",
    "         \n",
    "    else:\n",
    "        L[pos] += 1\n",
    "\n",
    "    for i in range(7):\n",
    "        print(days[i], L[i])\n",
    "\n",
    "year = 2019\n",
    "day_occur_time(year)"
   ]
  },
  {
   "cell_type": "markdown",
   "id": "65f2f327",
   "metadata": {},
   "source": [
    "6.Python Program to Check if String Contain Only Defined Characters using Regex"
   ]
  },
  {
   "cell_type": "code",
   "execution_count": 9,
   "id": "9f90a47a",
   "metadata": {},
   "outputs": [
    {
     "name": "stdout",
     "output_type": "stream",
     "text": [
      "Valid String\n",
      "Invalid String\n"
     ]
    }
   ],
   "source": [
    "import re\n",
    "  \n",
    "  \n",
    "def check(str, pattern):\n",
    "\n",
    "    if re.search(pattern, str):\n",
    "        print(\"Valid String\")\n",
    "    else:\n",
    "        print(\"Invalid String\")\n",
    "\n",
    "pattern = re.compile('^[1234]+$')\n",
    "check('2134', pattern)\n",
    "check('349', pattern)"
   ]
  },
  {
   "cell_type": "markdown",
   "id": "430b04d8",
   "metadata": {},
   "source": [
    "7.Python program to Count Uppercase, Lowercase, special character and numeric values using Regex"
   ]
  },
  {
   "cell_type": "code",
   "execution_count": 10,
   "id": "7b6eb2ac",
   "metadata": {},
   "outputs": [
    {
     "name": "stdout",
     "output_type": "stream",
     "text": [
      "The no. of uppercase characters is 4\n",
      "The no. of lowercase characters is 15\n",
      "The no. of numerical characters is 3\n",
      "The no. of special characters is 4\n"
     ]
    }
   ],
   "source": [
    "import re\n",
    " \n",
    " \n",
    "string = \"ThisIsGeeksforGeeks !, 123\"\n",
    "\n",
    "uppercase_characters = re.findall(r\"[A-Z]\", string)\n",
    "lowercase_characters = re.findall(r\"[a-z]\", string)\n",
    "numerical_characters = re.findall(r\"[0-9]\", string)\n",
    "special_characters = re.findall(r\"[, .!?]\", string)\n",
    " \n",
    "print(\"The no. of uppercase characters is\", len(uppercase_characters))\n",
    "print(\"The no. of lowercase characters is\", len(lowercase_characters))\n",
    "print(\"The no. of numerical characters is\", len(numerical_characters))\n",
    "print(\"The no. of special characters is\", len(special_characters))"
   ]
  },
  {
   "cell_type": "markdown",
   "id": "27536b19",
   "metadata": {},
   "source": [
    "8.Python Program to find the most occurring number in a string using Regex"
   ]
  },
  {
   "cell_type": "code",
   "execution_count": 12,
   "id": "6e59bae3",
   "metadata": {},
   "outputs": [
    {
     "name": "stdout",
     "output_type": "stream",
     "text": [
      "55\n"
     ]
    }
   ],
   "source": [
    "import re \n",
    "from collections import Counter \n",
    "  \n",
    "def most_occr_element(word):\n",
    "\n",
    "    arr = re.findall(r'[0-9]+', word)    \n",
    "\n",
    "    maxm = 0  \n",
    "\n",
    "    max_elem = 0\n",
    " \n",
    "    c = Counter(arr)\n",
    "  \n",
    "    for x in list(c.keys()):\n",
    "  \n",
    "        if c[x]>= maxm:\n",
    "            maxm = c[x]\n",
    "            max_elem = int(x)\n",
    "                  \n",
    "    return max_elem\n",
    "\n",
    "if __name__ == \"__main__\": \n",
    "    word = 'Suresh55of55Sabari4ksabc3dr2x'\n",
    "    print(most_occr_element(word))"
   ]
  },
  {
   "cell_type": "markdown",
   "id": "bc8ab5c8",
   "metadata": {},
   "source": [
    "9.Python Regex to extract maximum numeric value from a string"
   ]
  },
  {
   "cell_type": "code",
   "execution_count": 14,
   "id": "478064e7",
   "metadata": {},
   "outputs": [
    {
     "ename": "SyntaxError",
     "evalue": "invalid syntax (Temp/ipykernel_13660/98164758.py, line 9)",
     "output_type": "error",
     "traceback": [
      "\u001b[1;36m  File \u001b[1;32m\"C:\\Users\\dhoraisu\\AppData\\Local\\Temp/ipykernel_13660/98164758.py\"\u001b[1;36m, line \u001b[1;32m9\u001b[0m\n\u001b[1;33m    print max(numbers)\u001b[0m\n\u001b[1;37m          ^\u001b[0m\n\u001b[1;31mSyntaxError\u001b[0m\u001b[1;31m:\u001b[0m invalid syntax\n"
     ]
    }
   ],
   "source": [
    "import re\n",
    "  \n",
    "def extractMax(input):\n",
    "\n",
    "     numbers = re.findall('\\d+',input)\n",
    "\n",
    "     numbers = map(int,numbers)\n",
    "  \n",
    "     print max(numbers)\n",
    "\n",
    "if __name__ == \"__main__\":\n",
    "    input = '100klh564abc365bg'\n",
    "    extractMax(input)"
   ]
  },
  {
   "cell_type": "markdown",
   "id": "5221b1b2",
   "metadata": {},
   "source": [
    "10.Python Program to put spaces between words starting with capital letters using Regex"
   ]
  },
  {
   "cell_type": "code",
   "execution_count": 16,
   "id": "a09b97ae",
   "metadata": {},
   "outputs": [
    {
     "name": "stdout",
     "output_type": "stream",
     "text": [
      "bruce wayne is batman\n"
     ]
    }
   ],
   "source": [
    "import re\n",
    "   \n",
    "def putSpace(input):\n",
    "\n",
    "    words = re.findall('[A-Z][a-z]*', input)\n",
    "\n",
    "    for i in range(0,len(words)):\n",
    "        words[i]=words[i][0].lower()+words[i][1:]\n",
    "    print(' '.join(words))\n",
    "\n",
    "if __name__ == \"__main__\":\n",
    "    input = 'BruceWayneIsBatman'\n",
    "    putSpace(input)"
   ]
  },
  {
   "cell_type": "code",
   "execution_count": null,
   "id": "debd8edd",
   "metadata": {},
   "outputs": [],
   "source": []
  },
  {
   "cell_type": "code",
   "execution_count": null,
   "id": "94710888",
   "metadata": {},
   "outputs": [],
   "source": []
  },
  {
   "cell_type": "code",
   "execution_count": null,
   "id": "1e49e90f",
   "metadata": {},
   "outputs": [],
   "source": []
  }
 ],
 "metadata": {
  "kernelspec": {
   "display_name": "Python 3 (ipykernel)",
   "language": "python",
   "name": "python3"
  },
  "language_info": {
   "codemirror_mode": {
    "name": "ipython",
    "version": 3
   },
   "file_extension": ".py",
   "mimetype": "text/x-python",
   "name": "python",
   "nbconvert_exporter": "python",
   "pygments_lexer": "ipython3",
   "version": "3.9.7"
  }
 },
 "nbformat": 4,
 "nbformat_minor": 5
}
