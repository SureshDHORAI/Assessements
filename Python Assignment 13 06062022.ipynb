{
 "cells": [
  {
   "cell_type": "markdown",
   "id": "acdddd83",
   "metadata": {},
   "source": [
    "1.Python – Join Tuples if similar initial element"
   ]
  },
  {
   "cell_type": "code",
   "execution_count": 1,
   "id": "df9ba44d",
   "metadata": {},
   "outputs": [
    {
     "name": "stdout",
     "output_type": "stream",
     "text": [
      "The original list is : [(5, 6), (5, 7), (6, 8), (6, 10), (7, 13)]\n",
      "The extracted elements : [(5, 6, 7), (6, 8, 10), (7, 13)]\n"
     ]
    }
   ],
   "source": [
    "test_list = [(5, 6), (5, 7), (6, 8), (6, 10), (7, 13)]\n",
    "  \n",
    "\n",
    "print(\"The original list is : \" + str(test_list))\n",
    "\n",
    "res = []\n",
    "for sub in test_list:                                           \n",
    "    if res and res[-1][0] == sub[0]:              \n",
    "        res[-1].extend(sub[1:])                        \n",
    "    else:\n",
    "        res.append([ele for ele in sub])     \n",
    "res = list(map(tuple, res))\n",
    " \n",
    "print(\"The extracted elements : \" + str(res)) "
   ]
  },
  {
   "cell_type": "markdown",
   "id": "35ee2d4b",
   "metadata": {},
   "source": [
    "2.Python – Extract digits from Tuple list"
   ]
  },
  {
   "cell_type": "code",
   "execution_count": 3,
   "id": "19500ec9",
   "metadata": {},
   "outputs": [
    {
     "name": "stdout",
     "output_type": "stream",
     "text": [
      "The original list is : [(15, 3), (3, 9), (1, 10), (99, 2)]\n",
      "The extracted digits : [9, 5, 2, 1, 3, 0]\n"
     ]
    }
   ],
   "source": [
    "import re\n",
    "\n",
    "test_list = [(15, 3), (3, 9), (1, 10), (99, 2)]\n",
    "\n",
    "print(\"The original list is : \" + str(test_list))\n",
    "\n",
    "temp = re.sub(r'[\\[\\]\\(\\), ]', '', str(test_list))\n",
    "res = [int(ele) for ele in set(temp)]\n",
    "\n",
    "print(\"The extracted digits : \" + str(res))"
   ]
  },
  {
   "cell_type": "markdown",
   "id": "acfb3b3b",
   "metadata": {},
   "source": [
    "3.Python – All pair combinations of 2 tuples"
   ]
  },
  {
   "cell_type": "code",
   "execution_count": 4,
   "id": "8e86a07c",
   "metadata": {},
   "outputs": [
    {
     "name": "stdout",
     "output_type": "stream",
     "text": [
      "The original tuple 1 : (4, 5)\n",
      "The original tuple 2 : (7, 8)\n",
      "The filtered tuple : [(4, 7), (4, 8), (5, 7), (5, 8), (7, 4), (7, 5), (8, 4), (8, 5)]\n"
     ]
    }
   ],
   "source": [
    "test_tuple1 = (4, 5)\n",
    "test_tuple2 = (7, 8)\n",
    "\n",
    "print(\"The original tuple 1 : \" + str(test_tuple1))\n",
    "print(\"The original tuple 2 : \" + str(test_tuple2))\n",
    "\n",
    "res =  [(a, b) for a in test_tuple1 for b in test_tuple2]\n",
    "res = res +  [(a, b) for a in test_tuple2 for b in test_tuple1]\n",
    "\n",
    "print(\"The filtered tuple : \" + str(res))"
   ]
  },
  {
   "cell_type": "markdown",
   "id": "9bf3e7e1",
   "metadata": {},
   "source": [
    "4.Python – Remove Tuples of Length K"
   ]
  },
  {
   "cell_type": "code",
   "execution_count": 5,
   "id": "521ceadb",
   "metadata": {},
   "outputs": [
    {
     "name": "stdout",
     "output_type": "stream",
     "text": [
      "The original list : [(4, 5), (4,), (8, 6, 7), (1,), (3, 4, 6, 7)]\n",
      "Filtered list : [(4, 5), (8, 6, 7), (3, 4, 6, 7)]\n"
     ]
    }
   ],
   "source": [
    "test_list = [(4, 5), (4, ), (8, 6, 7), (1, ), (3, 4, 6, 7)]\n",
    "\n",
    "print(\"The original list : \" + str(test_list))\n",
    "  \n",
    "# initializing K \n",
    "K = 1\n",
    "\n",
    "res = list(filter(lambda x : len(x) != K, test_list))\n",
    "\n",
    "print(\"Filtered list : \" + str(res))"
   ]
  },
  {
   "cell_type": "markdown",
   "id": "a228adea",
   "metadata": {},
   "source": [
    "5.Sort a list of tuples by second Item"
   ]
  },
  {
   "cell_type": "code",
   "execution_count": 6,
   "id": "8a3a62d4",
   "metadata": {},
   "outputs": [
    {
     "name": "stdout",
     "output_type": "stream",
     "text": [
      "[('Geeksforgeeks', 5), ('is', 10), ('a', 15), ('portal', 20), ('for', 24), ('Geeks', 28)]\n"
     ]
    }
   ],
   "source": [
    "def Sort_Tuple(tup):\n",
    "\n",
    "    lst = len(tup)\n",
    "    for i in range(0, lst):\n",
    "         \n",
    "        for j in range(0, lst-i-1):\n",
    "            if (tup[j][1] > tup[j + 1][1]):\n",
    "                temp = tup[j]\n",
    "                tup[j]= tup[j + 1]\n",
    "                tup[j + 1]= temp\n",
    "    return tup\n",
    "\n",
    "tup =[('for', 24), ('is', 10), ('Geeks', 28),\n",
    "      ('Geeksforgeeks', 5), ('portal', 20), ('a', 15)]\n",
    "       \n",
    "print(Sort_Tuple(tup))"
   ]
  },
  {
   "cell_type": "markdown",
   "id": "43c78b39",
   "metadata": {},
   "source": [
    "6.Python program to Order Tuples using external List"
   ]
  },
  {
   "cell_type": "code",
   "execution_count": 10,
   "id": "9516e835",
   "metadata": {},
   "outputs": [
    {
     "name": "stdout",
     "output_type": "stream",
     "text": [
      "The list of tuple is : \n",
      "[('Mark', 34), ('Will', 91), ('Rob', 23)]\n",
      "The ordered list is :\n",
      "['Will', 'Mark', 'Rob']\n",
      "The ordered tuple list is : \n",
      "[('Will', 91), ('Mark', 34), ('Rob', 23)]\n"
     ]
    }
   ],
   "source": [
    "my_list = [('Mark', 34), ('Will', 91), ('Rob', 23)]\n",
    "\n",
    "print(\"The list of tuple is : \")\n",
    "print(my_list)\n",
    "\n",
    "ordered_list = ['Will', 'Mark', 'Rob']\n",
    "print(\"The ordered list is :\")\n",
    "print(ordered_list)\n",
    "temp = dict(my_list)\n",
    "my_result = [(key, temp[key]) for key in ordered_list]\n",
    "print(\"The ordered tuple list is : \")\n",
    "print(my_result)"
   ]
  },
  {
   "cell_type": "markdown",
   "id": "4bd4dcc7",
   "metadata": {},
   "source": [
    "7.Python – Flatten tuple of List to tuple"
   ]
  },
  {
   "cell_type": "code",
   "execution_count": 9,
   "id": "5de079ff",
   "metadata": {},
   "outputs": [
    {
     "name": "stdout",
     "output_type": "stream",
     "text": [
      "The original tuple : ([5, 6], [6, 7, 8, 9], [3])\n",
      "The flattened tuple : (5, 6, 6, 7, 8, 9, 3)\n"
     ]
    }
   ],
   "source": [
    "test_tuple = ([5, 6], [6, 7, 8, 9], [3])\n",
    "\n",
    "print(\"The original tuple : \" + str(test_tuple))\n",
    "\n",
    "res = tuple(sum(test_tuple, []))\n",
    "\n",
    "print(\"The flattened tuple : \" + str(res))"
   ]
  },
  {
   "cell_type": "markdown",
   "id": "7fa2c4ce",
   "metadata": {},
   "source": [
    "8.Python – Convert Nested Tuple to Custom Key Dictionary"
   ]
  },
  {
   "cell_type": "code",
   "execution_count": 11,
   "id": "ef33fbff",
   "metadata": {},
   "outputs": [
    {
     "name": "stdout",
     "output_type": "stream",
     "text": [
      "The original tuple : ((4, 'Gfg', 10), (3, 'is', 8), (6, 'Best', 10))\n",
      "The converted dictionary : [{'key': 4, 'value': 'Gfg', 'id': 10}, {'key': 3, 'value': 'is', 'id': 8}, {'key': 6, 'value': 'Best', 'id': 10}]\n"
     ]
    }
   ],
   "source": [
    "test_tuple = ((4, 'Gfg', 10), (3, 'is', 8), (6, 'Best', 10))\n",
    "\n",
    "print(\"The original tuple : \" + str(test_tuple))\n",
    "\n",
    "res = [{'key': sub[0], 'value': sub[1], 'id': sub[2]} \n",
    "                               for sub in test_tuple]\n",
    "\n",
    "print(\"The converted dictionary : \" + str(res))"
   ]
  },
  {
   "cell_type": "markdown",
   "id": "5eb0ae21",
   "metadata": {},
   "source": [
    "9.Python Program for Binary Search (Recursive and Iterative)"
   ]
  },
  {
   "cell_type": "code",
   "execution_count": 12,
   "id": "897fc0de",
   "metadata": {},
   "outputs": [
    {
     "name": "stdout",
     "output_type": "stream",
     "text": [
      "The index of the Element is 4\n"
     ]
    }
   ],
   "source": [
    "def binary_search(array, low, high, x):\n",
    "    \n",
    "    if high >= low:\n",
    "        mid = (high + low) // 2\n",
    " \n",
    "        \n",
    "        if array[mid] == x:\n",
    "            return mid\n",
    " \n",
    "        elif array[mid] > x:\n",
    "            return binary_search(array, low, mid - 1, x)\n",
    " \n",
    "        else:\n",
    "            return binary_search(array, mid + 1, high, x)\n",
    " \n",
    "    else:\n",
    "        return -1\n",
    "\n",
    "array = [ 2, 4, 6, 8, 20, 40, 60, 80]\n",
    "x = 20\n",
    "\n",
    "result = binary_search(array, 0, len(array)-1, x)\n",
    " \n",
    "if result != -1:\n",
    "    print(\"The index of the Element is\", str(result))\n",
    "else:\n",
    "    print(\"This element is not present in your Array.\")"
   ]
  },
  {
   "cell_type": "markdown",
   "id": "4794e784",
   "metadata": {},
   "source": [
    "10.Python Program for Linear Search"
   ]
  },
  {
   "cell_type": "code",
   "execution_count": 14,
   "id": "36b1f6ce",
   "metadata": {},
   "outputs": [],
   "source": [
    "def search(arr, curr_index, key):\n",
    "    if curr_index == -1:\n",
    "        return -1\n",
    "    if arr[curr_index] == key:\n",
    "        return curr_index\n",
    "    return search(arr, curr_index-1, key)"
   ]
  },
  {
   "cell_type": "code",
   "execution_count": null,
   "id": "c0e3b0e8",
   "metadata": {},
   "outputs": [],
   "source": []
  },
  {
   "cell_type": "code",
   "execution_count": null,
   "id": "a27226c3",
   "metadata": {},
   "outputs": [],
   "source": []
  },
  {
   "cell_type": "code",
   "execution_count": null,
   "id": "00e3f145",
   "metadata": {},
   "outputs": [],
   "source": []
  },
  {
   "cell_type": "code",
   "execution_count": null,
   "id": "83d0a8f6",
   "metadata": {},
   "outputs": [],
   "source": []
  }
 ],
 "metadata": {
  "kernelspec": {
   "display_name": "Python 3 (ipykernel)",
   "language": "python",
   "name": "python3"
  },
  "language_info": {
   "codemirror_mode": {
    "name": "ipython",
    "version": 3
   },
   "file_extension": ".py",
   "mimetype": "text/x-python",
   "name": "python",
   "nbconvert_exporter": "python",
   "pygments_lexer": "ipython3",
   "version": "3.9.7"
  }
 },
 "nbformat": 4,
 "nbformat_minor": 5
}
