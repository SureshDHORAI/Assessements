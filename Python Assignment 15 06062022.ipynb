{
 "cells": [
  {
   "cell_type": "markdown",
   "id": "39d22ce3",
   "metadata": {},
   "source": [
    "1.Python Program for Topological Sorting"
   ]
  },
  {
   "cell_type": "code",
   "execution_count": 1,
   "id": "c1dd740b",
   "metadata": {},
   "outputs": [
    {
     "name": "stdout",
     "output_type": "stream",
     "text": [
      "The Topological Sort Of The Graph Is:  \n",
      "[0, 1, 2, 3, 4]\n"
     ]
    }
   ],
   "source": [
    "from collections import defaultdict\n",
    "\n",
    "class Graph:\n",
    "\n",
    "    def __init__(self,n):\n",
    "\n",
    "        self.graph = defaultdict(list)\n",
    "\n",
    "        self.N = n\n",
    "\n",
    "    def addEdge(self,m,n):\n",
    "\n",
    "        self.graph[m].append(n)\n",
    "\n",
    "    def sortUtil(self,n,visited,stack):\n",
    "\n",
    "        visited[n] = True\n",
    "\n",
    "        for element in self.graph[n]:\n",
    "\n",
    "            if visited[element] == False:\n",
    "\n",
    "                self.sortUtil(element,visited,stack)\n",
    "\n",
    "        stack.insert(0,n)\n",
    "\n",
    "    def topologicalSort(self):\n",
    "\n",
    "        visited = [False]*self.N\n",
    "\n",
    "        stack =[]\n",
    "\n",
    "        for element in range(self.N):\n",
    "\n",
    "            if visited[element] == False:\n",
    "\n",
    "                self.sortUtil(element,visited,stack)\n",
    "\n",
    "        print(stack)\n",
    "\n",
    "graph = Graph(5)\n",
    "graph.addEdge(0,1);\n",
    "graph.addEdge(0,3);\n",
    "graph.addEdge(1,2);\n",
    "graph.addEdge(2,3);\n",
    "graph.addEdge(2,4);\n",
    "graph.addEdge(3,4);\n",
    "\n",
    "print(\"The Topological Sort Of The Graph Is:  \")\n",
    "\n",
    "graph.topologicalSort()"
   ]
  },
  {
   "cell_type": "markdown",
   "id": "9513b8e1",
   "metadata": {},
   "source": [
    "2.Python Program for Radix Sort"
   ]
  },
  {
   "cell_type": "code",
   "execution_count": 2,
   "id": "f23be86b",
   "metadata": {},
   "outputs": [
    {
     "name": "stdout",
     "output_type": "stream",
     "text": [
      "2 24 45 66 75 90 170 802 "
     ]
    }
   ],
   "source": [
    "def countingSort(arr, exp1):\n",
    "   \n",
    "    n = len(arr)\n",
    "\n",
    "    output = [0] * (n)\n",
    "\n",
    "    count = [0] * (10)\n",
    "\n",
    "    for i in range(0, n):\n",
    "        index = (arr[i]/exp1)\n",
    "        count[int((index)%10)] += 1\n",
    "\n",
    "    for i in range(1,10):\n",
    "        count[i] += count[i-1]\n",
    "\n",
    "    i = n-1\n",
    "    while i>=0:\n",
    "        index = (arr[i]/exp1)\n",
    "        output[ count[ int((index)%10) ] - 1] = arr[i]\n",
    "        count[int((index)%10)] -= 1\n",
    "        i -= 1\n",
    "\n",
    "    i = 0\n",
    "    for i in range(0,len(arr)):\n",
    "        arr[i] = output[i]\n",
    "\n",
    "def radixSort(arr):\n",
    "\n",
    "    max1 = max(arr)\n",
    "\n",
    "    exp = 1\n",
    "    while max1/exp > 0:\n",
    "        countingSort(arr,exp)\n",
    "        exp *= 10\n",
    "\n",
    "arr = [ 170, 45, 75, 90, 802, 24, 2, 66]\n",
    "radixSort(arr)\n",
    " \n",
    "for i in range(len(arr)):\n",
    "    print(arr[i],end=\" \")"
   ]
  },
  {
   "cell_type": "markdown",
   "id": "d7518423",
   "metadata": {},
   "source": [
    "3.Python Program for Binary Insertion Sort"
   ]
  },
  {
   "cell_type": "code",
   "execution_count": 7,
   "id": "57357b11",
   "metadata": {},
   "outputs": [
    {
     "ename": "IndentationError",
     "evalue": "unexpected indent (Temp/ipykernel_952/1626550149.py, line 28)",
     "output_type": "error",
     "traceback": [
      "\u001b[1;36m  File \u001b[1;32m\"C:\\Users\\dhoraisu\\AppData\\Local\\Temp/ipykernel_952/1626550149.py\"\u001b[1;36m, line \u001b[1;32m28\u001b[0m\n\u001b[1;33m    print insertion_sort([37, 23, 0, 17, 12, 72, 31,46, 100, 88, 54])\u001b[0m\n\u001b[1;37m    ^\u001b[0m\n\u001b[1;31mIndentationError\u001b[0m\u001b[1;31m:\u001b[0m unexpected indent\n"
     ]
    }
   ],
   "source": [
    "def binary_search(arr, val, start, end):\n",
    "\n",
    "    if start == end:\n",
    "        if arr[start] > val:\n",
    "            return start\n",
    "        else:\n",
    "            return start+1\n",
    "\n",
    "    if start > end:\n",
    "        return start\n",
    "  \n",
    "    mid = (start+end)/2\n",
    "    if arr[mid] < val:\n",
    "        return binary_search(arr, val, mid+1, end)\n",
    "    elif arr[mid] > val:\n",
    "        return binary_search(arr, val, start, mid-1)\n",
    "    else:\n",
    "        return mid\n",
    "  \n",
    "    def insertion_sort(arr):\n",
    "        for i in xrange(1, len(arr)):\n",
    "            val = arr[i]\n",
    "            j = binary_search(arr, val, 0, i-1)\n",
    "            arr = arr[:j] + [val] + arr[j:i] + arr[i+1:]\n",
    "    return arr\n",
    "  \n",
    "print(\"Sorted array:\")\n",
    "    print insertion_sort([37, 23, 0, 17, 12, 72, 31,46, 100, 88, 54])"
   ]
  },
  {
   "cell_type": "markdown",
   "id": "a049f579",
   "metadata": {},
   "source": [
    "4.Python Program for Bitonic Sort"
   ]
  },
  {
   "cell_type": "code",
   "execution_count": 8,
   "id": "44a0014c",
   "metadata": {},
   "outputs": [
    {
     "name": "stdout",
     "output_type": "stream",
     "text": [
      "\n",
      "\n",
      "Sorted array is\n",
      "1 5 2 6 3 7 4 8 "
     ]
    }
   ],
   "source": [
    "def compAndSwap(a, i, j, dire):\n",
    "    if (dire==1 and a[i] > a[j]) or (dire==0 and a[i] > a[j]):\n",
    "        a[i],a[j] = a[j],a[i]\n",
    "\n",
    "def bitonicMerge(a, low, cnt, dire):\n",
    "    if cnt > 1:\n",
    "        k = cnt//2\n",
    "        for i in range(low , low+k):\n",
    "            compAndSwap(a, i, i+k, dire)\n",
    "        bitonicMerge(a, low, k, dire)\n",
    "        bitonicMerge(a, low+k, k, dire)\n",
    "\n",
    "def bitonicSort(a, low, cnt,dire):\n",
    "    if cnt > 1:\n",
    "          k = cnt//2\n",
    "          bitonicSort(a, low, k, 1)\n",
    "          bitonicSort(a, low+k, k, 0)\n",
    "          bitonicMerge(a, low, cnt, dire)\n",
    "\n",
    "def sort(a,N, up):\n",
    "    bitonicSort(a,0, N, up)\n",
    " \n",
    "# Driver code to test above\n",
    "a = [3, 7, 4, 8, 6, 2, 1, 5]\n",
    "n = len(a)\n",
    "up = 1\n",
    " \n",
    "sort(a, n, up)\n",
    "print (\"\\n\\nSorted array is\")\n",
    "for i in range(n):\n",
    "    print(\"%d\" %a[i],end=\" \")"
   ]
  },
  {
   "cell_type": "markdown",
   "id": "191061d4",
   "metadata": {},
   "source": [
    "5.Python Program for Comb Sort"
   ]
  },
  {
   "cell_type": "code",
   "execution_count": 10,
   "id": "c3635a18",
   "metadata": {},
   "outputs": [
    {
     "ename": "TypeError",
     "evalue": "'float' object cannot be interpreted as an integer",
     "output_type": "error",
     "traceback": [
      "\u001b[1;31m---------------------------------------------------------------------------\u001b[0m",
      "\u001b[1;31mTypeError\u001b[0m                                 Traceback (most recent call last)",
      "\u001b[1;32m~\\AppData\\Local\\Temp/ipykernel_952/158697643.py\u001b[0m in \u001b[0;36m<module>\u001b[1;34m\u001b[0m\n\u001b[0;32m     25\u001b[0m \u001b[1;33m\u001b[0m\u001b[0m\n\u001b[0;32m     26\u001b[0m \u001b[0marr\u001b[0m \u001b[1;33m=\u001b[0m \u001b[1;33m[\u001b[0m \u001b[1;36m8\u001b[0m\u001b[1;33m,\u001b[0m \u001b[1;36m4\u001b[0m\u001b[1;33m,\u001b[0m \u001b[1;36m1\u001b[0m\u001b[1;33m,\u001b[0m \u001b[1;36m3\u001b[0m\u001b[1;33m,\u001b[0m \u001b[1;33m-\u001b[0m\u001b[1;36m44\u001b[0m\u001b[1;33m,\u001b[0m \u001b[1;36m23\u001b[0m\u001b[1;33m,\u001b[0m \u001b[1;33m-\u001b[0m\u001b[1;36m6\u001b[0m\u001b[1;33m,\u001b[0m \u001b[1;36m28\u001b[0m\u001b[1;33m,\u001b[0m \u001b[1;36m0\u001b[0m\u001b[1;33m]\u001b[0m\u001b[1;33m\u001b[0m\u001b[1;33m\u001b[0m\u001b[0m\n\u001b[1;32m---> 27\u001b[1;33m \u001b[0mcombSort\u001b[0m\u001b[1;33m(\u001b[0m\u001b[0marr\u001b[0m\u001b[1;33m)\u001b[0m\u001b[1;33m\u001b[0m\u001b[1;33m\u001b[0m\u001b[0m\n\u001b[0m\u001b[0;32m     28\u001b[0m \u001b[1;33m\u001b[0m\u001b[0m\n\u001b[0;32m     29\u001b[0m \u001b[0mprint\u001b[0m \u001b[1;33m(\u001b[0m\u001b[1;34m\"Sorted array:\"\u001b[0m\u001b[1;33m)\u001b[0m\u001b[1;33m\u001b[0m\u001b[1;33m\u001b[0m\u001b[0m\n",
      "\u001b[1;32m~\\AppData\\Local\\Temp/ipykernel_952/3724894172.py\u001b[0m in \u001b[0;36mcombSort\u001b[1;34m(arr)\u001b[0m\n\u001b[0;32m     19\u001b[0m         \u001b[0mswapped\u001b[0m \u001b[1;33m=\u001b[0m \u001b[1;32mFalse\u001b[0m\u001b[1;33m\u001b[0m\u001b[1;33m\u001b[0m\u001b[0m\n\u001b[0;32m     20\u001b[0m \u001b[1;33m\u001b[0m\u001b[0m\n\u001b[1;32m---> 21\u001b[1;33m         \u001b[1;32mfor\u001b[0m \u001b[0mi\u001b[0m \u001b[1;32min\u001b[0m \u001b[0mrange\u001b[0m\u001b[1;33m(\u001b[0m\u001b[1;36m0\u001b[0m\u001b[1;33m,\u001b[0m \u001b[0mn\u001b[0m\u001b[1;33m-\u001b[0m\u001b[0mgap\u001b[0m\u001b[1;33m)\u001b[0m\u001b[1;33m:\u001b[0m\u001b[1;33m\u001b[0m\u001b[1;33m\u001b[0m\u001b[0m\n\u001b[0m\u001b[0;32m     22\u001b[0m             \u001b[1;32mif\u001b[0m \u001b[0marr\u001b[0m\u001b[1;33m[\u001b[0m\u001b[0mi\u001b[0m\u001b[1;33m]\u001b[0m \u001b[1;33m>\u001b[0m \u001b[0marr\u001b[0m\u001b[1;33m[\u001b[0m\u001b[0mi\u001b[0m \u001b[1;33m+\u001b[0m \u001b[0mgap\u001b[0m\u001b[1;33m]\u001b[0m\u001b[1;33m:\u001b[0m\u001b[1;33m\u001b[0m\u001b[1;33m\u001b[0m\u001b[0m\n\u001b[0;32m     23\u001b[0m                 \u001b[0marr\u001b[0m\u001b[1;33m[\u001b[0m\u001b[0mi\u001b[0m\u001b[1;33m]\u001b[0m\u001b[1;33m,\u001b[0m \u001b[0marr\u001b[0m\u001b[1;33m[\u001b[0m\u001b[0mi\u001b[0m \u001b[1;33m+\u001b[0m \u001b[0mgap\u001b[0m\u001b[1;33m]\u001b[0m\u001b[1;33m=\u001b[0m\u001b[0marr\u001b[0m\u001b[1;33m[\u001b[0m\u001b[0mi\u001b[0m \u001b[1;33m+\u001b[0m \u001b[0mgap\u001b[0m\u001b[1;33m]\u001b[0m\u001b[1;33m,\u001b[0m \u001b[0marr\u001b[0m\u001b[1;33m[\u001b[0m\u001b[0mi\u001b[0m\u001b[1;33m]\u001b[0m\u001b[1;33m\u001b[0m\u001b[1;33m\u001b[0m\u001b[0m\n",
      "\u001b[1;31mTypeError\u001b[0m: 'float' object cannot be interpreted as an integer"
     ]
    }
   ],
   "source": [
    "def getNextGap(gap):\n",
    "\n",
    "    gap = (gap * 10)/13\n",
    "    if gap < 1:\n",
    "        return 1\n",
    "    return gap\n",
    "\n",
    "    def combSort(arr):\n",
    "        n = len(arr)\n",
    "\n",
    "        gap = n\n",
    "\n",
    "        swapped = True\n",
    "    \n",
    "        while gap !=1 or swapped == 1:\n",
    "\n",
    "            gap = getNextGap(gap)\n",
    " \n",
    "            swapped = False\n",
    "\n",
    "            for i in range(0, n-gap):\n",
    "                if arr[i] > arr[i + gap]:\n",
    "                    arr[i], arr[i + gap]=arr[i + gap], arr[i]\n",
    "                    swapped = True\n",
    "\n",
    "arr = [ 8, 4, 1, 3, -44, 23, -6, 28, 0]\n",
    "combSort(arr)\n",
    " \n",
    "print (\"Sorted array:\")\n",
    "for i in range(len(arr)):\n",
    "    print (arr[i]),"
   ]
  },
  {
   "cell_type": "markdown",
   "id": "41cfbc1d",
   "metadata": {},
   "source": [
    "6.Python Program for Pigeonhole Sort"
   ]
  },
  {
   "cell_type": "code",
   "execution_count": 11,
   "id": "b97f39cc",
   "metadata": {},
   "outputs": [
    {
     "name": "stdout",
     "output_type": "stream",
     "text": [
      "Sorted order is :  2 3 4 6 7 8 8 "
     ]
    }
   ],
   "source": [
    "def pigeonhole_sort(a):\n",
    "\n",
    "    my_min = min(a)\n",
    "    my_max = max(a)\n",
    "    size = my_max - my_min + 1\n",
    "\n",
    "    holes = [0] * size\n",
    "\n",
    "    for x in a:\n",
    "        assert type(x) is int, \"integers only please\"\n",
    "        holes[x - my_min] += 1\n",
    "\n",
    "    i = 0\n",
    "    for count in range(size):\n",
    "        while holes[count] > 0:\n",
    "            holes[count] -= 1\n",
    "            a[i] = count + my_min\n",
    "            i += 1\n",
    "              \n",
    "  \n",
    "a = [8, 3, 2, 7, 4, 6, 8]\n",
    "print(\"Sorted order is : \", end =\" \")\n",
    "  \n",
    "pigeonhole_sort(a)\n",
    "          \n",
    "for i in range(0, len(a)):\n",
    "    print(a[i], end =\" \")"
   ]
  },
  {
   "cell_type": "markdown",
   "id": "13f39d91",
   "metadata": {},
   "source": [
    "7.Python Program for Cocktail Sort"
   ]
  },
  {
   "cell_type": "code",
   "execution_count": 12,
   "id": "587e679b",
   "metadata": {},
   "outputs": [
    {
     "name": "stdout",
     "output_type": "stream",
     "text": [
      "Sorted array is:\n",
      "0\n",
      "1\n",
      "2\n",
      "2\n",
      "4\n",
      "5\n",
      "8\n"
     ]
    }
   ],
   "source": [
    "def cocktailSort(a):\n",
    "    n = len(a)\n",
    "    swapped = True\n",
    "    start = 0\n",
    "    end = n-1\n",
    "    while (swapped==True):\n",
    "\n",
    "        swapped = False\n",
    "\n",
    "        for i in range (start, end):\n",
    "            if (a[i] > a[i+1]) :\n",
    "                a[i], a[i+1]= a[i+1], a[i]\n",
    "                swapped=True\n",
    "\n",
    "        if (swapped==False):\n",
    "            break\n",
    "\n",
    "        swapped = False\n",
    "\n",
    "        end = end-1\n",
    "\n",
    "        for i in range(end-1, start-1,-1):\n",
    "            if (a[i] > a[i+1]):\n",
    "                a[i], a[i+1] = a[i+1], a[i]\n",
    "                swapped = True\n",
    "\n",
    "        start = start+1\n",
    "\n",
    "a = [5, 1, 4, 2, 8, 0, 2]\n",
    "cocktailSort(a)\n",
    "print(\"Sorted array is:\")\n",
    "for i in range(len(a)):\n",
    "    print (\"%d\" %a[i]),"
   ]
  },
  {
   "cell_type": "markdown",
   "id": "8b528ca6",
   "metadata": {},
   "source": [
    "8.Python Program for Gnome Sort"
   ]
  },
  {
   "cell_type": "code",
   "execution_count": 16,
   "id": "36a001ff",
   "metadata": {},
   "outputs": [
    {
     "ename": "SyntaxError",
     "evalue": "Missing parentheses in call to 'print'. Did you mean print(\"Sorted sequence after applying Gnome Sort :\", end=\" \")? (Temp/ipykernel_952/2088221219.py, line 18)",
     "output_type": "error",
     "traceback": [
      "\u001b[1;36m  File \u001b[1;32m\"C:\\Users\\dhoraisu\\AppData\\Local\\Temp/ipykernel_952/2088221219.py\"\u001b[1;36m, line \u001b[1;32m18\u001b[0m\n\u001b[1;33m    print \"Sorted sequence after applying Gnome Sort :\",\u001b[0m\n\u001b[1;37m          ^\u001b[0m\n\u001b[1;31mSyntaxError\u001b[0m\u001b[1;31m:\u001b[0m Missing parentheses in call to 'print'. Did you mean print(\"Sorted sequence after applying Gnome Sort :\", end=\" \")?\n"
     ]
    }
   ],
   "source": [
    "def gnomeSort( arr, n):\n",
    "    index = 0\n",
    "    while index < n:\n",
    "        if index == 0:\n",
    "            index = index + 1\n",
    "        if arr[index] >= arr[index - 1]:\n",
    "            index = index + 1\n",
    "        else:\n",
    "            arr[index], arr[index-1] = arr[index-1], arr[index]\n",
    "            index = index - 1\n",
    " \n",
    "    return arr\n",
    "\n",
    "arr = [ 34, 2, 10, -9]\n",
    "n = len(arr)\n",
    " \n",
    "arr = gnomeSort(arr, n)\n",
    "print \"Sorted sequence after applying Gnome Sort :\",\n",
    "for i in arr:\n",
    "    print i,"
   ]
  },
  {
   "cell_type": "markdown",
   "id": "808a0d81",
   "metadata": {},
   "source": [
    "9.Python Program for Odd-Even Sort / Brick Sort"
   ]
  },
  {
   "cell_type": "code",
   "execution_count": 17,
   "id": "cc0f316a",
   "metadata": {},
   "outputs": [
    {
     "name": "stdout",
     "output_type": "stream",
     "text": [
      "-9 2 10 34 "
     ]
    }
   ],
   "source": [
    "def oddEvenSort(arr, n):\n",
    "   \n",
    "    isSorted = 0\n",
    "    while isSorted == 0:\n",
    "        isSorted = 1\n",
    "        temp = 0\n",
    "        for i in range(1, n-1, 2):\n",
    "            if arr[i] > arr[i+1]:\n",
    "                arr[i], arr[i+1] = arr[i+1], arr[i]\n",
    "                isSorted = 0\n",
    "                  \n",
    "        for i in range(0, n-1, 2):\n",
    "            if arr[i] > arr[i+1]:\n",
    "                arr[i], arr[i+1] = arr[i+1], arr[i]\n",
    "                isSorted = 0\n",
    "      \n",
    "    return\n",
    "  \n",
    "  \n",
    "arr = [34, 2, 10, -9]\n",
    "n = len(arr)\n",
    "  \n",
    "oddEvenSort(arr, n);\n",
    "for i in range(0, n):\n",
    "    print(arr[i], end =\" \")"
   ]
  },
  {
   "cell_type": "markdown",
   "id": "92b3c4f6",
   "metadata": {},
   "source": [
    "10.Python Program for BogoSort or Permutation Sort"
   ]
  },
  {
   "cell_type": "code",
   "execution_count": 18,
   "id": "17d063de",
   "metadata": {},
   "outputs": [
    {
     "name": "stdout",
     "output_type": "stream",
     "text": [
      "Sorted array :\n",
      "0\n",
      "1\n",
      "2\n",
      "3\n",
      "4\n",
      "5\n"
     ]
    }
   ],
   "source": [
    "import random\n",
    "\n",
    "def bogoSort(a):\n",
    "    n = len(a)\n",
    "    while (is_sorted(a)== False):\n",
    "        shuffle(a)\n",
    "\n",
    "def is_sorted(a):\n",
    "    n = len(a)\n",
    "    for i in range(0, n-1):\n",
    "        if (a[i] > a[i+1] ):\n",
    "            return False\n",
    "    return True\n",
    "\n",
    "def shuffle(a):\n",
    "    n = len(a)\n",
    "    for i in range (0,n):\n",
    "        r = random.randint(0,n-1)\n",
    "        a[i], a[r] = a[r], a[i]\n",
    "\n",
    "a = [3, 2, 4, 1, 0, 5]\n",
    "bogoSort(a)\n",
    "print(\"Sorted array :\")\n",
    "for i in range(len(a)):\n",
    "    print (\"%d\" %a[i]),"
   ]
  },
  {
   "cell_type": "code",
   "execution_count": null,
   "id": "0ca30ff2",
   "metadata": {},
   "outputs": [],
   "source": []
  },
  {
   "cell_type": "code",
   "execution_count": null,
   "id": "499140c9",
   "metadata": {},
   "outputs": [],
   "source": []
  },
  {
   "cell_type": "code",
   "execution_count": null,
   "id": "40a898a8",
   "metadata": {},
   "outputs": [],
   "source": []
  },
  {
   "cell_type": "code",
   "execution_count": null,
   "id": "c55c7150",
   "metadata": {},
   "outputs": [],
   "source": []
  },
  {
   "cell_type": "code",
   "execution_count": null,
   "id": "c33ba4a7",
   "metadata": {},
   "outputs": [],
   "source": []
  },
  {
   "cell_type": "code",
   "execution_count": null,
   "id": "fafcc363",
   "metadata": {},
   "outputs": [],
   "source": []
  }
 ],
 "metadata": {
  "kernelspec": {
   "display_name": "Python 3 (ipykernel)",
   "language": "python",
   "name": "python3"
  },
  "language_info": {
   "codemirror_mode": {
    "name": "ipython",
    "version": 3
   },
   "file_extension": ".py",
   "mimetype": "text/x-python",
   "name": "python",
   "nbconvert_exporter": "python",
   "pygments_lexer": "ipython3",
   "version": "3.9.7"
  }
 },
 "nbformat": 4,
 "nbformat_minor": 5
}
