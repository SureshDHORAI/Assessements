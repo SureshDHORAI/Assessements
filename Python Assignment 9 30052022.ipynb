{
 "cells": [
  {
   "cell_type": "markdown",
   "id": "e47c2a04",
   "metadata": {},
   "source": [
    "1.Python – Replace multiple words with K"
   ]
  },
  {
   "cell_type": "code",
   "execution_count": 5,
   "id": "5ab81ac6",
   "metadata": {},
   "outputs": [
    {
     "name": "stdout",
     "output_type": "stream",
     "text": [
      "The original string is : Suresh for sabari is best for Adhrith and Dhruva\n",
      "String after multiple replace : Suresh for Life is best for Life and Life\n"
     ]
    }
   ],
   "source": [
    "test_str = 'Suresh for sabari is best for Adhrith and Dhruva'\n",
    "\n",
    "print(\"The original string is : \" + str(test_str))\n",
    "\n",
    "word_list = [\"Dhruva\", 'sabari', 'Adhrith']\n",
    " \n",
    "repl_wrd = 'Life'\n",
    "\n",
    "res = ' '.join([repl_wrd if idx in word_list else idx for idx in test_str.split()])\n",
    "\n",
    "print(\"String after multiple replace : \" + str(res)) "
   ]
  },
  {
   "cell_type": "markdown",
   "id": "95c9b1d8",
   "metadata": {},
   "source": [
    "2.Python | Permutation of a given string using inbuilt function"
   ]
  },
  {
   "cell_type": "code",
   "execution_count": 7,
   "id": "4bf5d044",
   "metadata": {},
   "outputs": [
    {
     "name": "stdout",
     "output_type": "stream",
     "text": [
      "DHU\n",
      "DUH\n",
      "HDU\n",
      "HUD\n",
      "UDH\n",
      "UHD\n"
     ]
    }
   ],
   "source": [
    "from itertools import permutations\n",
    "import string\n",
    "  \n",
    "s = \"DHU\"\n",
    "a = string.ascii_letters\n",
    "p = permutations(s)\n",
    "\n",
    "d = []\n",
    "for i in list(p):\n",
    "\n",
    "    if (i not in d):\n",
    "        d.append(i)\n",
    "        print(''.join(i))"
   ]
  },
  {
   "cell_type": "code",
   "execution_count": null,
   "id": "138aaf79",
   "metadata": {},
   "outputs": [],
   "source": [
    "3.Python | Check for URL in a String"
   ]
  },
  {
   "cell_type": "code",
   "execution_count": 9,
   "id": "37a6a43b",
   "metadata": {},
   "outputs": [
    {
     "name": "stdout",
     "output_type": "stream",
     "text": [
      "Urls:  ['https://auth.Suresh.org/user/Chinmoy%20Lenka/articles', 'https://www.suresh.org/']\n"
     ]
    }
   ],
   "source": [
    "import re\n",
    "  \n",
    "def Find(string):\n",
    "\n",
    "    regex = r\"(?i)\\b((?:https?://|www\\d{0,3}[.]|[a-z0-9.\\-]+[.][a-z]{2,4}/)(?:[^\\s()<>]+|\\(([^\\s()<>]+|(\\([^\\s()<>]+\\)))*\\))+(?:\\(([^\\s()<>]+|(\\([^\\s()<>]+\\)))*\\)|[^\\s`!()\\[\\]{};:'\\\".,<>?«»“”‘’]))\"\n",
    "    url = re.findall(regex,string)      \n",
    "    return [x[0] for x in url]\n",
    "\n",
    "string = 'My Profile: https://auth.Suresh.org/user/Chinmoy%20Lenka/articles in the portal of https://www.suresh.org/'\n",
    "print(\"Urls: \", Find(string))"
   ]
  },
  {
   "cell_type": "markdown",
   "id": "232baa4f",
   "metadata": {},
   "source": [
    "4.Execute a String of Code in Python"
   ]
  },
  {
   "cell_type": "code",
   "execution_count": 10,
   "id": "ad4f2f7c",
   "metadata": {},
   "outputs": [
    {
     "name": "stdout",
     "output_type": "stream",
     "text": [
      "120\n"
     ]
    }
   ],
   "source": [
    "def exec_code():\n",
    "    LOC = \"\"\"\n",
    "def factorial(num):\n",
    "    fact=1\n",
    "    for i in range(1,num+1):\n",
    "        fact = fact*i\n",
    "    return fact\n",
    "print(factorial(5))\n",
    "\"\"\"\n",
    "    exec(LOC)\n",
    "     \n",
    "exec_code()"
   ]
  },
  {
   "cell_type": "markdown",
   "id": "d8ac536e",
   "metadata": {},
   "source": [
    "5. String slicing in Python to rotate a string"
   ]
  },
  {
   "cell_type": "code",
   "execution_count": 11,
   "id": "0c6c785f",
   "metadata": {},
   "outputs": [
    {
     "name": "stdout",
     "output_type": "stream",
     "text": [
      "Left Rotation :  reshforsabariSu\n",
      "Right Rotation :  riSureshforsaba\n"
     ]
    }
   ],
   "source": [
    "def rotate(input,d): \n",
    "\n",
    "    Lfirst = input[0 : d] \n",
    "    Lsecond = input[d :] \n",
    "    Rfirst = input[0 : len(input)-d] \n",
    "    Rsecond = input[len(input)-d : ] \n",
    "\n",
    "    print (\"Left Rotation : \", (Lsecond + Lfirst) )\n",
    "    print (\"Right Rotation : \", (Rsecond + Rfirst)) \n",
    "\n",
    "if __name__ == \"__main__\": \n",
    "    input = 'Sureshforsabari'\n",
    "    d=2\n",
    "    rotate(input,d) "
   ]
  },
  {
   "cell_type": "markdown",
   "id": "321f8b13",
   "metadata": {},
   "source": [
    "6.String slicing in Python to check if a string can become empty by recursive deletion"
   ]
  },
  {
   "cell_type": "code",
   "execution_count": 12,
   "id": "a03c2429",
   "metadata": {},
   "outputs": [
    {
     "name": "stdout",
     "output_type": "stream",
     "text": [
      "false\n"
     ]
    }
   ],
   "source": [
    "def checkEmpty(input, pattern): \n",
    "\n",
    "    if len(input)== 0 and len(pattern)== 0: \n",
    "         return 'true'\n",
    "\n",
    "    if len(pattern)== 0: \n",
    "         return 'true'\n",
    "    \n",
    "    while (len(input) != 0): \n",
    "\n",
    "        index = input.find(pattern) \n",
    "\n",
    "        if (index ==(-1)): \n",
    "          return 'false'\n",
    " \n",
    "        input = input[0:index] + input[index + len(pattern):]              \n",
    "  \n",
    "    return 'true'\n",
    "\n",
    "if __name__ == \"__main__\": \n",
    "    input ='SURESHFORSABARI'\n",
    "    pattern ='SURESH'\n",
    "    print (checkEmpty(input, pattern))"
   ]
  },
  {
   "cell_type": "markdown",
   "id": "17fac69b",
   "metadata": {},
   "source": [
    "7.Python Counter| Find all duplicate characters in string"
   ]
  },
  {
   "cell_type": "code",
   "execution_count": 15,
   "id": "5fa6aa47",
   "metadata": {},
   "outputs": [
    {
     "ename": "SyntaxError",
     "evalue": "invalid syntax (Temp/ipykernel_15248/3978552925.py, line 11)",
     "output_type": "error",
     "traceback": [
      "\u001b[1;36m  File \u001b[1;32m\"C:\\Users\\dhoraisu\\AppData\\Local\\Temp/ipykernel_15248/3978552925.py\"\u001b[1;36m, line \u001b[1;32m11\u001b[0m\n\u001b[1;33m    print WC.keys()[j],\u001b[0m\n\u001b[1;37m          ^\u001b[0m\n\u001b[1;31mSyntaxError\u001b[0m\u001b[1;31m:\u001b[0m invalid syntax\n"
     ]
    }
   ],
   "source": [
    "from collections import Counter\n",
    "  \n",
    "def find_dup_char(input):\n",
    "    \n",
    "    WC = Counter(input)\n",
    "    j = -1\n",
    "\n",
    "    for i in WC.values():\n",
    "        j = j + 1\n",
    "        if( i > 1 ):\n",
    "            print WC.keys()[j],\n",
    "\n",
    "if __name__ == \"__main__\":\n",
    "    input = 'sureshforadhrith'\n",
    "    find_dup_char(input)"
   ]
  },
  {
   "cell_type": "markdown",
   "id": "6e3a240b",
   "metadata": {},
   "source": [
    "8.Python – Replace all occurrences of a substring in a string"
   ]
  },
  {
   "cell_type": "code",
   "execution_count": 16,
   "id": "0df397dd",
   "metadata": {},
   "outputs": [
    {
     "name": "stdout",
     "output_type": "stream",
     "text": [
      "abcd\n"
     ]
    }
   ],
   "source": [
    "input_string = \"Suresh\"\n",
    "s1 = \"Suresh\"\n",
    "s2 = \"abcd\"\n",
    "input_string = input_string.replace(s1, s2)\n",
    "print(input_string)"
   ]
  },
  {
   "cell_type": "markdown",
   "id": "ee61bb94",
   "metadata": {},
   "source": [
    "9.Python – Extract Unique values dictionary values"
   ]
  },
  {
   "cell_type": "code",
   "execution_count": 17,
   "id": "85bf1ff4",
   "metadata": {},
   "outputs": [
    {
     "name": "stdout",
     "output_type": "stream",
     "text": [
      "The original dictionary is : {'gfg': [5, 6, 7, 8], 'is': [10, 11, 7, 5], 'best': [6, 12, 10, 8], 'for': [1, 2, 5]}\n",
      "The unique values list is : [1, 2, 5, 6, 7, 8, 10, 11, 12]\n"
     ]
    }
   ],
   "source": [
    "test_dict = {'gfg' : [5, 6, 7, 8],\n",
    "             'is' : [10, 11, 7, 5],\n",
    "             'best' : [6, 12, 10, 8],\n",
    "             'for' : [1, 2, 5]}\n",
    "\n",
    "print(\"The original dictionary is : \" + str(test_dict))\n",
    "\n",
    "res = list(sorted({ele for val in test_dict.values() for ele in val}))\n",
    "\n",
    "print(\"The unique values list is : \" + str(res)) "
   ]
  },
  {
   "cell_type": "code",
   "execution_count": null,
   "id": "2fa18451",
   "metadata": {},
   "outputs": [],
   "source": []
  }
 ],
 "metadata": {
  "kernelspec": {
   "display_name": "Python 3 (ipykernel)",
   "language": "python",
   "name": "python3"
  },
  "language_info": {
   "codemirror_mode": {
    "name": "ipython",
    "version": 3
   },
   "file_extension": ".py",
   "mimetype": "text/x-python",
   "name": "python",
   "nbconvert_exporter": "python",
   "pygments_lexer": "ipython3",
   "version": "3.9.7"
  }
 },
 "nbformat": 4,
 "nbformat_minor": 5
}
