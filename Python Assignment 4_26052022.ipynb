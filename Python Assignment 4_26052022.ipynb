{
 "cells": [
  {
   "cell_type": "markdown",
   "id": "34c15106",
   "metadata": {},
   "source": [
    "1.Python program to find smallest number in a list"
   ]
  },
  {
   "cell_type": "code",
   "execution_count": 17,
   "id": "3b6bf1e6",
   "metadata": {},
   "outputs": [],
   "source": [
    "a=[1,34,-2,5,6,7,98]"
   ]
  },
  {
   "cell_type": "code",
   "execution_count": 18,
   "id": "12cd462a",
   "metadata": {},
   "outputs": [],
   "source": [
    "a.sort()"
   ]
  },
  {
   "cell_type": "code",
   "execution_count": 19,
   "id": "7786d18e",
   "metadata": {},
   "outputs": [
    {
     "name": "stdout",
     "output_type": "stream",
     "text": [
      "[-2, 1, 5, 6, 7, 34, 98]\n"
     ]
    }
   ],
   "source": [
    "print(a)"
   ]
  },
  {
   "cell_type": "code",
   "execution_count": 20,
   "id": "1caa8f44",
   "metadata": {},
   "outputs": [
    {
     "name": "stdout",
     "output_type": "stream",
     "text": [
      "Smallest element is: -2\n"
     ]
    }
   ],
   "source": [
    "print(\"Smallest element is:\", *a[:1])"
   ]
  },
  {
   "cell_type": "markdown",
   "id": "72adedd5",
   "metadata": {},
   "source": [
    "2.Python program to find largest number in a list"
   ]
  },
  {
   "cell_type": "code",
   "execution_count": 25,
   "id": "45c161a5",
   "metadata": {},
   "outputs": [
    {
     "name": "stdout",
     "output_type": "stream",
     "text": [
      "[-2, 1, 5, 6, 7, 34, 98]\n"
     ]
    }
   ],
   "source": [
    "print(a)"
   ]
  },
  {
   "cell_type": "code",
   "execution_count": 27,
   "id": "0d020fd9",
   "metadata": {},
   "outputs": [
    {
     "name": "stdout",
     "output_type": "stream",
     "text": [
      "Largest element is: 98\n"
     ]
    }
   ],
   "source": [
    "print(\"Largest element is:\", a[-1])"
   ]
  },
  {
   "cell_type": "markdown",
   "id": "3efe97ad",
   "metadata": {},
   "source": [
    "3.Python program to find second largest number in a list"
   ]
  },
  {
   "cell_type": "code",
   "execution_count": 28,
   "id": "867b798c",
   "metadata": {},
   "outputs": [
    {
     "name": "stdout",
     "output_type": "stream",
     "text": [
      "Second highest number is :  45\n"
     ]
    }
   ],
   "source": [
    "list1 = [10, 20, 4, 45, 99]\n",
    " \n",
    "mx=max(list1[0],list1[1])\n",
    "secondmax=min(list1[0],list1[1])\n",
    "n =len(list1)\n",
    "for i in range(2,n):\n",
    "    if list1[i]>mx:\n",
    "        secondmax=mx\n",
    "        mx=list1[i]\n",
    "    elif list1[i]>secondmax and \\\n",
    "        mx != list1[i]:\n",
    "        secondmax=list1[i]\n",
    " \n",
    "print(\"Second highest number is : \",\\\n",
    "      str(secondmax))"
   ]
  },
  {
   "cell_type": "code",
   "execution_count": 31,
   "id": "1db84251",
   "metadata": {},
   "outputs": [
    {
     "name": "stdout",
     "output_type": "stream",
     "text": [
      "[10, 20, 4, 45, 99]\n"
     ]
    }
   ],
   "source": [
    "list1 = [10, 20, 4, 45, 99]\n",
    "print(list1)"
   ]
  },
  {
   "cell_type": "code",
   "execution_count": 35,
   "id": "4aa41c1d",
   "metadata": {},
   "outputs": [
    {
     "name": "stdout",
     "output_type": "stream",
     "text": [
      "{99, 4, 10, 45, 20}\n"
     ]
    }
   ],
   "source": [
    "new_list = set(list1)\n",
    "print(new_list)"
   ]
  },
  {
   "cell_type": "code",
   "execution_count": 33,
   "id": "d1129e20",
   "metadata": {},
   "outputs": [],
   "source": [
    "new_list.remove(max(new_list))"
   ]
  },
  {
   "cell_type": "code",
   "execution_count": 34,
   "id": "f325ebac",
   "metadata": {},
   "outputs": [
    {
     "name": "stdout",
     "output_type": "stream",
     "text": [
      "45\n"
     ]
    }
   ],
   "source": [
    "print(max(new_list))"
   ]
  },
  {
   "cell_type": "markdown",
   "id": "d658aadd",
   "metadata": {},
   "source": [
    "4.Python program to find N largest elements from a list"
   ]
  },
  {
   "cell_type": "code",
   "execution_count": 40,
   "id": "defa2264",
   "metadata": {},
   "outputs": [
    {
     "name": "stdout",
     "output_type": "stream",
     "text": [
      "[29, 60, 100, 357]\n"
     ]
    }
   ],
   "source": [
    "l = [100,29,357,10,20,-5,60]\n",
    "n = 4\n",
    "  \n",
    "l.sort()\n",
    "print(l[-n:])"
   ]
  },
  {
   "cell_type": "markdown",
   "id": "dd788141",
   "metadata": {},
   "source": [
    "5.Python program to print even numbers in a list"
   ]
  },
  {
   "cell_type": "code",
   "execution_count": 41,
   "id": "6acfda9e",
   "metadata": {},
   "outputs": [
    {
     "name": "stdout",
     "output_type": "stream",
     "text": [
      "10 4 66 "
     ]
    }
   ],
   "source": [
    "list1 = [10, 21, 4, 45, 66, 93]\n",
    " \n",
    "\n",
    "for n in list1:\n",
    "     if n % 2 == 0:\n",
    "        print(n, end=\" \")"
   ]
  },
  {
   "cell_type": "code",
   "execution_count": null,
   "id": "7ed3da6f",
   "metadata": {},
   "outputs": [],
   "source": [
    "6.Python program to print odd numbers in a List"
   ]
  },
  {
   "cell_type": "code",
   "execution_count": 42,
   "id": "4447b105",
   "metadata": {},
   "outputs": [
    {
     "name": "stdout",
     "output_type": "stream",
     "text": [
      "21 45 93 "
     ]
    }
   ],
   "source": [
    "list1 = [10, 21, 4, 45, 66, 93]\n",
    " \n",
    "\n",
    "for n in list1:\n",
    "     if n % 2 != 0:\n",
    "        print(n, end=\" \")"
   ]
  },
  {
   "cell_type": "markdown",
   "id": "c66e6125",
   "metadata": {},
   "source": [
    "7.Python program to print all even numbers in a range"
   ]
  },
  {
   "cell_type": "code",
   "execution_count": 57,
   "id": "b846a518",
   "metadata": {},
   "outputs": [
    {
     "name": "stdout",
     "output_type": "stream",
     "text": [
      "0 2 4 6 8 10 12 14 16 18 20 22 24 26 28 30 32 34 36 38 40 42 44 46 48 50 52 54 56 58 60 62 64 66 68 70 72 74 76 78 80 82 84 86 88 90 92 94 96 98 "
     ]
    }
   ],
   "source": [
    "for n in range(0,100,2):\n",
    "    print(n, end=\" \")"
   ]
  },
  {
   "cell_type": "markdown",
   "id": "f08ba639",
   "metadata": {},
   "source": [
    "8.Python program to print all odd numbers in a range"
   ]
  },
  {
   "cell_type": "code",
   "execution_count": 58,
   "id": "b49ac750",
   "metadata": {},
   "outputs": [
    {
     "name": "stdout",
     "output_type": "stream",
     "text": [
      "Enter the start of range: 1\n",
      "Enter the end of range: 100\n",
      "1 3 5 7 9 11 13 15 17 19 21 23 25 27 29 31 33 35 37 39 41 43 45 47 49 51 53 55 57 59 61 63 65 67 69 71 73 75 77 79 81 83 85 87 89 91 93 95 97 99 "
     ]
    }
   ],
   "source": [
    "start = int(input(\"Enter the start of range: \"))\n",
    "end = int(input(\"Enter the end of range: \"))\n",
    "\n",
    "for n in range(start, end + 1):\n",
    "      \n",
    "    if n % 2 != 0:\n",
    "        print(n, end = \" \")"
   ]
  },
  {
   "cell_type": "markdown",
   "id": "dc6f06aa",
   "metadata": {},
   "source": [
    "9.Python program to print positive numbers in a list"
   ]
  },
  {
   "cell_type": "code",
   "execution_count": 59,
   "id": "1e274eb6",
   "metadata": {},
   "outputs": [
    {
     "name": "stdout",
     "output_type": "stream",
     "text": [
      "3 4 7 23 "
     ]
    }
   ],
   "source": [
    "d=[-1,3,4,7,23,-22,-30]\n",
    "for x in d:\n",
    "    if x>=0:\n",
    "        print(x, end =\" \")"
   ]
  },
  {
   "cell_type": "markdown",
   "id": "ab345813",
   "metadata": {},
   "source": [
    "10.Python program to print negative numbers in a list"
   ]
  },
  {
   "cell_type": "code",
   "execution_count": 60,
   "id": "11c85655",
   "metadata": {},
   "outputs": [
    {
     "name": "stdout",
     "output_type": "stream",
     "text": [
      "-1 -22 -30 "
     ]
    }
   ],
   "source": [
    "d=[-1,3,4,7,23,-22,-30]\n",
    "for x in d:\n",
    "    if x<=0:\n",
    "        print(x, end =\" \")"
   ]
  },
  {
   "cell_type": "markdown",
   "id": "1a1a1bbd",
   "metadata": {},
   "source": [
    "11. Python program to print all positive numbers in a range"
   ]
  },
  {
   "cell_type": "code",
   "execution_count": 64,
   "id": "d15ac8eb",
   "metadata": {},
   "outputs": [
    {
     "name": "stdout",
     "output_type": "stream",
     "text": [
      "Enter the start of range: -45\n",
      "Enter the end of range: 50\n",
      "0 1 2 3 4 5 6 7 8 9 10 11 12 13 14 15 16 17 18 19 20 21 22 23 24 25 26 27 28 29 30 31 32 33 34 35 36 37 38 39 40 41 42 43 44 45 46 47 48 49 50 "
     ]
    }
   ],
   "source": [
    "start = int(input(\"Enter the start of range: \"))\n",
    "end = int(input(\"Enter the end of range: \"))\n",
    "\n",
    "for n in range(start, end + 1):\n",
    "      \n",
    "    if n >= 0:\n",
    "        print(n, end = \" \")"
   ]
  },
  {
   "cell_type": "code",
   "execution_count": null,
   "id": "278c5998",
   "metadata": {},
   "outputs": [],
   "source": []
  }
 ],
 "metadata": {
  "kernelspec": {
   "display_name": "Python 3 (ipykernel)",
   "language": "python",
   "name": "python3"
  },
  "language_info": {
   "codemirror_mode": {
    "name": "ipython",
    "version": 3
   },
   "file_extension": ".py",
   "mimetype": "text/x-python",
   "name": "python",
   "nbconvert_exporter": "python",
   "pygments_lexer": "ipython3",
   "version": "3.9.7"
  }
 },
 "nbformat": 4,
 "nbformat_minor": 5
}
