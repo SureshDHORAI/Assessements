{
 "cells": [
  {
   "cell_type": "markdown",
   "id": "276814c7",
   "metadata": {},
   "source": [
    "1.Reverse words in a given String in Python"
   ]
  },
  {
   "cell_type": "code",
   "execution_count": 2,
   "id": "cbe5378a",
   "metadata": {},
   "outputs": [
    {
     "name": "stdout",
     "output_type": "stream",
     "text": [
      "Canada to Travel\n"
     ]
    }
   ],
   "source": [
    "def rev_sentence(sentence): \n",
    "    words = sentence.split(' ') \n",
    "    reverse_sentence = ' '.join(reversed(words)) \n",
    "    return reverse_sentence \n",
    "  \n",
    "if __name__ == \"__main__\": \n",
    "    input = 'Travel to Canada'\n",
    "    print (rev_sentence(input))"
   ]
  },
  {
   "cell_type": "markdown",
   "id": "d5bcb98c",
   "metadata": {},
   "source": [
    "2.Ways to remove i’th character from string in Python"
   ]
  },
  {
   "cell_type": "code",
   "execution_count": 9,
   "id": "3adbc569",
   "metadata": {},
   "outputs": [
    {
     "name": "stdout",
     "output_type": "stream",
     "text": [
      "The original string is : Suresh#for#Sabari\n",
      "The string after removal of i'th character( doesn't work) : Suresh for Sabari\n",
      "The string after removal of i'th character(works) : Sures #for#Sabari\n"
     ]
    }
   ],
   "source": [
    "test_str = \"Suresh#for#Sabari\"\n",
    "print (\"The original string is : \" + test_str)\n",
    "new_str = test_str.replace('#', ' ')\n",
    "print (\"The string after removal of i'th character( doesn't work) : \" + new_str)\n",
    "new_str = test_str.replace('h', ' ')\n",
    "print (\"The string after removal of i'th character(works) : \" + new_str)"
   ]
  },
  {
   "cell_type": "markdown",
   "id": "9464019c",
   "metadata": {},
   "source": [
    "3. Python | Check if a Substring is Present in a Given String"
   ]
  },
  {
   "cell_type": "code",
   "execution_count": 11,
   "id": "a3ecd904",
   "metadata": {},
   "outputs": [
    {
     "name": "stdout",
     "output_type": "stream",
     "text": [
      "NO\n"
     ]
    }
   ],
   "source": [
    "def check(string, sub_str):\n",
    "    if (string.find(sub_str) == -1):\n",
    "        print(\"NO\")\n",
    "    else:\n",
    "        print(\"YES\")\n",
    "           \n",
    "string = \"Suresh for Sabari\"\n",
    "sub_str = \"Adhrith\"\n",
    "check(string, sub_str)"
   ]
  },
  {
   "cell_type": "markdown",
   "id": "424da991",
   "metadata": {},
   "source": [
    "4.Python – Words Frequency in String Shorthands"
   ]
  },
  {
   "cell_type": "code",
   "execution_count": 14,
   "id": "03480469",
   "metadata": {},
   "outputs": [
    {
     "name": "stdout",
     "output_type": "stream",
     "text": [
      "The original string is : Sabari is best . Sabari is good and Adhrith like Sabari\n",
      "The words frequency : {'Sabari': 3, 'is': 2, 'best': 1, '.': 1, 'good': 1, 'and': 1, 'Adhrith': 1, 'like': 1}\n"
     ]
    }
   ],
   "source": [
    "test_str = 'Sabari is best . Sabari is good and Adhrith like Sabari'\n",
    "print(\"The original string is : \" + str(test_str))\n",
    "res = {key: test_str.count(key) for key in test_str.split()}\n",
    "print(\"The words frequency : \" + str(res)) "
   ]
  },
  {
   "cell_type": "markdown",
   "id": "bc574ca8",
   "metadata": {},
   "source": [
    "5.Python – Convert Snake case to Pascal case"
   ]
  },
  {
   "cell_type": "code",
   "execution_count": 17,
   "id": "a9581ef0",
   "metadata": {},
   "outputs": [
    {
     "name": "stdout",
     "output_type": "stream",
     "text": [
      "The original string is : Sabari_is_best . Sabari_is_good and Adhrith like Sabari\n",
      "The String after changing case : Sabari Is Best . Sabari Is Good And Adhrith Like Sabari\n"
     ]
    }
   ],
   "source": [
    "test_str = 'Sabari_is_best . Sabari_is_good and Adhrith like Sabari'\n",
    "print(\"The original string is : \" + str(test_str))\n",
    "res = test_str.replace(\"_\", \" \").title().replace(\" \", \" \")\n",
    "print(\"The String after changing case : \" + str(res)) "
   ]
  },
  {
   "cell_type": "markdown",
   "id": "2494b577",
   "metadata": {},
   "source": [
    "6.Find length of a string in python (4 ways)"
   ]
  },
  {
   "cell_type": "code",
   "execution_count": 18,
   "id": "c43d1c9f",
   "metadata": {},
   "outputs": [
    {
     "name": "stdout",
     "output_type": "stream",
     "text": [
      "6\n"
     ]
    }
   ],
   "source": [
    "str = \"Suresh\"\n",
    "print(len(str))"
   ]
  },
  {
   "cell_type": "code",
   "execution_count": 20,
   "id": "316f459d",
   "metadata": {},
   "outputs": [
    {
     "name": "stdout",
     "output_type": "stream",
     "text": [
      "19\n"
     ]
    }
   ],
   "source": [
    "def findLen(str):\n",
    "    counter = 0    \n",
    "    for i in str:\n",
    "        counter += 1\n",
    "    return counter\n",
    "  \n",
    "  \n",
    "str = \"Suresh Kumar DHORAI\"\n",
    "print(findLen(str))"
   ]
  },
  {
   "cell_type": "code",
   "execution_count": 21,
   "id": "b3c00452",
   "metadata": {},
   "outputs": [
    {
     "name": "stdout",
     "output_type": "stream",
     "text": [
      "19\n"
     ]
    }
   ],
   "source": [
    "def findLen(str):\n",
    "    counter = 0\n",
    "    while str[counter:]:\n",
    "        counter += 1\n",
    "    return counter\n",
    "  \n",
    "str = \"Suresh Kumar DHORAI\"\n",
    "print(findLen(str))"
   ]
  },
  {
   "cell_type": "code",
   "execution_count": 22,
   "id": "cf1637d8",
   "metadata": {},
   "outputs": [
    {
     "name": "stdout",
     "output_type": "stream",
     "text": [
      "19\n"
     ]
    }
   ],
   "source": [
    "def findLen(str):\n",
    "    if not str:\n",
    "        return 0\n",
    "    else:\n",
    "        some_random_str = 'py'\n",
    "        return ((some_random_str).join(str)).count(some_random_str) + 1\n",
    "  \n",
    "str = \"Suresh Kumar DHORAI\"\n",
    "print(findLen(str))"
   ]
  },
  {
   "cell_type": "markdown",
   "id": "a11d5ce8",
   "metadata": {},
   "source": [
    "7.Python program to print even length words in a string"
   ]
  },
  {
   "cell_type": "code",
   "execution_count": 24,
   "id": "b750a55f",
   "metadata": {},
   "outputs": [
    {
     "name": "stdout",
     "output_type": "stream",
     "text": [
      "am\n",
      "Suresh\n"
     ]
    }
   ],
   "source": [
    "def pwords(s):\n",
    "    s = s.split(' ') \n",
    "\n",
    "    for word in s: \n",
    "\n",
    "        if len(word)%2==0:\n",
    "            print(word) \n",
    "s = \"i am Suresh\" \n",
    "pwords(s)"
   ]
  },
  {
   "cell_type": "markdown",
   "id": "4220938e",
   "metadata": {},
   "source": [
    "8.Python program to accept the strings which contains all vowels"
   ]
  },
  {
   "cell_type": "code",
   "execution_count": 25,
   "id": "d74d926e",
   "metadata": {},
   "outputs": [
    {
     "name": "stdout",
     "output_type": "stream",
     "text": [
      "not accepted\n"
     ]
    }
   ],
   "source": [
    "def check(string):\n",
    "    if len(set(string.lower()).intersection(\"aeiou\")) >= 5:\n",
    "        return ('accepted')\n",
    "    else:\n",
    "        return (\"not accepted\")\n",
    "\n",
    "if __name__ == \"__main__\":\n",
    "    string = \"Suresh is Great\"\n",
    "    print(check(string))"
   ]
  },
  {
   "cell_type": "markdown",
   "id": "7183a8a6",
   "metadata": {},
   "source": [
    "9.Python | Count the Number of matching characters in a pair of string"
   ]
  },
  {
   "cell_type": "code",
   "execution_count": 26,
   "id": "9f70d4c3",
   "metadata": {},
   "outputs": [
    {
     "name": "stdout",
     "output_type": "stream",
     "text": [
      "No. of matching characters are :  5\n"
     ]
    }
   ],
   "source": [
    "def count(str1, str2): \n",
    "    c, j = 0, 0\n",
    "\n",
    "    for i in str1:    \n",
    "\n",
    "        if str2.find(i)>= 0 and j == str1.find(i): \n",
    "            c += 1\n",
    "        j += 1\n",
    "    print ('No. of matching characters are : ', c)\n",
    "\n",
    "def main(): \n",
    "    str1 ='aabcddekll12@' \n",
    "    str2 ='bb2211@55k' \n",
    "    count(str1, str2)  \n",
    "\n",
    "if __name__==\"__main__\":\n",
    "    main()"
   ]
  },
  {
   "cell_type": "code",
   "execution_count": null,
   "id": "5ff7e35f",
   "metadata": {},
   "outputs": [],
   "source": []
  },
  {
   "cell_type": "code",
   "execution_count": null,
   "id": "653d7b5f",
   "metadata": {},
   "outputs": [],
   "source": []
  },
  {
   "cell_type": "code",
   "execution_count": null,
   "id": "4c16fd07",
   "metadata": {},
   "outputs": [],
   "source": []
  }
 ],
 "metadata": {
  "kernelspec": {
   "display_name": "Python 3 (ipykernel)",
   "language": "python",
   "name": "python3"
  },
  "language_info": {
   "codemirror_mode": {
    "name": "ipython",
    "version": 3
   },
   "file_extension": ".py",
   "mimetype": "text/x-python",
   "name": "python",
   "nbconvert_exporter": "python",
   "pygments_lexer": "ipython3",
   "version": "3.9.7"
  }
 },
 "nbformat": 4,
 "nbformat_minor": 5
}
