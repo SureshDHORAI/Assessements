{
 "cells": [
  {
   "cell_type": "markdown",
   "id": "675515ce",
   "metadata": {},
   "source": [
    "1.Python | Convert a list of Tuples into Dictionary"
   ]
  },
  {
   "cell_type": "code",
   "execution_count": 2,
   "id": "1c6efe87",
   "metadata": {},
   "outputs": [
    {
     "name": "stdout",
     "output_type": "stream",
     "text": [
      "{'akash': [10], 'gaurav': [12], 'anand': [14], 'suraj': [20], 'akhil': [25], 'ashish': [30]}\n"
     ]
    }
   ],
   "source": [
    "def Convert(tup, di):\n",
    "    for a, b in tup:\n",
    "        di.setdefault(a, []).append(b)\n",
    "    return di\n",
    "  \n",
    "tups = [(\"akash\", 10), (\"gaurav\", 12), (\"anand\", 14), \n",
    "     (\"suraj\", 20), (\"akhil\", 25), (\"ashish\", 30)]\n",
    "dictionary = {}\n",
    "print (Convert(tups, dictionary))"
   ]
  },
  {
   "cell_type": "code",
   "execution_count": null,
   "id": "1a7c9b3f",
   "metadata": {},
   "outputs": [],
   "source": [
    "2.Python | Convert a list of Tuples into Dictionary"
   ]
  },
  {
   "cell_type": "code",
   "execution_count": 3,
   "id": "0d3226f0",
   "metadata": {},
   "outputs": [
    {
     "name": "stdout",
     "output_type": "stream",
     "text": [
      "Possible\n"
     ]
    }
   ],
   "source": [
    "from collections import Counter\n",
    " \n",
    "def makeString(str1,str2):\n",
    "\n",
    "    dict1 = Counter(str1)\n",
    "    dict2 = Counter(str2)\n",
    "\n",
    "    result = dict1 & dict2\n",
    "\n",
    "    return result == dict1\n",
    "\n",
    "if __name__ == \"__main__\":\n",
    "    str1 = 'ABHISHEKsinGH'\n",
    "    str2 = 'gfhfBHkooIHnfndSHEKsiAnG'\n",
    "    if (makeString(str1,str2)==True):\n",
    "        print(\"Possible\")\n",
    "    else:\n",
    "        print(\"Not Possible\")"
   ]
  },
  {
   "cell_type": "markdown",
   "id": "41dad398",
   "metadata": {},
   "source": [
    "3.Python dictionary, set and counter to check if frequencies can become same"
   ]
  },
  {
   "cell_type": "code",
   "execution_count": 4,
   "id": "dbbfa941",
   "metadata": {},
   "outputs": [
    {
     "name": "stdout",
     "output_type": "stream",
     "text": [
      "No\n"
     ]
    }
   ],
   "source": [
    "from collections import Counter\n",
    "  \n",
    "def allSame(input):\n",
    "\n",
    "    dict=Counter(input)\n",
    "\n",
    "    same = list(set(dict.values()))\n",
    "  \n",
    "    if len(same)>2:\n",
    "        print('No')\n",
    "    elif len (same)==2 and same[1]-same[0]>1:\n",
    "        print('No')\n",
    "    else:\n",
    "        print('Yes')\n",
    "\n",
    "if __name__ == \"__main__\":\n",
    "    input = 'xxxyyzzt'\n",
    "    allSame(input)"
   ]
  },
  {
   "cell_type": "markdown",
   "id": "60220b0f",
   "metadata": {},
   "source": [
    "4.Scraping And Finding Ordered Words In A Dictionary using Python"
   ]
  },
  {
   "cell_type": "code",
   "execution_count": 19,
   "id": "55a56470",
   "metadata": {},
   "outputs": [],
   "source": [
    "import requests\n",
    "  \n",
    "# Scrapes the words from the URL below and stores \n",
    "# them in a list\n",
    "def getWords():\n",
    "  \n",
    "    # contains about 2500 words\n",
    "    url = \"http://www.puzzlers.org/pub/wordlists/unixdict.txt\"\n",
    "    fetchData = requests.get(url)\n",
    "  \n",
    "    # extracts the content of the webpage\n",
    "    wordList = fetchData.content\n",
    "  \n",
    "    # decodes the UTF-8 encoded text and splits the \n",
    "    # string to turn it into a list of words\n",
    "    wordList = wordList.decode(\"utf-8\").split()\n",
    "  \n",
    "    return wordList\n",
    "  \n",
    "  \n",
    "# function to determine whether a word is ordered or not\n",
    "def isOrdered():\n",
    "  \n",
    "    # fetching the wordList\n",
    "    collection = getWords()\n",
    "  \n",
    "    # since the first few of the elements of the \n",
    "    # dictionary are numbers, getting rid of those\n",
    "    # numbers by slicing off the first 17 elements\n",
    "    collection = collection[16:]\n",
    "    word = ''\n",
    "  \n",
    "    for word in collection:\n",
    "        result = 'Word is ordered'\n",
    "        i = 0\n",
    "        l = len(word) - 1\n",
    "  \n",
    "        if (len(word) < 3): # skips the 1 and 2 lettered strings\n",
    "            continue\n",
    "  \n",
    "        # traverses through all characters of the word in pairs\n",
    "        while i < l:         \n",
    "            if (ord(word[i]) > ord(word[i+1])):\n",
    "                result = 'Word is not ordered'\n",
    "                break\n",
    "            else:\n",
    "                i += 1\n",
    "  \n",
    "        # only printing the ordered words\n",
    "        if (result == 'Word is ordered'):\n",
    "            print(word,': ',result)\n",
    "  \n",
    "  \n",
    "# execute isOrdered() function\n",
    "if __name__ == '__main__':\n",
    "    isOrdered()"
   ]
  },
  {
   "cell_type": "markdown",
   "id": "aa6b85f3",
   "metadata": {},
   "source": [
    "5.Possible Words using given characters in Python"
   ]
  },
  {
   "cell_type": "code",
   "execution_count": 20,
   "id": "cb50eca8",
   "metadata": {},
   "outputs": [
    {
     "name": "stdout",
     "output_type": "stream",
     "text": [
      "me\n",
      "goal\n"
     ]
    }
   ],
   "source": [
    "def charCount(word):\n",
    "    dict = {}\n",
    "    for i in word:\n",
    "        dict[i] = dict.get(i, 0) + 1\n",
    "    return dict\n",
    "  \n",
    "  \n",
    "def possible_words(lwords, charSet):\n",
    "    for word in lwords:\n",
    "        flag = 1\n",
    "        chars = charCount(word)\n",
    "        for key in chars:\n",
    "            if key not in charSet:\n",
    "                flag = 0\n",
    "            else:\n",
    "                if charSet.count(key) != chars[key]:\n",
    "                    flag = 0\n",
    "        if flag == 1:\n",
    "            print(word)\n",
    "  \n",
    "if __name__ == \"__main__\":\n",
    "    input = ['goo', 'bat', 'me', 'eat', 'goal', 'boy', 'run']\n",
    "    charSet = ['e', 'o', 'b', 'a', 'm', 'g', 'l']\n",
    "    possible_words(input, charSet)"
   ]
  },
  {
   "cell_type": "markdown",
   "id": "a4c36c5d",
   "metadata": {},
   "source": [
    "6.Python – Keys associated with Values in Dictionary"
   ]
  },
  {
   "cell_type": "code",
   "execution_count": 21,
   "id": "6428920c",
   "metadata": {},
   "outputs": [
    {
     "name": "stdout",
     "output_type": "stream",
     "text": [
      "The original dictionary : {'gfg': [4, 5], 'is': [8], 'best': [10, 12]}\n",
      "The keys mapped to [5, 10] are : ['gfg', 'best']\n"
     ]
    }
   ],
   "source": [
    "test_dict = {'gfg' : [4, 5], 'is' : [8], 'best' : [10, 12]}\n",
    "\n",
    "print(\"The original dictionary : \" + str(test_dict))\n",
    "\n",
    "val_list = [5, 10]\n",
    "\n",
    "temp = {}\n",
    "for key, vals in test_dict.items():\n",
    "    for val in vals:\n",
    "        temp[val] = key\n",
    "res = [temp[ele] for ele in val_list]\n",
    "\n",
    "print(\"The keys mapped to \" + str(val_list) + \" are : \" + str(res)) "
   ]
  },
  {
   "cell_type": "markdown",
   "id": "31c4ae75",
   "metadata": {},
   "source": [
    "7.Python program to Find the size of a Tuple"
   ]
  },
  {
   "cell_type": "code",
   "execution_count": 22,
   "id": "62dc0097",
   "metadata": {},
   "outputs": [
    {
     "name": "stdout",
     "output_type": "stream",
     "text": [
      "Size of Tuple1: 72bytes\n",
      "Size of Tuple2: 72bytes\n",
      "Size of Tuple3: 56bytes\n"
     ]
    }
   ],
   "source": [
    "Tuple1 = (\"A\", 1, \"B\", 2, \"C\", 3)\n",
    "Tuple2 = (\"Adhrith1\", \"Raju\", \"Dhruva1\", \"Nikhil\", \"Sabari1\", \"Deepanshu\")\n",
    "Tuple3 = ((1, \"Lion\"), ( 2, \"Tiger\"), (3, \"Fox\"), (4, \"Wolf\"))\n",
    "\n",
    "print(\"Size of Tuple1: \" + str(Tuple1.__sizeof__()) + \"bytes\")\n",
    "print(\"Size of Tuple2: \" + str(Tuple2.__sizeof__()) + \"bytes\")\n",
    "print(\"Size of Tuple3: \" + str(Tuple3.__sizeof__()) + \"bytes\")"
   ]
  },
  {
   "cell_type": "markdown",
   "id": "12d69b80",
   "metadata": {},
   "source": [
    "8.Python – Maximum and Minimum K elements in Tuple"
   ]
  },
  {
   "cell_type": "code",
   "execution_count": 23,
   "id": "c8ebfeef",
   "metadata": {},
   "outputs": [
    {
     "name": "stdout",
     "output_type": "stream",
     "text": [
      "The original tuple:  (13, 10, 23, 2, 5, 6, 12)\n",
      "Max and Min K elements :  (2, 5, 13, 23)\n"
     ]
    }
   ],
   "source": [
    "def Findel(tup,K):\n",
    "    result = []\n",
    "    test_tup = list(tup)\n",
    "    temp = sorted(tup)\n",
    "    for i, val in enumerate(temp):\n",
    "        if i < K or i >= len(temp) - K:\n",
    "            result.append(val)\n",
    "    result = tuple(result)\n",
    "    # printing result \n",
    "    print(\"Max and Min K elements : \",result)\n",
    "\n",
    "tup = (13, 10, 23, 2, 5, 6, 12)\n",
    "K = 2\n",
    "print(\"The original tuple: \", tup)\n",
    "Findel(tup,K)"
   ]
  },
  {
   "cell_type": "markdown",
   "id": "d370e0fb",
   "metadata": {},
   "source": [
    "9.Create a list of tuples from given list having number and its cube in each tuple"
   ]
  },
  {
   "cell_type": "code",
   "execution_count": 24,
   "id": "2bc15fd7",
   "metadata": {},
   "outputs": [
    {
     "name": "stdout",
     "output_type": "stream",
     "text": [
      "[(1, 1), (2, 8), (5, 125), (6, 216)]\n"
     ]
    }
   ],
   "source": [
    "list1 = [1, 2, 5, 6]\n",
    "\n",
    "res = [(val, pow(val, 3)) for val in list1]\n",
    "\n",
    "print(res)"
   ]
  },
  {
   "cell_type": "markdown",
   "id": "b7e5d4c7",
   "metadata": {},
   "source": [
    "10.Python – Adding Tuple to List and vice – versa"
   ]
  },
  {
   "cell_type": "code",
   "execution_count": 25,
   "id": "4f76124c",
   "metadata": {},
   "outputs": [
    {
     "name": "stdout",
     "output_type": "stream",
     "text": [
      "The original list is : [5, 6, 7]\n",
      "The container after addition : [5, 6, 7, 9, 10]\n"
     ]
    }
   ],
   "source": [
    "test_list = [5, 6, 7]\n",
    "\n",
    "print(\"The original list is : \" + str(test_list))\n",
    "\n",
    "test_tup = (9, 10)\n",
    "\n",
    "test_list += test_tup\n",
    "\n",
    "print(\"The container after addition : \" + str(test_list))"
   ]
  },
  {
   "cell_type": "code",
   "execution_count": null,
   "id": "19a8d25b",
   "metadata": {},
   "outputs": [],
   "source": []
  },
  {
   "cell_type": "code",
   "execution_count": null,
   "id": "eccf3b6d",
   "metadata": {},
   "outputs": [],
   "source": []
  },
  {
   "cell_type": "code",
   "execution_count": null,
   "id": "1b728ef8",
   "metadata": {},
   "outputs": [],
   "source": []
  },
  {
   "cell_type": "code",
   "execution_count": null,
   "id": "38b1870d",
   "metadata": {},
   "outputs": [],
   "source": []
  }
 ],
 "metadata": {
  "kernelspec": {
   "display_name": "Python 3 (ipykernel)",
   "language": "python",
   "name": "python3"
  },
  "language_info": {
   "codemirror_mode": {
    "name": "ipython",
    "version": 3
   },
   "file_extension": ".py",
   "mimetype": "text/x-python",
   "name": "python",
   "nbconvert_exporter": "python",
   "pygments_lexer": "ipython3",
   "version": "3.9.7"
  }
 },
 "nbformat": 4,
 "nbformat_minor": 5
}
