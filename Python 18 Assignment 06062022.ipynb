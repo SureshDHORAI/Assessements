{
 "cells": [
  {
   "cell_type": "markdown",
   "id": "ae6fd45f",
   "metadata": {},
   "source": [
    "1. Python – Check whether a string starts and ends with the same character or not"
   ]
  },
  {
   "cell_type": "code",
   "execution_count": 1,
   "id": "78b8a436",
   "metadata": {},
   "outputs": [
    {
     "name": "stdout",
     "output_type": "stream",
     "text": [
      "Valid\n",
      "Valid\n",
      "Invalid\n"
     ]
    }
   ],
   "source": [
    "import re\n",
    "\n",
    "regex = r'^[a-z]$|^([a-z]).*\\1$'\n",
    "\n",
    "def check(string):\n",
    "\n",
    "    if(re.search(regex, string)): \n",
    "        print(\"Valid\") \n",
    "    else: \n",
    "        print(\"Invalid\") \n",
    " \n",
    "if __name__ == '__main__' :\n",
    " \n",
    "    sample1 = \"abba\"\n",
    "    sample2 = \"a\"\n",
    "    sample3 = \"abcd\"\n",
    " \n",
    "    check(sample1)\n",
    "    check(sample2)\n",
    "    check(sample3)"
   ]
  },
  {
   "cell_type": "markdown",
   "id": "7603e3b7",
   "metadata": {},
   "source": [
    "2.Python regex to find sequences of one upper case letter followed by lower case letters"
   ]
  },
  {
   "cell_type": "code",
   "execution_count": 3,
   "id": "c00dfb6b",
   "metadata": {},
   "outputs": [
    {
     "name": "stdout",
     "output_type": "stream",
     "text": [
      "Found a match!\n",
      "Found a match!\n",
      "Not matched!\n",
      "Not matched!\n",
      "Not matched!\n",
      "Found a match!\n"
     ]
    }
   ],
   "source": [
    "import re\n",
    "def text_match(text):\n",
    "        patterns = '[A-Z]+[a-z]+$'\n",
    "        if re.search(patterns, text):\n",
    "                return 'Found a match!'\n",
    "        else:\n",
    "               return('Not matched!')\n",
    "print(text_match(\"AaBbGg\"))\n",
    "print(text_match(\"Python\"))\n",
    "print(text_match(\"python\"))\n",
    "print(text_match(\"PYTHON\"))\n",
    "print(text_match(\"aA\"))\n",
    "print(text_match(\"Aa\"))"
   ]
  },
  {
   "cell_type": "markdown",
   "id": "95f213d3",
   "metadata": {},
   "source": [
    "3.Python Program to Remove duplicate words from Sentence"
   ]
  },
  {
   "cell_type": "code",
   "execution_count": 4,
   "id": "3527fbca",
   "metadata": {},
   "outputs": [
    {
     "name": "stdout",
     "output_type": "stream",
     "text": [
      "Python is great and Java also\n"
     ]
    }
   ],
   "source": [
    "from collections import Counter\n",
    " \n",
    "def remov_duplicates(input):\n",
    "\n",
    "    input = input.split(\" \")\n",
    "\n",
    "    UniqW = Counter(input)\n",
    "\n",
    "    s = \" \".join(UniqW.keys())\n",
    "    print (s)\n",
    "\n",
    "if __name__ == \"__main__\":\n",
    "    input = 'Python is great and Java is also great'\n",
    "    remov_duplicates(input)"
   ]
  },
  {
   "cell_type": "markdown",
   "id": "d3a0b328",
   "metadata": {},
   "source": [
    "4.Python | Remove all characters except letters and numbers"
   ]
  },
  {
   "cell_type": "code",
   "execution_count": 5,
   "id": "88fc7254",
   "metadata": {},
   "outputs": [
    {
     "name": "stdout",
     "output_type": "stream",
     "text": [
      "initial string :  Suresh:, .@! sabari\n",
      "final string Sureshsabari\n"
     ]
    }
   ],
   "source": [
    "import re\n",
    "\n",
    "ini_string = \"Suresh:, .@! sabari\"\n",
    "\n",
    "print (\"initial string : \", ini_string)\n",
    "  \n",
    "result = re.sub('[\\W_]+', '', ini_string)\n",
    "\n",
    "print (\"final string\", result)"
   ]
  },
  {
   "cell_type": "markdown",
   "id": "268a8f0a",
   "metadata": {},
   "source": [
    "5.Python Regex | Program to accept string ending with alphanumeric character"
   ]
  },
  {
   "cell_type": "code",
   "execution_count": 6,
   "id": "88744852",
   "metadata": {},
   "outputs": [
    {
     "name": "stdout",
     "output_type": "stream",
     "text": [
      "Discard\n",
      "Accept\n",
      "Discard\n",
      "Accept\n"
     ]
    }
   ],
   "source": [
    "import re\n",
    "\n",
    "regex = '[a-zA-z0-9]$'\n",
    "\n",
    "def check(string):\n",
    "\n",
    "    if(re.search(regex, string)):\n",
    "        print(\"Accept\")\n",
    "         \n",
    "    else:\n",
    "        print(\"Discard\")\n",
    "\n",
    "if __name__ == '__main__' :\n",
    "\n",
    "    string = \"Suresh@\"\n",
    "\n",
    "    check(string)\n",
    " \n",
    "    string = \"DHORAI326\"\n",
    "    check(string)\n",
    " \n",
    "    string = \"Sabari.\"\n",
    "    check(string)\n",
    " \n",
    "    string = \"Sureshforsabari\"\n",
    "    check(string)"
   ]
  },
  {
   "cell_type": "markdown",
   "id": "7aa19523",
   "metadata": {},
   "source": [
    "6.Python Regex – Program to accept string starting with vowel"
   ]
  },
  {
   "cell_type": "code",
   "execution_count": 7,
   "id": "f7225a9e",
   "metadata": {},
   "outputs": [
    {
     "name": "stdout",
     "output_type": "stream",
     "text": [
      "Valid\n",
      "Invalid\n",
      "Invalid\n"
     ]
    }
   ],
   "source": [
    "import re\n",
    "\n",
    "regex = '^[aeiouAEIOU][A-Za-z0-9_]*'\n",
    "\n",
    "def check(string):\n",
    "\n",
    "    if(re.search(regex, string)):\n",
    "        print(\"Valid\")\n",
    "         \n",
    "    else:\n",
    "        print(\"Invalid\")\n",
    "\n",
    "if __name__ == '__main__' :\n",
    "\n",
    "    string = \"ankit\"\n",
    "\n",
    "    check(string)\n",
    " \n",
    "    string = \"Suresh\"\n",
    "    check(string)\n",
    " \n",
    "    string = \"sandeep\"\n",
    "    check(string)"
   ]
  },
  {
   "cell_type": "markdown",
   "id": "8e278628",
   "metadata": {},
   "source": [
    "7.Python Program to check if a string starts with a substring using regex"
   ]
  },
  {
   "cell_type": "code",
   "execution_count": 8,
   "id": "40b5ea69",
   "metadata": {},
   "outputs": [
    {
     "name": "stdout",
     "output_type": "stream",
     "text": [
      "string starts with the given substring\n",
      "string doesn't start with the given substring\n"
     ]
    }
   ],
   "source": [
    "import re\n",
    "\n",
    "def find(string, sample) :\n",
    "\n",
    "  if (sample in string):\n",
    "  \n",
    "      y = \"^\" + sample\n",
    "\n",
    "      x = re.search(y, string)\n",
    "  \n",
    "      if x :\n",
    "          print(\"string starts with the given substring\")\n",
    "  \n",
    "      else :\n",
    "          print(\"string doesn't start with the given substring\")\n",
    "  \n",
    "  else :\n",
    "      print(\"entered string isn't a substring\")\n",
    "\n",
    "string = \"Suresh for Sabari makes learning fun\"  \n",
    "sample = \"Suresh\"\n",
    "\n",
    "find(string, sample)\n",
    "  \n",
    "sample = \"makes\"\n",
    "\n",
    "find(string, sample)"
   ]
  },
  {
   "cell_type": "markdown",
   "id": "43909c94",
   "metadata": {},
   "source": [
    "8.Python Program to Check if an URL is valid or not using Regular Expression"
   ]
  },
  {
   "cell_type": "code",
   "execution_count": 9,
   "id": "a0dec72b",
   "metadata": {},
   "outputs": [
    {
     "ename": "TypeError",
     "evalue": "'str' object is not callable",
     "output_type": "error",
     "traceback": [
      "\u001b[1;31m---------------------------------------------------------------------------\u001b[0m",
      "\u001b[1;31mTypeError\u001b[0m                                 Traceback (most recent call last)",
      "\u001b[1;32m~\\AppData\\Local\\Temp/ipykernel_2684/1358005513.py\u001b[0m in \u001b[0;36m<module>\u001b[1;34m\u001b[0m\n\u001b[0;32m     12\u001b[0m     \u001b[1;32melse\u001b[0m\u001b[1;33m:\u001b[0m\u001b[1;33m\u001b[0m\u001b[1;33m\u001b[0m\u001b[0m\n\u001b[0;32m     13\u001b[0m         \u001b[0mprint\u001b[0m\u001b[1;33m(\u001b[0m\u001b[1;34m\"Input URL is invalid!\"\u001b[0m\u001b[1;33m)\u001b[0m\u001b[1;33m\u001b[0m\u001b[1;33m\u001b[0m\u001b[0m\n\u001b[1;32m---> 14\u001b[1;33m \u001b[0mip_url\u001b[0m \u001b[1;33m=\u001b[0m \u001b[0minput\u001b[0m\u001b[1;33m(\u001b[0m\u001b[1;34m\"Enter the string: \"\u001b[0m\u001b[1;33m)\u001b[0m\u001b[1;33m\u001b[0m\u001b[1;33m\u001b[0m\u001b[0m\n\u001b[0m\u001b[0;32m     15\u001b[0m \u001b[0mcheck_url\u001b[0m\u001b[1;33m(\u001b[0m\u001b[0mip_url\u001b[0m\u001b[1;33m)\u001b[0m\u001b[1;33m\u001b[0m\u001b[1;33m\u001b[0m\u001b[0m\n",
      "\u001b[1;31mTypeError\u001b[0m: 'str' object is not callable"
     ]
    }
   ],
   "source": [
    "import re\n",
    " \n",
    "def check_url(ip_url):\n",
    "\n",
    "    re_exp = (\"((http|https)://)(www.)?\" + \"[a-zA-Z0-9@:%._\\\\+~#?&//=]\" +\n",
    "             \"{2,256}\\\\.[a-z]\" + \"{2,6}\\\\b([-a-zA-Z0-9@:%\" + \"._\\\\+~#?&//=]*)\")\n",
    "    exp = re.compile(re_exp)\n",
    "    if (ip_url == None):\n",
    "        print(\"Input string is empty\")\n",
    "    if(re.search(exp, ip_url)):\n",
    "        print(\"Input URL is valid!\")\n",
    "    else:\n",
    "        print(\"Input URL is invalid!\")\n",
    "ip_url = input(\"Enter the string: \")\n",
    "check_url(ip_url)"
   ]
  },
  {
   "cell_type": "markdown",
   "id": "f7e36182",
   "metadata": {},
   "source": [
    "9.Parsing and Processing URL using Python – Regex"
   ]
  },
  {
   "cell_type": "code",
   "execution_count": 10,
   "id": "d98a11f8",
   "metadata": {},
   "outputs": [
    {
     "name": "stdout",
     "output_type": "stream",
     "text": [
      "['https']\n",
      "['Sureshforsabari.org']\n"
     ]
    }
   ],
   "source": [
    "import re  \n",
    "\n",
    "s = 'https://www.Sureshforsabari.org/'\n",
    "\n",
    "obj1 = re.findall('(\\w+)://',\n",
    "                  s)\n",
    "print(obj1)\n",
    "\n",
    "obj2 = re.findall('://www.([\\w\\-\\.]+)',s)\n",
    "print(obj2)"
   ]
  },
  {
   "cell_type": "code",
   "execution_count": null,
   "id": "2b5911e7",
   "metadata": {},
   "outputs": [],
   "source": []
  }
 ],
 "metadata": {
  "kernelspec": {
   "display_name": "Python 3 (ipykernel)",
   "language": "python",
   "name": "python3"
  },
  "language_info": {
   "codemirror_mode": {
    "name": "ipython",
    "version": 3
   },
   "file_extension": ".py",
   "mimetype": "text/x-python",
   "name": "python",
   "nbconvert_exporter": "python",
   "pygments_lexer": "ipython3",
   "version": "3.9.7"
  }
 },
 "nbformat": 4,
 "nbformat_minor": 5
}
