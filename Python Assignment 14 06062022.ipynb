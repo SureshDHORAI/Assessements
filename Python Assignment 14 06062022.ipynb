{
 "cells": [
  {
   "cell_type": "markdown",
   "id": "19e56f6d",
   "metadata": {},
   "source": [
    "1.Python Program for Recursive Insertion Sort"
   ]
  },
  {
   "cell_type": "code",
   "execution_count": 2,
   "id": "31a3bf6f",
   "metadata": {},
   "outputs": [
    {
     "name": "stdout",
     "output_type": "stream",
     "text": [
      "The Original array is:  [9, 1, 7, 3, 5]\n",
      "The Sorted array is : [1, 3, 5, 7, 9]\n"
     ]
    }
   ],
   "source": [
    "def insertion_sort(arr, Len):\n",
    "\n",
    "    if Len <= 1:\n",
    "        return\n",
    "    insertion_sort(arr, Len - 1)\n",
    "    end = arr[Len - 1]\n",
    "    \n",
    "    i = Len - 2\n",
    "    while(i>=0 and arr[i] > end):\n",
    "\n",
    "        arr[i+1] = arr[i]\n",
    "        i = i - 1\n",
    "\n",
    "    arr[i + 1] = end\n",
    "\n",
    "array = [9, 1, 7, 3, 5]\n",
    "print(\"The Original array is: \", array)\n",
    "\n",
    "insertion_sort(array, len(array))\n",
    "print(\"The Sorted array is :\", array)"
   ]
  },
  {
   "cell_type": "markdown",
   "id": "c0d574d2",
   "metadata": {},
   "source": [
    "2.Python Program for QuickSort"
   ]
  },
  {
   "cell_type": "code",
   "execution_count": 3,
   "id": "f99fecab",
   "metadata": {},
   "outputs": [
    {
     "name": "stdout",
     "output_type": "stream",
     "text": [
      "Sorted array is:\n",
      "2 3 4 5 5 6 7 8 "
     ]
    }
   ],
   "source": [
    "def partition(arr,low,high):\n",
    "   i = ( low-1 )\n",
    "   pivot = arr[high]\n",
    "   for j in range(low , high):\n",
    "      \n",
    "      if arr[j] <= pivot:\n",
    "       \n",
    "         i = i+1\n",
    "         arr[i],arr[j] = arr[j],arr[i]\n",
    "   arr[i+1],arr[high] = arr[high],arr[i+1]\n",
    "   return ( i+1 )\n",
    "\n",
    "def quickSort(arr,low,high):\n",
    "   if low < high:\n",
    "      \n",
    "      pi = partition(arr,low,high)\n",
    "      \n",
    "      quickSort(arr, low, pi-1)\n",
    "      quickSort(arr, pi+1, high)\n",
    "\n",
    "arr = [2,5,3,8,6,5,4,7]\n",
    "n = len(arr)\n",
    "quickSort(arr,0,n-1)\n",
    "print (\"Sorted array is:\")\n",
    "for i in range(n):\n",
    "   print (arr[i],end=\" \")"
   ]
  },
  {
   "cell_type": "markdown",
   "id": "33941cb8",
   "metadata": {},
   "source": [
    "3.Python Program for Iterative Quick Sort"
   ]
  },
  {
   "cell_type": "code",
   "execution_count": 4,
   "id": "a00427ed",
   "metadata": {},
   "outputs": [
    {
     "name": "stdout",
     "output_type": "stream",
     "text": [
      "Sorted array is:\n",
      "2 3 4 5 5 6 7 8 "
     ]
    }
   ],
   "source": [
    "def partition(arr,l,h):\n",
    "   i = ( l - 1 )\n",
    "   x = arr[h]\n",
    "   for j in range(l , h):\n",
    "      if arr[j] <= x:\n",
    "       \n",
    "         i = i+1\n",
    "         arr[i],arr[j] = arr[j],arr[i]\n",
    "   arr[i+1],arr[h] = arr[h],arr[i+1]\n",
    "   return (i+1)\n",
    "\n",
    "def quickSortIterative(arr,l,h):\n",
    "  \n",
    "   size = h - l + 1\n",
    "   stack = [0] * (size)\n",
    "  \n",
    "   top = -1\n",
    " \n",
    "   top = top + 1\n",
    "   stack[top] = l\n",
    "   top = top + 1\n",
    "   stack[top] = h\n",
    "   \n",
    "   while top >= 0:\n",
    "    \n",
    "      h = stack[top]\n",
    "      top = top - 1\n",
    "      l = stack[top]\n",
    "      top = top - 1\n",
    " \n",
    "      p = partition( arr, l, h )\n",
    " \n",
    "      if p-1 > l:\n",
    "         top = top + 1\n",
    "         stack[top] = l\n",
    "         top = top + 1\n",
    "         stack[top] = p - 1\n",
    "\n",
    "      if p+1 < h:\n",
    "         top = top + 1\n",
    "         stack[top] = p + 1\n",
    "         top = top + 1\n",
    "         stack[top] = h\n",
    "\n",
    "arr = [2,5,3,8,6,5,4,7]\n",
    "n = len(arr)\n",
    "quickSortIterative(arr, 0, n-1)\n",
    "print (\"Sorted array is:\")\n",
    "for i in range(n):\n",
    "   print (arr[i],end=\" \")"
   ]
  },
  {
   "cell_type": "markdown",
   "id": "3e68d80a",
   "metadata": {},
   "source": [
    "4.Python Program for Selection Sort"
   ]
  },
  {
   "cell_type": "code",
   "execution_count": 5,
   "id": "f4ff1949",
   "metadata": {},
   "outputs": [
    {
     "name": "stdout",
     "output_type": "stream",
     "text": [
      "Sorted array\n",
      "11\n",
      "12\n",
      "22\n",
      "25\n",
      "64\n"
     ]
    }
   ],
   "source": [
    "import sys\n",
    "A = [64, 25, 12, 22, 11]\n",
    "\n",
    "for i in range(len(A)):\n",
    "\n",
    "    min_idx = i\n",
    "    for j in range(i+1, len(A)):\n",
    "        if A[min_idx] > A[j]:\n",
    "            min_idx = j\n",
    "        \n",
    "    A[i], A[min_idx] = A[min_idx], A[i]\n",
    "\n",
    "print (\"Sorted array\")\n",
    "for i in range(len(A)):\n",
    "    print(\"%d\" %A[i]), "
   ]
  },
  {
   "cell_type": "markdown",
   "id": "315ef9c2",
   "metadata": {},
   "source": [
    "5.Python Program for Bubble Sort"
   ]
  },
  {
   "cell_type": "code",
   "execution_count": 6,
   "id": "dd6e8c40",
   "metadata": {},
   "outputs": [
    {
     "name": "stdout",
     "output_type": "stream",
     "text": [
      "Sorted array is:\n",
      " 11  12  22  25  34  64  90 "
     ]
    }
   ],
   "source": [
    "def bubbleSort(arr):\n",
    "    n = len(arr)\n",
    "\n",
    "    for i in range(n-1):\n",
    "\n",
    "        for j in range(0, n-i-1):\n",
    "\n",
    "            if arr[j] > arr[j + 1] :\n",
    "                arr[j], arr[j + 1] = arr[j + 1], arr[j]\n",
    "\n",
    "arr = [64, 34, 25, 12, 22, 11, 90]\n",
    " \n",
    "bubbleSort(arr)\n",
    " \n",
    "print (\"Sorted array is:\")\n",
    "for i in range(len(arr)):\n",
    "    print (\"% d\" % arr[i],end=\" \")"
   ]
  },
  {
   "cell_type": "markdown",
   "id": "dfd57df5",
   "metadata": {},
   "source": [
    "6.Python Program for Merge Sort"
   ]
  },
  {
   "cell_type": "code",
   "execution_count": 12,
   "id": "64d78283",
   "metadata": {},
   "outputs": [
    {
     "ename": "IndentationError",
     "evalue": "expected an indented block (Temp/ipykernel_11536/3630382614.py, line 38)",
     "output_type": "error",
     "traceback": [
      "\u001b[1;36m  File \u001b[1;32m\"C:\\Users\\dhoraisu\\AppData\\Local\\Temp/ipykernel_11536/3630382614.py\"\u001b[1;36m, line \u001b[1;32m38\u001b[0m\n\u001b[1;33m    if l < r:\u001b[0m\n\u001b[1;37m    ^\u001b[0m\n\u001b[1;31mIndentationError\u001b[0m\u001b[1;31m:\u001b[0m expected an indented block\n"
     ]
    }
   ],
   "source": [
    "def merge(arr, l, m, r):\n",
    "    n1 = m - l + 1\n",
    "    n2 = r - m\n",
    "\n",
    "    L = [0] * (n1)\n",
    "    R = [0] * (n2)\n",
    "\n",
    "    for i in range(0, n1):\n",
    "        L[i] = arr[l + i]\n",
    " \n",
    "    for j in range(0, n2):\n",
    "        R[j] = arr[m + 1 + j]\n",
    " \n",
    "\n",
    "    i = 0     \n",
    "    j = 0    \n",
    "    k = l    \n",
    " \n",
    "    while i < n1 and j < n2:\n",
    "        if L[i] <= R[j]:\n",
    "            arr[k] = L[i]\n",
    "            i += 1\n",
    "        else:\n",
    "            arr[k] = R[j]\n",
    "            j += 1\n",
    "        k += 1\n",
    "\n",
    "    while i < n1:\n",
    "        arr[k] = L[i]\n",
    "        i += 1\n",
    "        k += 1\n",
    "\n",
    "    while j < n2:\n",
    "        arr[k] = R[j]\n",
    "        j += 1\n",
    "        k += 1\n",
    "        def mergeSort(arr, l, r):\n",
    "    if l < r:\n",
    "\n",
    "        m = l+(r-l)//2\n",
    "\n",
    "        mergeSort(arr, l, m)\n",
    "        mergeSort(arr, m+1, r)\n",
    "        merge(arr, l, m, r)\n",
    "\n",
    "arr = [12, 11, 13, 5, 6, 7]\n",
    "n = len(arr)\n",
    "print(\"Given array is\")\n",
    "for i in range(n):\n",
    "    print(\"%d\" % arr[i],end=\" \")\n",
    " \n",
    "mergeSort(arr, 0, n-1)\n",
    "print(\"\\n\\nSorted array is\")\n",
    "for i in range(n):\n",
    "    print(\"%d\" % arr[i],end=\" \")"
   ]
  },
  {
   "cell_type": "markdown",
   "id": "374432ed",
   "metadata": {},
   "source": [
    "7.Python Program for Iterative Merge Sort"
   ]
  },
  {
   "cell_type": "code",
   "execution_count": 14,
   "id": "34e7b65e",
   "metadata": {},
   "outputs": [
    {
     "name": "stdout",
     "output_type": "stream",
     "text": [
      "The Original array is:  [4, 2, 3, 1, 6, 5]\n",
      "Array after sorting is:  [1, 2, 3, 4, 5, 6]\n"
     ]
    }
   ],
   "source": [
    "def merge(S, temp, From, mid, to):\n",
    " \n",
    "    a = From\n",
    "    b = From\n",
    "    c = mid + 1\n",
    " \n",
    "    while b <= mid and c <= to:\n",
    "        if S[b] < S[c]:\n",
    "            temp[a] = S[b]\n",
    "            b = b + 1\n",
    "        else:\n",
    "            temp[a] = S[c]\n",
    "            c = c + 1\n",
    "        a = a + 1\n",
    "\n",
    "    while b < len(S) and b <= mid:\n",
    "        temp[a] = S[b]\n",
    "        a = a + 1\n",
    "        b = b + 1\n",
    "\n",
    "    for b in range(From, to + 1):\n",
    "        S[b] = temp[b]\n",
    "\n",
    "def Merge_Sort(S):\n",
    " \n",
    "    low = 0\n",
    "    high = len(S) - 1\n",
    " \n",
    "    # sort list\n",
    "    temp = S.copy()\n",
    " \n",
    "    d = 1\n",
    "    while d <= high - low:\n",
    " \n",
    "        for b in range(low, high, 2*d):\n",
    "            From = b\n",
    "            mid = b + d - 1\n",
    "            to = min(b + 2*d - 1, high)\n",
    "            merge(S, temp, From, mid, to)\n",
    " \n",
    "        d = 2*d\n",
    "\n",
    "if __name__ == '__main__':\n",
    "\n",
    "    S = [4, 2, 3, 1, 6, 5]\n",
    "    print(\"The Original array is: \", S)\n",
    "    Merge_Sort(S)\n",
    "    print(\"Array after sorting is: \", S)"
   ]
  },
  {
   "cell_type": "markdown",
   "id": "a10e8779",
   "metadata": {},
   "source": [
    "8.Python Program for Heap Sort"
   ]
  },
  {
   "cell_type": "code",
   "execution_count": 15,
   "id": "35d555d8",
   "metadata": {},
   "outputs": [
    {
     "name": "stdout",
     "output_type": "stream",
     "text": [
      "Sorted array is\n",
      "5\n",
      "6\n",
      "7\n",
      "11\n",
      "12\n",
      "13\n"
     ]
    }
   ],
   "source": [
    "def heapify(arr, n, i):\n",
    "    largest = i  \n",
    "    l = 2 * i + 1    \n",
    "    r = 2 * i + 2    \n",
    "\n",
    "    if l < n and arr[i] < arr[l]:\n",
    "        largest = l\n",
    "\n",
    "    if r < n and arr[largest] < arr[r]:\n",
    "        largest = r\n",
    "\n",
    "    if largest != i:\n",
    "        arr[i],arr[largest] = arr[largest],arr[i]\n",
    "\n",
    "        heapify(arr, n, largest)\n",
    "\n",
    "def heapSort(arr):\n",
    "    n = len(arr)\n",
    "\n",
    "    for i in range(n // 2 - 1, -1, -1):\n",
    "        heapify(arr, n, i)\n",
    "\n",
    "    for i in range(n-1, 0, -1):\n",
    "        arr[i], arr[0] = arr[0], arr[i]\n",
    "        heapify(arr, i, 0)\n",
    "\n",
    "arr = [ 12, 11, 13, 5, 6, 7]\n",
    "heapSort(arr)\n",
    "n = len(arr)\n",
    "print (\"Sorted array is\")\n",
    "for i in range(n):\n",
    "    print (\"%d\" %arr[i]),"
   ]
  },
  {
   "cell_type": "markdown",
   "id": "e494ae0e",
   "metadata": {},
   "source": [
    "9.Python Program for Counting Sort"
   ]
  },
  {
   "cell_type": "code",
   "execution_count": 17,
   "id": "9be1cecc",
   "metadata": {},
   "outputs": [
    {
     "name": "stdout",
     "output_type": "stream",
     "text": [
      "Sorted character array is SSeefhhorrrssuu\n"
     ]
    }
   ],
   "source": [
    "def countSort(arr):\n",
    "\n",
    "    output = [0 for i in range(256)]\n",
    "\n",
    "    count = [0 for i in range(256)]\n",
    "\n",
    "    ans = [\"\" for _ in arr]\n",
    "\n",
    "    for i in arr:\n",
    "        count[ord(i)] += 1\n",
    "\n",
    "    for i in range(256):\n",
    "        count[i] += count[i-1]\n",
    "\n",
    "    for i in range(len(arr)):\n",
    "        output[count[ord(arr[i])]-1] = arr[i]\n",
    "        count[ord(arr[i])] -= 1\n",
    "\n",
    "    for i in range(len(arr)):\n",
    "        ans[i] = output[i]\n",
    "    return ans\n",
    "\n",
    "arr = \"SureshforSuresh\"\n",
    "ans = countSort(arr)\n",
    "print (\"Sorted character array is %s\"  %(\"\".join(ans)))"
   ]
  },
  {
   "cell_type": "markdown",
   "id": "8dc27cbf",
   "metadata": {},
   "source": [
    "10.Python Program for ShellSort"
   ]
  },
  {
   "cell_type": "code",
   "execution_count": 18,
   "id": "eb57cbf9",
   "metadata": {},
   "outputs": [
    {
     "name": "stdout",
     "output_type": "stream",
     "text": [
      "The list before sorting is :\n",
      "[45, 31, 62, 12, 89, 5, 9, 8]\n",
      "\n",
      "The list after performing shell sorting is :\n",
      "[5, 8, 9, 12, 31, 45, 62, 89]\n"
     ]
    }
   ],
   "source": [
    "def shell_sort(my_list, list_len):\n",
    "   interval = list_len // 2\n",
    "   while interval > 0:\n",
    "      for i in range(interval, list_len):\n",
    "         temp = my_list[i]\n",
    "         j = i\n",
    "         while j >= interval and my_list[j - interval] > temp:\n",
    "            my_list[j] = my_list[j - interval]\n",
    "            j -= interval\n",
    "         my_list[j] = temp\n",
    "      interval //= 2\n",
    "\n",
    "my_list = [ 45, 31, 62, 12, 89, 5, 9, 8]\n",
    "list_len = len(my_list)\n",
    "print (\"The list before sorting is :\")\n",
    "print(my_list)\n",
    "shell_sort(my_list, list_len)\n",
    "print (\"\\nThe list after performing shell sorting is :\")\n",
    "print(my_list)"
   ]
  },
  {
   "cell_type": "code",
   "execution_count": null,
   "id": "6c81afec",
   "metadata": {},
   "outputs": [],
   "source": []
  },
  {
   "cell_type": "code",
   "execution_count": null,
   "id": "9c26c40e",
   "metadata": {},
   "outputs": [],
   "source": []
  },
  {
   "cell_type": "code",
   "execution_count": null,
   "id": "d9861db3",
   "metadata": {},
   "outputs": [],
   "source": []
  }
 ],
 "metadata": {
  "kernelspec": {
   "display_name": "Python 3 (ipykernel)",
   "language": "python",
   "name": "python3"
  },
  "language_info": {
   "codemirror_mode": {
    "name": "ipython",
    "version": 3
   },
   "file_extension": ".py",
   "mimetype": "text/x-python",
   "name": "python",
   "nbconvert_exporter": "python",
   "pygments_lexer": "ipython3",
   "version": "3.9.7"
  }
 },
 "nbformat": 4,
 "nbformat_minor": 5
}
