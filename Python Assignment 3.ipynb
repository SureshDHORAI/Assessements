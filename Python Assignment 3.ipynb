{
 "cells": [
  {
   "cell_type": "markdown",
   "id": "2695aada",
   "metadata": {},
   "source": [
    "1.Python Program for Find reminder of array multiplication divided by n"
   ]
  },
  {
   "cell_type": "code",
   "execution_count": 35,
   "id": "c217f3a8",
   "metadata": {},
   "outputs": [],
   "source": [
    "def find_remainder(arr,lens,n):\n",
    "    mul = 1\n",
    "    \n",
    "    for i in range(lens):\n",
    "        mul=(mul*(arr[i]&n))%n\n",
    "        return mul%n"
   ]
  },
  {
   "cell_type": "code",
   "execution_count": 36,
   "id": "17135cb8",
   "metadata": {},
   "outputs": [],
   "source": [
    "arr=[100,10,5,25,35,14]"
   ]
  },
  {
   "cell_type": "code",
   "execution_count": 37,
   "id": "3c7136c0",
   "metadata": {},
   "outputs": [],
   "source": [
    "lens=len(arr)"
   ]
  },
  {
   "cell_type": "code",
   "execution_count": 42,
   "id": "75da9d3e",
   "metadata": {},
   "outputs": [],
   "source": [
    "n=13"
   ]
  },
  {
   "cell_type": "code",
   "execution_count": 43,
   "id": "40f9cf13",
   "metadata": {},
   "outputs": [
    {
     "name": "stdout",
     "output_type": "stream",
     "text": [
      "4\n"
     ]
    }
   ],
   "source": [
    "print( find_remainder(arr, lens, n))"
   ]
  },
  {
   "cell_type": "markdown",
   "id": "2c857280",
   "metadata": {},
   "source": [
    "2.Python Program to check if given array is Monotonic"
   ]
  },
  {
   "cell_type": "code",
   "execution_count": 47,
   "id": "8f30d2e7",
   "metadata": {},
   "outputs": [],
   "source": [
    "def ismonotone(a):\n",
    "    n=len(a) #size of array\n",
    "    if n==1:\n",
    "        return True\n",
    "    else:\n",
    "        if all(a[i]>=a[i+1] for i in range(0,n-1) or a[i]<=a[i+1] for i in range(0,n-1)):\n",
    "            return True\n",
    "        else:\n",
    "            return False"
   ]
  },
  {
   "cell_type": "code",
   "execution_count": 48,
   "id": "529ff2db",
   "metadata": {},
   "outputs": [
    {
     "name": "stdout",
     "output_type": "stream",
     "text": [
      "True\n",
      "False\n",
      "True\n",
      "True\n"
     ]
    }
   ],
   "source": [
    "A = [6, 5, 4, 2]\n",
    "print(ismonotone(A))\n",
    "b = [6, 2, 4, 2]\n",
    "print(ismonotone(b))\n",
    "c=[4,3,2]\n",
    "print(ismonotone(c))\n",
    "d=[1]\n",
    "print(ismonotone(d))"
   ]
  },
  {
   "cell_type": "markdown",
   "id": "210ab418",
   "metadata": {},
   "source": [
    "3.Python program to interchange first and last elements in a list"
   ]
  },
  {
   "cell_type": "code",
   "execution_count": 52,
   "id": "44d99c73",
   "metadata": {},
   "outputs": [],
   "source": [
    "def swapList(newList):\n",
    "    size = len(newList)\n",
    "     \n",
    "    # Swapping\n",
    "    temp = newList[0]\n",
    "    newList[0] = newList[size - 1]\n",
    "    newList[size - 1] = temp\n",
    "     \n",
    "    return newList"
   ]
  },
  {
   "cell_type": "code",
   "execution_count": 53,
   "id": "34eb31d2",
   "metadata": {},
   "outputs": [
    {
     "name": "stdout",
     "output_type": "stream",
     "text": [
      "[24, 35, 9, 56, 12]\n"
     ]
    }
   ],
   "source": [
    "newList = [12, 35, 9, 56, 24]\n",
    " \n",
    "print(swapList(newList))"
   ]
  },
  {
   "cell_type": "markdown",
   "id": "f48bcef3",
   "metadata": {},
   "source": [
    "4.Python program to swap two elements in a list"
   ]
  },
  {
   "cell_type": "code",
   "execution_count": 56,
   "id": "63a312a3",
   "metadata": {},
   "outputs": [
    {
     "name": "stdout",
     "output_type": "stream",
     "text": [
      "[19, 65, 23, 90]\n"
     ]
    }
   ],
   "source": [
    "def swapPositions(list, pos1, pos2):\n",
    "     \n",
    "    list[pos1], list[pos2] = list[pos2], list[pos1]\n",
    "    return list\n",
    " \n",
    "\n",
    "List = [23, 65, 19, 90]\n",
    "pos1, pos2  = 1, 3\n",
    " \n",
    "print(swapPositions(List, pos1-1, pos2-1))"
   ]
  },
  {
   "cell_type": "markdown",
   "id": "783a9339",
   "metadata": {},
   "source": [
    "5.write a program to find length of list"
   ]
  },
  {
   "cell_type": "code",
   "execution_count": 60,
   "id": "e968ed62",
   "metadata": {},
   "outputs": [
    {
     "data": {
      "text/plain": [
       "8"
      ]
     },
     "execution_count": 60,
     "metadata": {},
     "output_type": "execute_result"
    }
   ],
   "source": [
    "a=[1,4,3,5,6,7,8,10]\n",
    "len(a)"
   ]
  },
  {
   "cell_type": "code",
   "execution_count": 61,
   "id": "83b2f071",
   "metadata": {},
   "outputs": [
    {
     "name": "stdout",
     "output_type": "stream",
     "text": [
      "The list is : [1, 4, 3, 5, 6, 7, 8, 10]\n"
     ]
    }
   ],
   "source": [
    "print (\"The list is : \" + str(a))"
   ]
  },
  {
   "cell_type": "code",
   "execution_count": 64,
   "id": "44a3f2ce",
   "metadata": {},
   "outputs": [
    {
     "name": "stdout",
     "output_type": "stream",
     "text": [
      "Length of list using naive method is : 1\n",
      "Length of list using naive method is : 2\n",
      "Length of list using naive method is : 3\n",
      "Length of list using naive method is : 4\n",
      "Length of list using naive method is : 5\n",
      "Length of list using naive method is : 6\n",
      "Length of list using naive method is : 7\n",
      "Length of list using naive method is : 8\n"
     ]
    }
   ],
   "source": [
    "counter = 0\n",
    "for i in a:\n",
    "        counter = counter + 1\n",
    "        print (\"Length of list using naive method is : \" + str(counter))"
   ]
  },
  {
   "cell_type": "markdown",
   "id": "74c1fc04",
   "metadata": {},
   "source": [
    "6.Write a program to check if element exists in list"
   ]
  },
  {
   "cell_type": "code",
   "execution_count": 65,
   "id": "e4eaeda2",
   "metadata": {},
   "outputs": [
    {
     "name": "stdout",
     "output_type": "stream",
     "text": [
      "[1, 4, 3, 5, 6, 7, 8, 10]\n"
     ]
    }
   ],
   "source": [
    "print(a)"
   ]
  },
  {
   "cell_type": "code",
   "execution_count": 66,
   "id": "5d2b67b2",
   "metadata": {},
   "outputs": [
    {
     "name": "stdout",
     "output_type": "stream",
     "text": [
      "Checking if 4 exists in list ( using loop ) : \n"
     ]
    }
   ],
   "source": [
    "print(\"Checking if 4 exists in list ( using loop ) : \")"
   ]
  },
  {
   "cell_type": "code",
   "execution_count": 67,
   "id": "4b81aff0",
   "metadata": {},
   "outputs": [
    {
     "name": "stdout",
     "output_type": "stream",
     "text": [
      "Checking if 4 exists in list ( using in ) : \n",
      "Element Exists\n",
      "Checking if 4 exists in list ( using in ) : \n",
      "Checking if 4 exists in list ( using in ) : \n",
      "Checking if 4 exists in list ( using in ) : \n",
      "Checking if 4 exists in list ( using in ) : \n",
      "Checking if 4 exists in list ( using in ) : \n",
      "Checking if 4 exists in list ( using in ) : \n",
      "Checking if 4 exists in list ( using in ) : \n"
     ]
    }
   ],
   "source": [
    "for i in a:\n",
    "    if(i == 4) :\n",
    "        print (\"Element Exists\")\n",
    "    print(\"Checking if 4 exists in list ( using in ) : \")"
   ]
  },
  {
   "cell_type": "code",
   "execution_count": 69,
   "id": "6701d15d",
   "metadata": {},
   "outputs": [
    {
     "name": "stdout",
     "output_type": "stream",
     "text": [
      "Element Exists\n"
     ]
    }
   ],
   "source": [
    "if (4 in a):\n",
    "    print (\"Element Exists\")"
   ]
  },
  {
   "cell_type": "markdown",
   "id": "9ccec949",
   "metadata": {},
   "source": [
    "7.Write a program to clear a list in Python"
   ]
  },
  {
   "cell_type": "code",
   "execution_count": 75,
   "id": "4905b22a",
   "metadata": {},
   "outputs": [
    {
     "name": "stdout",
     "output_type": "stream",
     "text": [
      "List1 before deleting is : [1, 2, 3]\n",
      "List1 after clearing using clear() : []\n",
      "List2 before deleting is : [5, 6, 7]\n",
      "List2 after clearing using reinitialization : []\n"
     ]
    }
   ],
   "source": [
    "list1 = [1, 2, 3]\n",
    "list2 = [5, 6, 7]\n",
    "\n",
    "print (\"List1 before deleting is : \" +  str(list1))\n",
    "\n",
    "list1.clear()\n",
    "print (\"List1 after clearing using clear() : \" + str(list1))\n",
    "print (\"List2 before deleting is : \" +  str(list2))\n",
    "\n",
    "list2 = []\n",
    "print (\"List2 after clearing using reinitialization : \" + str(list2))"
   ]
  },
  {
   "cell_type": "code",
   "execution_count": 72,
   "id": "2009e9fd",
   "metadata": {},
   "outputs": [
    {
     "data": {
      "text/plain": [
       "'[]'"
      ]
     },
     "execution_count": 72,
     "metadata": {},
     "output_type": "execute_result"
    }
   ],
   "source": [
    "str(list1)"
   ]
  },
  {
   "cell_type": "code",
   "execution_count": null,
   "id": "edfa0d57",
   "metadata": {},
   "outputs": [],
   "source": [
    "8.Write a program to Reversing a List"
   ]
  },
  {
   "cell_type": "code",
   "execution_count": 76,
   "id": "752a0774",
   "metadata": {},
   "outputs": [
    {
     "name": "stdout",
     "output_type": "stream",
     "text": [
      "[1, 4, 3, 5, 6, 7, 8, 10]\n"
     ]
    }
   ],
   "source": [
    "print(a)"
   ]
  },
  {
   "cell_type": "code",
   "execution_count": 77,
   "id": "32210e5a",
   "metadata": {},
   "outputs": [
    {
     "name": "stdout",
     "output_type": "stream",
     "text": [
      "[15, 14, 13, 12, 11, 10]\n"
     ]
    }
   ],
   "source": [
    "def Reverse(lst):\n",
    "    return [ele for ele in reversed(lst)]\n",
    "     \n",
    "lst = [10, 11, 12, 13, 14, 15]\n",
    "print(Reverse(lst))"
   ]
  },
  {
   "cell_type": "markdown",
   "id": "35a62559",
   "metadata": {},
   "source": [
    "9.write a program to find sum of elements in list"
   ]
  },
  {
   "cell_type": "code",
   "execution_count": 79,
   "id": "48ec7bf8",
   "metadata": {},
   "outputs": [],
   "source": [
    "tot = 0\n",
    "ele = 0"
   ]
  },
  {
   "cell_type": "code",
   "execution_count": 85,
   "id": "005af66d",
   "metadata": {},
   "outputs": [],
   "source": [
    "list1 = [11, 5, 17, 18, 23]"
   ]
  },
  {
   "cell_type": "code",
   "execution_count": 89,
   "id": "3887a4f5",
   "metadata": {},
   "outputs": [],
   "source": [
    "while(ele < len(list1)):\n",
    "    tot = tot + list1[ele]\n",
    "    ele += 1"
   ]
  },
  {
   "cell_type": "code",
   "execution_count": 91,
   "id": "6cbcfa9e",
   "metadata": {},
   "outputs": [
    {
     "name": "stdout",
     "output_type": "stream",
     "text": [
      "Sum of all elements in given list:  74\n"
     ]
    }
   ],
   "source": [
    "print(\"Sum of all elements in given list: \", tot)"
   ]
  },
  {
   "cell_type": "markdown",
   "id": "dd48af02",
   "metadata": {},
   "source": [
    "10. Write a program to Multiply all numbers in the list"
   ]
  },
  {
   "cell_type": "code",
   "execution_count": 95,
   "id": "174e4aaa",
   "metadata": {},
   "outputs": [],
   "source": [
    "def multiplyList(myList):\n",
    "    result = 1\n",
    "    for x in myList:\n",
    "         result = result * x\n",
    "    return result"
   ]
  },
  {
   "cell_type": "code",
   "execution_count": 96,
   "id": "17965a92",
   "metadata": {},
   "outputs": [
    {
     "name": "stdout",
     "output_type": "stream",
     "text": [
      "6\n",
      "24\n"
     ]
    }
   ],
   "source": [
    "list1 = [1, 2, 3]\n",
    "list2 = [3, 2, 4]\n",
    "print(multiplyList(list1))\n",
    "print(multiplyList(list2))"
   ]
  },
  {
   "cell_type": "code",
   "execution_count": null,
   "id": "499c63d2",
   "metadata": {},
   "outputs": [],
   "source": []
  }
 ],
 "metadata": {
  "kernelspec": {
   "display_name": "Python 3 (ipykernel)",
   "language": "python",
   "name": "python3"
  },
  "language_info": {
   "codemirror_mode": {
    "name": "ipython",
    "version": 3
   },
   "file_extension": ".py",
   "mimetype": "text/x-python",
   "name": "python",
   "nbconvert_exporter": "python",
   "pygments_lexer": "ipython3",
   "version": "3.9.7"
  }
 },
 "nbformat": 4,
 "nbformat_minor": 5
}
