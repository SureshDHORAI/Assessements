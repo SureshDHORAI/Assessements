{
 "cells": [
  {
   "cell_type": "markdown",
   "id": "6e2abb9b",
   "metadata": {},
   "source": [
    "1.Python program to add two Matrices"
   ]
  },
  {
   "cell_type": "code",
   "execution_count": 1,
   "id": "0b86e0b1",
   "metadata": {},
   "outputs": [],
   "source": [
    "X = [[1,2,3],[4 ,5,6],[7 ,8,9]]\n",
    " \n",
    "Y = [[9,8,7],[6,5,4],[3,2,1]]\n",
    " \n",
    "result = [[0,0,0],[0,0,0],[0,0,0]]"
   ]
  },
  {
   "cell_type": "code",
   "execution_count": 4,
   "id": "3c0b9b9e",
   "metadata": {},
   "outputs": [
    {
     "name": "stdout",
     "output_type": "stream",
     "text": [
      "[10, 10, 10] [10, 10, 10] [10, 10, 10] [10, 10, 10] [10, 10, 10] [10, 10, 10] [10, 10, 10] [10, 10, 10] [10, 10, 10] "
     ]
    }
   ],
   "source": [
    "for i in range(len(X)):\n",
    "    for j in range(len(X[0])):\n",
    "        result[i][j] = X[i][j] + Y[i][j]\n",
    " \n",
    "    for r in result:\n",
    "        print(r,end=\" \")"
   ]
  },
  {
   "cell_type": "markdown",
   "id": "3273e403",
   "metadata": {},
   "source": [
    "2.Python program to multiply two matrices"
   ]
  },
  {
   "cell_type": "code",
   "execution_count": 5,
   "id": "0169c631",
   "metadata": {},
   "outputs": [
    {
     "name": "stdout",
     "output_type": "stream",
     "text": [
      "[9, 16, 21] [10, 10, 10] [10, 10, 10] [9, 16, 21] [24, 25, 24] [10, 10, 10] [9, 16, 21] [24, 25, 24] [21, 16, 9] "
     ]
    }
   ],
   "source": [
    "for i in range(len(X)):\n",
    "    for j in range(len(X[0])):\n",
    "        result[i][j] = X[i][j] * Y[i][j]\n",
    " \n",
    "    for r in result:\n",
    "        print(r,end=\" \")"
   ]
  },
  {
   "cell_type": "markdown",
   "id": "8e6ac321",
   "metadata": {},
   "source": [
    "3.Python program for Matrix Product"
   ]
  },
  {
   "cell_type": "code",
   "execution_count": 8,
   "id": "9805d965",
   "metadata": {},
   "outputs": [
    {
     "name": "stdout",
     "output_type": "stream",
     "text": [
      "[36, 64, 84] [24, 25, 24] [21, 16, 9] [36, 64, 84] [96, 100, 96] [21, 16, 9] [36, 64, 84] [96, 100, 96] [84, 64, 36] "
     ]
    }
   ],
   "source": [
    "for i in range(len(X)):\n",
    "    for j in range(len(X[0])):\n",
    "        for k in range(len(Y)):\n",
    "            result[i][j] += X[i][j] * Y[i][j]\n",
    " \n",
    "    for r in result:\n",
    "        print(r,end=\" \")"
   ]
  },
  {
   "cell_type": "markdown",
   "id": "67b1cc47",
   "metadata": {},
   "source": [
    "4.Adding and Subtracting Matrices in Python"
   ]
  },
  {
   "cell_type": "code",
   "execution_count": 9,
   "id": "c563e7e7",
   "metadata": {},
   "outputs": [
    {
     "name": "stdout",
     "output_type": "stream",
     "text": [
      "Printing elements of first matrix\n",
      "[[1 2]\n",
      " [3 4]]\n",
      "Printing elements of second matrix\n",
      "[[4 5]\n",
      " [6 7]]\n",
      "Addition of two matrix\n",
      "[[ 5  7]\n",
      " [ 9 11]]\n"
     ]
    }
   ],
   "source": [
    "import numpy as np\n",
    "  \n",
    "A = np.array([[1, 2], [3, 4]])\n",
    "  \n",
    "B = np.array([[4, 5], [6, 7]])\n",
    "  \n",
    "print(\"Printing elements of first matrix\")\n",
    "print(A)\n",
    "print(\"Printing elements of second matrix\")\n",
    "print(B)\n",
    "  \n",
    "print(\"Addition of two matrix\")\n",
    "print(np.add(A, B))"
   ]
  },
  {
   "cell_type": "markdown",
   "id": "09169041",
   "metadata": {},
   "source": [
    "5.Transpose a matrix in Single line in Python"
   ]
  },
  {
   "cell_type": "code",
   "execution_count": 10,
   "id": "7dc8fee1",
   "metadata": {},
   "outputs": [
    {
     "name": "stdout",
     "output_type": "stream",
     "text": [
      "(1, 2, 3)\n",
      "(4, 5, 6)\n",
      "(7, 8, 9)\n",
      "(10, 11, 12)\n",
      "\n",
      "\n",
      "(1, 4, 7, 10)\n",
      "(2, 5, 8, 11)\n",
      "(3, 6, 9, 12)\n"
     ]
    }
   ],
   "source": [
    "matrix=[(1,2,3),(4,5,6),(7,8,9),(10,11,12)]\n",
    "for row in matrix:\n",
    "    print(row)\n",
    "print(\"\\n\")\n",
    "t_matrix = zip(*matrix)\n",
    "for row in t_matrix:\n",
    "    print(row)"
   ]
  },
  {
   "cell_type": "markdown",
   "id": "7f58ff48",
   "metadata": {},
   "source": [
    "6.Python | Matrix creation of n*n"
   ]
  },
  {
   "cell_type": "code",
   "execution_count": 11,
   "id": "10c71465",
   "metadata": {},
   "outputs": [
    {
     "name": "stdout",
     "output_type": "stream",
     "text": [
      "The dimension : 4\n",
      "The created matrix of N * N: [[1, 2, 3, 4], [5, 6, 7, 8], [9, 10, 11, 12], [13, 14, 15, 16]]\n"
     ]
    }
   ],
   "source": [
    "N = 4\n",
    "\n",
    "print(\"The dimension : \" + str(N))\n",
    "\n",
    "res = [list(range(1 + N * i, 1 + N * (i + 1)))\n",
    "    for i in range(N)]\n",
    "print(\"The created matrix of N * N: \" + str(res))"
   ]
  },
  {
   "cell_type": "markdown",
   "id": "99807558",
   "metadata": {},
   "source": [
    "7.Python | Get Kth Column of Matrix"
   ]
  },
  {
   "cell_type": "code",
   "execution_count": 12,
   "id": "62ea0437",
   "metadata": {},
   "outputs": [
    {
     "name": "stdout",
     "output_type": "stream",
     "text": [
      "The original list is : [[4, 5, 6], [8, 1, 10], [7, 12, 5]]\n",
      "The Kth column of matrix is : [6, 10, 5]\n"
     ]
    }
   ],
   "source": [
    "test_list = [[4, 5, 6], [8, 1, 10], [7, 12, 5]]\n",
    "\n",
    "print(\"The original list is : \" + str(test_list))\n",
    "\n",
    "K = 2\n",
    "\n",
    "res = [sub[K] for sub in test_list]\n",
    "\n",
    "print(\"The Kth column of matrix is : \" + str(res))"
   ]
  },
  {
   "cell_type": "markdown",
   "id": "acb05e17",
   "metadata": {},
   "source": [
    "8.Python – Vertical Concatenation in Matrix"
   ]
  },
  {
   "cell_type": "code",
   "execution_count": 13,
   "id": "bc370245",
   "metadata": {},
   "outputs": [
    {
     "name": "stdout",
     "output_type": "stream",
     "text": [
      "The original list : [['Gfg', 'good'], ['is', 'for'], ['Best']]\n",
      "List after column Concatenation : ['GfgisBest', 'goodfor']\n"
     ]
    }
   ],
   "source": [
    "test_list = [[\"Gfg\", \"good\"], [\"is\", \"for\"], [\"Best\"]]\n",
    "  \n",
    "print(\"The original list : \" + str(test_list))\n",
    "\n",
    "res = []\n",
    "N = 0\n",
    "while N != len(test_list):\n",
    "    temp = ''\n",
    "    for idx in test_list:\n",
    "        try: temp = temp + idx[N]\n",
    "        except IndexError: pass\n",
    "    res.append(temp)\n",
    "    N = N + 1\n",
    "  \n",
    "res = [ele for ele in res if ele]\n",
    " \n",
    "print(\"List after column Concatenation : \" + str(res))"
   ]
  },
  {
   "cell_type": "markdown",
   "id": "18473342",
   "metadata": {},
   "source": [
    "9.Python program to check if a string is palindrome or not"
   ]
  },
  {
   "cell_type": "code",
   "execution_count": 14,
   "id": "0cb33ab2",
   "metadata": {},
   "outputs": [
    {
     "name": "stdout",
     "output_type": "stream",
     "text": [
      "Yes\n"
     ]
    }
   ],
   "source": [
    "def isPalindrome(s):\n",
    "    return s == s[::-1]\n",
    " \n",
    "s = \"malayalam\"\n",
    "ans = isPalindrome(s)\n",
    " \n",
    "if ans:\n",
    "    print(\"Yes\")\n",
    "else:\n",
    "    print(\"No\")"
   ]
  },
  {
   "cell_type": "markdown",
   "id": "f136f50a",
   "metadata": {},
   "source": [
    "10.Python program to check whether the string is Symmetrical or Palindrome"
   ]
  },
  {
   "cell_type": "code",
   "execution_count": 16,
   "id": "a84d9ffc",
   "metadata": {},
   "outputs": [
    {
     "name": "stdout",
     "output_type": "stream",
     "text": [
      "Enter the word:  Suresh\n",
      "Suresh string is not symmertical\n",
      "Suresh string is not palindrome\n"
     ]
    }
   ],
   "source": [
    "string = str(input(\"Enter the word:  \"))\n",
    "half = int(len(string) / 2)\n",
    " \n",
    "if len(string) % 2 == 0:\n",
    "    first_str = string[:half]\n",
    "    second_str = string[half:]\n",
    "else: \n",
    "    first_str = string[:half]\n",
    "    second_str = string[half+1:]\n",
    "\n",
    "if first_str == second_str:\n",
    "    print(string, 'string is symmertical')\n",
    "else:\n",
    "    print(string, 'string is not symmertical')\n",
    "\n",
    "if first_str == second_str[::-1]:\n",
    "    print(string, 'string is palindrome')\n",
    "else:\n",
    "    print(string, 'string is not palindrome')"
   ]
  },
  {
   "cell_type": "code",
   "execution_count": null,
   "id": "e35f8c87",
   "metadata": {},
   "outputs": [],
   "source": []
  },
  {
   "cell_type": "code",
   "execution_count": null,
   "id": "240e90c9",
   "metadata": {},
   "outputs": [],
   "source": []
  },
  {
   "cell_type": "code",
   "execution_count": null,
   "id": "2439bd7d",
   "metadata": {},
   "outputs": [],
   "source": []
  },
  {
   "cell_type": "code",
   "execution_count": null,
   "id": "5dab9618",
   "metadata": {},
   "outputs": [],
   "source": []
  }
 ],
 "metadata": {
  "kernelspec": {
   "display_name": "Python 3 (ipykernel)",
   "language": "python",
   "name": "python3"
  },
  "language_info": {
   "codemirror_mode": {
    "name": "ipython",
    "version": 3
   },
   "file_extension": ".py",
   "mimetype": "text/x-python",
   "name": "python",
   "nbconvert_exporter": "python",
   "pygments_lexer": "ipython3",
   "version": "3.9.7"
  }
 },
 "nbformat": 4,
 "nbformat_minor": 5
}
