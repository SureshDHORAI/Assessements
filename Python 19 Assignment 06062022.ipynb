{
 "cells": [
  {
   "cell_type": "markdown",
   "id": "21d88d8d",
   "metadata": {},
   "source": [
    "1.Python Program to Check if email address valid or not"
   ]
  },
  {
   "cell_type": "code",
   "execution_count": 1,
   "id": "78d222cc",
   "metadata": {},
   "outputs": [
    {
     "name": "stdout",
     "output_type": "stream",
     "text": [
      "Valid Email\n",
      "Valid Email\n",
      "Invalid Email\n"
     ]
    }
   ],
   "source": [
    "import re\n",
    "\n",
    "regex = r'\\b[A-Za-z0-9._%+-]+@[A-Za-z0-9.-]+\\.[A-Z|a-z]{2,}\\b'\n",
    "def check(email):\n",
    "\n",
    "    if(re.fullmatch(regex, email)):\n",
    "        print(\"Valid Email\")\n",
    " \n",
    "    else:\n",
    "        print(\"Invalid Email\")\n",
    "\n",
    "if __name__ == '__main__':\n",
    "\n",
    "    email = \"susab2323@gmail.com\"\n",
    "\n",
    "    check(email)\n",
    " \n",
    "    email = \"my.ownsite@our-earth.org\"\n",
    "    check(email)\n",
    " \n",
    "    email = \"susab2323.com\"\n",
    "    check(email)"
   ]
  },
  {
   "cell_type": "markdown",
   "id": "c5906c16",
   "metadata": {},
   "source": [
    "2.Python program to find files having a particular extension using RegEx"
   ]
  },
  {
   "cell_type": "code",
   "execution_count": 4,
   "id": "0fe7d630",
   "metadata": {},
   "outputs": [
    {
     "name": "stdout",
     "output_type": "stream",
     "text": [
      "The file ending with .xml is: Suresh .xml\n"
     ]
    }
   ],
   "source": [
    "import re\n",
    "\n",
    "filenames = [\"gfg.html\", \"Suresh .xml\",\"computer.txt\", \"SureshforSuresh.jpg\"]\n",
    "  \n",
    "for file in filenames:\n",
    "\n",
    "    match = re.search(\"\\.xml$\", file)\n",
    "\n",
    "    if match:\n",
    "        print(\"The file ending with .xml is:\",file)"
   ]
  },
  {
   "cell_type": "markdown",
   "id": "921ac077",
   "metadata": {},
   "source": [
    "3.Python program to extract IP address from file"
   ]
  },
  {
   "cell_type": "code",
   "execution_count": 8,
   "id": "1239a862",
   "metadata": {},
   "outputs": [
    {
     "ename": "IndentationError",
     "evalue": "unexpected indent (Temp/ipykernel_7776/835716549.py, line 2)",
     "output_type": "error",
     "traceback": [
      "\u001b[1;36m  File \u001b[1;32m\"C:\\Users\\dhoraisu\\AppData\\Local\\Temp/ipykernel_7776/835716549.py\"\u001b[1;36m, line \u001b[1;32m2\u001b[0m\n\u001b[1;33m    with open('C:/Users/user/Desktop/New Text Document.txt') as fh:\u001b[0m\n\u001b[1;37m    ^\u001b[0m\n\u001b[1;31mIndentationError\u001b[0m\u001b[1;31m:\u001b[0m unexpected indent\n"
     ]
    }
   ],
   "source": [
    "import re\n",
    "    with open('C:/Users/user/Desktop/New Text Document.txt') as fh:\n",
    "        fstring = fh.readlines()\n",
    "\n",
    "pattern = re.compile(r'(\\d{1,3}\\.\\d{1,3}\\.\\d{1,3}\\.\\d{1,3})')\n",
    "\n",
    "lst=[]\n",
    "\n",
    "for line in fstring:\n",
    "    lst.append(pattern.search(line)[0])\n",
    "\n",
    "print(lst)"
   ]
  },
  {
   "cell_type": "markdown",
   "id": "ef499bed",
   "metadata": {},
   "source": [
    "4.Python program to check the validity of a Password"
   ]
  },
  {
   "cell_type": "code",
   "execution_count": 9,
   "id": "0afb747d",
   "metadata": {},
   "outputs": [
    {
     "name": "stdout",
     "output_type": "stream",
     "text": [
      "Valid Password\n"
     ]
    }
   ],
   "source": [
    "import re\n",
    "password = \"R@m@_f0rtu9e$\"\n",
    "flag = 0\n",
    "while True:  \n",
    "    if (len(password)<8):\n",
    "        flag = -1\n",
    "        break\n",
    "    elif not re.search(\"[a-z]\", password):\n",
    "        flag = -1\n",
    "        break\n",
    "    elif not re.search(\"[A-Z]\", password):\n",
    "        flag = -1\n",
    "        break\n",
    "    elif not re.search(\"[0-9]\", password):\n",
    "        flag = -1\n",
    "        break\n",
    "    elif not re.search(\"[_@$]\", password):\n",
    "        flag = -1\n",
    "        break\n",
    "    elif re.search(\"\\s\", password):\n",
    "        flag = -1\n",
    "        break\n",
    "    else:\n",
    "        flag = 0\n",
    "        print(\"Valid Password\")\n",
    "        break\n",
    "  \n",
    "if flag ==-1:\n",
    "    print(\"Not a Valid Password\")"
   ]
  },
  {
   "cell_type": "markdown",
   "id": "aed1b527",
   "metadata": {},
   "source": [
    "5.Categorize Password as Strong or Weak using Regex in Python"
   ]
  },
  {
   "cell_type": "code",
   "execution_count": 10,
   "id": "b2477fbd",
   "metadata": {},
   "outputs": [
    {
     "name": "stdout",
     "output_type": "stream",
     "text": [
      "Strong Password!\n",
      "Weak password: Same string pattern repetition\n",
      "Weak Password: Same character repeats three or more times in a row\n",
      "Weak password: Same string pattern repetition\n",
      "Strong Password!\n",
      "Password cannot be a newline or space!\n"
     ]
    }
   ],
   "source": [
    "import re\n",
    "\n",
    "def password(v):\n",
    "\n",
    "    if v == \"\\n\" or v == \" \":\n",
    "        return \"Password cannot be a newline or space!\"\n",
    "\n",
    "    if 9 <= len(v) <= 20:\n",
    "\n",
    "        if re.search(r'(.)\\1\\1', v):\n",
    "            return \"Weak Password: Same character repeats three or more times in a row\"\n",
    "\n",
    "        if re.search(r'(..)(.*?)\\1', v):\n",
    "            return \"Weak password: Same string pattern repetition\"\n",
    "   \n",
    "        else:\n",
    "            return \"Strong Password!\"\n",
    "   \n",
    "    else:\n",
    "        return \"Password length must be 9-20 characters!\"\n",
    "\n",
    "def main():\n",
    "\n",
    "    print(password(\"Qggf!@ghf3\"))\n",
    "    print(password(\"Gggksforgeeks\"))\n",
    "    print(password(\"aaabnil1gu\"))\n",
    "    print(password(\"Aasd!feasn\"))\n",
    "    print(password(\"772*hd897\"))\n",
    "    print(password(\" \"))\n",
    "\n",
    "if __name__ == '__main__':\n",
    "    main()"
   ]
  },
  {
   "cell_type": "markdown",
   "id": "d9a45406",
   "metadata": {},
   "source": [
    "6.Python program to read file word by word"
   ]
  },
  {
   "cell_type": "code",
   "execution_count": 18,
   "id": "a1a118cd",
   "metadata": {},
   "outputs": [
    {
     "ename": "IndentationError",
     "evalue": "expected an indented block (Temp/ipykernel_7776/96204216.py, line 4)",
     "output_type": "error",
     "traceback": [
      "\u001b[1;36m  File \u001b[1;32m\"C:\\Users\\dhoraisu\\AppData\\Local\\Temp/ipykernel_7776/96204216.py\"\u001b[1;36m, line \u001b[1;32m4\u001b[0m\n\u001b[1;33m    print(word)\u001b[0m\n\u001b[1;37m    ^\u001b[0m\n\u001b[1;31mIndentationError\u001b[0m\u001b[1;31m:\u001b[0m expected an indented block\n"
     ]
    }
   ],
   "source": [
    "with open('GFG.txt','r') as file:\n",
    "    for line in file:\n",
    "            for word in line.split():   \n",
    "    print(word)"
   ]
  },
  {
   "cell_type": "markdown",
   "id": "8a1b4ae6",
   "metadata": {},
   "source": [
    "7.Python program to read character by character from a file"
   ]
  },
  {
   "cell_type": "code",
   "execution_count": 19,
   "id": "46891680",
   "metadata": {},
   "outputs": [
    {
     "ename": "FileNotFoundError",
     "evalue": "[Errno 2] No such file or directory: 'file.txt'",
     "output_type": "error",
     "traceback": [
      "\u001b[1;31m---------------------------------------------------------------------------\u001b[0m",
      "\u001b[1;31mFileNotFoundError\u001b[0m                         Traceback (most recent call last)",
      "\u001b[1;32m~\\AppData\\Local\\Temp/ipykernel_7776/3209899519.py\u001b[0m in \u001b[0;36m<module>\u001b[1;34m\u001b[0m\n\u001b[1;32m----> 1\u001b[1;33m \u001b[0mfile\u001b[0m \u001b[1;33m=\u001b[0m \u001b[0mopen\u001b[0m\u001b[1;33m(\u001b[0m\u001b[1;34m'file.txt'\u001b[0m\u001b[1;33m,\u001b[0m \u001b[1;34m'r'\u001b[0m\u001b[1;33m)\u001b[0m\u001b[1;33m\u001b[0m\u001b[1;33m\u001b[0m\u001b[0m\n\u001b[0m\u001b[0;32m      2\u001b[0m \u001b[1;33m\u001b[0m\u001b[0m\n\u001b[0;32m      3\u001b[0m \u001b[1;32mwhile\u001b[0m \u001b[1;36m1\u001b[0m\u001b[1;33m:\u001b[0m\u001b[1;33m\u001b[0m\u001b[1;33m\u001b[0m\u001b[0m\n\u001b[0;32m      4\u001b[0m \u001b[1;33m\u001b[0m\u001b[0m\n\u001b[0;32m      5\u001b[0m     \u001b[0mchar\u001b[0m \u001b[1;33m=\u001b[0m \u001b[0mfile\u001b[0m\u001b[1;33m.\u001b[0m\u001b[0mread\u001b[0m\u001b[1;33m(\u001b[0m\u001b[1;36m1\u001b[0m\u001b[1;33m)\u001b[0m\u001b[1;33m\u001b[0m\u001b[1;33m\u001b[0m\u001b[0m\n",
      "\u001b[1;31mFileNotFoundError\u001b[0m: [Errno 2] No such file or directory: 'file.txt'"
     ]
    }
   ],
   "source": [
    "file = open('file.txt', 'r')\n",
    " \n",
    "while 1:\n",
    "\n",
    "    char = file.read(1)         \n",
    "    if not char:\n",
    "        break\n",
    "         \n",
    "    print(char)\n",
    " \n",
    "file.close()"
   ]
  },
  {
   "cell_type": "markdown",
   "id": "96a7bde1",
   "metadata": {},
   "source": [
    "8.Python – Get number of characters, words, spaces and lines in a file"
   ]
  },
  {
   "cell_type": "code",
   "execution_count": 20,
   "id": "ea86758b",
   "metadata": {},
   "outputs": [
    {
     "name": "stdout",
     "output_type": "stream",
     "text": [
      "File not found\n"
     ]
    }
   ],
   "source": [
    "def counter(fname):\n",
    "\n",
    "    num_words = 0\n",
    "\n",
    "    num_lines = 0\n",
    "\n",
    "    num_charc = 0\n",
    "\n",
    "    num_spaces = 0\n",
    "\n",
    "    with open(fname, 'r') as f:\n",
    "\n",
    "        for line in f:\n",
    "\n",
    "            num_lines += 1\n",
    "\n",
    "            word = 'Y'\n",
    "\n",
    "            for letter in line:\n",
    "\n",
    "                if (letter != ' ' and word == 'Y'):\n",
    "\n",
    "                    num_words += 1\n",
    "\n",
    "                    word = 'N'\n",
    "\n",
    "                elif (letter == ' '):\n",
    "\n",
    "                    num_spaces += 1\n",
    "\n",
    "                    word = 'Y'\n",
    "\n",
    "                for i in letter:\n",
    "\n",
    "                    if(i !=\" \" and i !=\"\\n\"):\n",
    "\n",
    "                        num_charc += 1\n",
    "                          \n",
    "   \n",
    "    print(\"Number of words in text file: \", num_words)\n",
    "\n",
    "    print(\"Number of lines in text file: \", num_lines)\n",
    "\n",
    "    print('Number of characters in text file: ', num_charc)\n",
    "\n",
    "    print('Number of spaces in text file: ', num_spaces)\n",
    "\n",
    "if __name__ == '__main__': \n",
    "    fname = 'File1.txt'\n",
    "    try: \n",
    "        counter(fname) \n",
    "    except: \n",
    "        print('File not found')"
   ]
  },
  {
   "cell_type": "markdown",
   "id": "fae939a1",
   "metadata": {},
   "source": [
    "10.Python | Finding ‘n’ Character Words in a Text File"
   ]
  },
  {
   "cell_type": "code",
   "execution_count": 21,
   "id": "44104041",
   "metadata": {},
   "outputs": [
    {
     "ename": "FileNotFoundError",
     "evalue": "[Errno 2] No such file or directory: 'textfile.txt'",
     "output_type": "error",
     "traceback": [
      "\u001b[1;31m---------------------------------------------------------------------------\u001b[0m",
      "\u001b[1;31mFileNotFoundError\u001b[0m                         Traceback (most recent call last)",
      "\u001b[1;32m~\\AppData\\Local\\Temp/ipykernel_7776/3491573988.py\u001b[0m in \u001b[0;36m<module>\u001b[1;34m\u001b[0m\n\u001b[0;32m      2\u001b[0m \u001b[0mchrw\u001b[0m \u001b[1;33m=\u001b[0m \u001b[1;34m\"\"\u001b[0m\u001b[1;33m\u001b[0m\u001b[1;33m\u001b[0m\u001b[0m\n\u001b[0;32m      3\u001b[0m \u001b[1;33m\u001b[0m\u001b[0m\n\u001b[1;32m----> 4\u001b[1;33m \u001b[0mfile\u001b[0m \u001b[1;33m=\u001b[0m \u001b[0mopen\u001b[0m\u001b[1;33m(\u001b[0m\u001b[1;34m'textfile.txt'\u001b[0m\u001b[1;33m,\u001b[0m \u001b[1;34m'r'\u001b[0m\u001b[1;33m)\u001b[0m\u001b[1;33m\u001b[0m\u001b[1;33m\u001b[0m\u001b[0m\n\u001b[0m\u001b[0;32m      5\u001b[0m \u001b[1;32mwhile\u001b[0m \u001b[1;36m1\u001b[0m\u001b[1;33m:\u001b[0m\u001b[1;33m\u001b[0m\u001b[1;33m\u001b[0m\u001b[0m\n\u001b[0;32m      6\u001b[0m     \u001b[0msp\u001b[0m \u001b[1;33m=\u001b[0m \u001b[0mfile\u001b[0m\u001b[1;33m.\u001b[0m\u001b[0mread\u001b[0m\u001b[1;33m(\u001b[0m\u001b[1;36m1\u001b[0m\u001b[1;33m)\u001b[0m\u001b[1;33m\u001b[0m\u001b[1;33m\u001b[0m\u001b[0m\n",
      "\u001b[1;31mFileNotFoundError\u001b[0m: [Errno 2] No such file or directory: 'textfile.txt'"
     ]
    }
   ],
   "source": [
    "count = 1\n",
    "chrw = \"\"\n",
    "\n",
    "file = open('textfile.txt', 'r')\n",
    "while 1:\n",
    "    sp = file.read(1)\n",
    "  \n",
    "    if count<= 3:\n",
    "        chrw = chrw + sp\n",
    "  \n",
    "    if count>3:\n",
    "        if sp ==\" \":\n",
    "            count = 0\n",
    "            if len(chrw)>0:\n",
    "                print(chrw)\n",
    "                chrw =\"\"\n",
    "        elif sp !=\" \":\n",
    "            chrw =\"\"\n",
    "    count = count + 1\n",
    "  \n",
    "    if not sp:\n",
    "        break\n",
    "  \n",
    "file.close() "
   ]
  },
  {
   "cell_type": "code",
   "execution_count": null,
   "id": "bdd72503",
   "metadata": {},
   "outputs": [],
   "source": []
  },
  {
   "cell_type": "code",
   "execution_count": null,
   "id": "e963eb8e",
   "metadata": {},
   "outputs": [],
   "source": []
  },
  {
   "cell_type": "code",
   "execution_count": null,
   "id": "ac4398c6",
   "metadata": {},
   "outputs": [],
   "source": []
  },
  {
   "cell_type": "code",
   "execution_count": null,
   "id": "5e3a44be",
   "metadata": {},
   "outputs": [],
   "source": []
  },
  {
   "cell_type": "code",
   "execution_count": null,
   "id": "02218b7a",
   "metadata": {},
   "outputs": [],
   "source": []
  },
  {
   "cell_type": "code",
   "execution_count": null,
   "id": "2042e2fd",
   "metadata": {},
   "outputs": [],
   "source": []
  },
  {
   "cell_type": "code",
   "execution_count": null,
   "id": "4ba2b8ef",
   "metadata": {},
   "outputs": [],
   "source": []
  }
 ],
 "metadata": {
  "kernelspec": {
   "display_name": "Python 3 (ipykernel)",
   "language": "python",
   "name": "python3"
  },
  "language_info": {
   "codemirror_mode": {
    "name": "ipython",
    "version": 3
   },
   "file_extension": ".py",
   "mimetype": "text/x-python",
   "name": "python",
   "nbconvert_exporter": "python",
   "pygments_lexer": "ipython3",
   "version": "3.9.7"
  }
 },
 "nbformat": 4,
 "nbformat_minor": 5
}
