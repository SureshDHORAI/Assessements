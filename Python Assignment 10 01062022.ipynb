{
 "cells": [
  {
   "cell_type": "markdown",
   "id": "5ed46fdd",
   "metadata": {},
   "source": [
    "1.Python | Ways to remove a key from dictionary"
   ]
  },
  {
   "cell_type": "code",
   "execution_count": 2,
   "id": "c2c3e177",
   "metadata": {},
   "outputs": [
    {
     "name": "stdout",
     "output_type": "stream",
     "text": [
      "The dic before performing remove is : {'Adhi': 22, 'Aruna': 21, 'Suresh': 21, 'Haritha': 21}\n",
      "The dic after remove is : {'Adhi': 22, 'Aruna': 21, 'Haritha': 21}\n"
     ]
    }
   ],
   "source": [
    "test_dict = {\"Adhi\" : 22, \"Aruna\" : 21, \"Suresh\" : 21, \"Haritha\" : 21}\n",
    "print (\"The dic before performing remove is : \" + str(test_dict))\n",
    "\n",
    "del test_dict['Suresh']\n",
    "print (\"The dic after remove is : \" + str(test_dict))\n"
   ]
  },
  {
   "cell_type": "markdown",
   "id": "726434b2",
   "metadata": {},
   "source": [
    "2.Ways to sort list of dictionaries by values in Python – Using itemgetter"
   ]
  },
  {
   "cell_type": "code",
   "execution_count": 3,
   "id": "9b3b454e",
   "metadata": {},
   "outputs": [
    {
     "ename": "SyntaxError",
     "evalue": "Missing parentheses in call to 'print'. Did you mean print(\"The list printed sorting by age: \")? (Temp/ipykernel_19720/1859317732.py, line 7)",
     "output_type": "error",
     "traceback": [
      "\u001b[1;36m  File \u001b[1;32m\"C:\\Users\\dhoraisu\\AppData\\Local\\Temp/ipykernel_19720/1859317732.py\"\u001b[1;36m, line \u001b[1;32m7\u001b[0m\n\u001b[1;33m    print \"The list printed sorting by age: \"\u001b[0m\n\u001b[1;37m          ^\u001b[0m\n\u001b[1;31mSyntaxError\u001b[0m\u001b[1;31m:\u001b[0m Missing parentheses in call to 'print'. Did you mean print(\"The list printed sorting by age: \")?\n"
     ]
    }
   ],
   "source": [
    "from operator import itemgetter\n",
    "\n",
    "lis = [{ \"name\" : \"Nandini\", \"age\" : 20}, \n",
    "{ \"name\" : \"Manjeet\", \"age\" : 20 },\n",
    "{ \"name\" : \"Nikhil\" , \"age\" : 19 }]\n",
    "\n",
    "print \"The list printed sorting by age: \"\n",
    "print sorted(lis, key=itemgetter('age'))\n",
    "  \n",
    "print (\"\\r\")\n",
    "\n",
    "print \"The list printed sorting by age and name: \"\n",
    "print sorted(lis, key=itemgetter('age', 'name'))\n",
    "  \n",
    "print (\"\\r\")\n",
    "\n",
    "print \"The list printed sorting by age in descending order: \"\n",
    "print sorted(lis, key=itemgetter('age'),reverse = True)"
   ]
  },
  {
   "cell_type": "markdown",
   "id": "4fdd6928",
   "metadata": {},
   "source": [
    "3. Ways to sort list of dictionaries by values in Python – Using lambda function"
   ]
  },
  {
   "cell_type": "code",
   "execution_count": 4,
   "id": "bd680e18",
   "metadata": {},
   "outputs": [
    {
     "name": "stdout",
     "output_type": "stream",
     "text": [
      "The list printed sorting by age: \n",
      "[{'name': 'Nikhil', 'age': 19}, {'name': 'Nandini', 'age': 20}, {'name': 'Manjeet', 'age': 20}]\n",
      "\r\n",
      "The list printed sorting by age and name: \n",
      "[{'name': 'Nikhil', 'age': 19}, {'name': 'Manjeet', 'age': 20}, {'name': 'Nandini', 'age': 20}]\n"
     ]
    }
   ],
   "source": [
    "lis = [{ \"name\" : \"Nandini\", \"age\" : 20},\n",
    "{ \"name\" : \"Manjeet\", \"age\" : 20 },\n",
    "{ \"name\" : \"Nikhil\" , \"age\" : 19 }]\n",
    "\n",
    "print (\"The list printed sorting by age: \")\n",
    "print (sorted(lis, key = lambda i: i['age']))\n",
    " \n",
    "print (\"\\r\")\n",
    "\n",
    "print (\"The list printed sorting by age and name: \")\n",
    "print (sorted(lis, key = lambda i: (i['age'], i['name'])))"
   ]
  },
  {
   "cell_type": "markdown",
   "id": "6d000ce8",
   "metadata": {},
   "source": [
    "4.Python | Merging two Dictionaries"
   ]
  },
  {
   "cell_type": "code",
   "execution_count": 5,
   "id": "0ebdfc49",
   "metadata": {},
   "outputs": [
    {
     "name": "stdout",
     "output_type": "stream",
     "text": [
      "None\n",
      "{'d': 6, 'c': 4, 'a': 10, 'b': 8}\n"
     ]
    }
   ],
   "source": [
    "def Merge(dict1, dict2):\n",
    "    return(dict2.update(dict1))\n",
    "\n",
    "dict1 = {'a': 10, 'b': 8}\n",
    "dict2 = {'d': 6, 'c': 4}\n",
    "\n",
    "print(Merge(dict1, dict2))\n",
    "\n",
    "print(dict2)"
   ]
  },
  {
   "cell_type": "markdown",
   "id": "8765b5ab",
   "metadata": {},
   "source": [
    "5.Python – Convert key-values list to flat dictionary"
   ]
  },
  {
   "cell_type": "code",
   "execution_count": 6,
   "id": "0ceba970",
   "metadata": {},
   "outputs": [
    {
     "name": "stdout",
     "output_type": "stream",
     "text": [
      "The original dictionary is : {'month': [1, 2, 3], 'name': ['Jan', 'Feb', 'March']}\n",
      "Flattened dictionary : {1: 'Jan', 2: 'Feb', 3: 'March'}\n"
     ]
    }
   ],
   "source": [
    "from itertools import product\n",
    "  \n",
    "\n",
    "test_dict = {'month' : [1, 2, 3],\n",
    "             'name' : ['Jan', 'Feb', 'March']}\n",
    "\n",
    "print(\"The original dictionary is : \" + str(test_dict))\n",
    "\n",
    "res = dict(zip(test_dict['month'], test_dict['name']))\n",
    "\n",
    "print(\"Flattened dictionary : \" + str(res)) "
   ]
  },
  {
   "cell_type": "markdown",
   "id": "0bf0a71e",
   "metadata": {},
   "source": [
    "6.Python – Insertion at the beginning in OrderedDict"
   ]
  },
  {
   "cell_type": "code",
   "execution_count": 8,
   "id": "c5338977",
   "metadata": {},
   "outputs": [
    {
     "name": "stdout",
     "output_type": "stream",
     "text": [
      "Resultant Dictionary : OrderedDict([('manjeet', '3'), ('akshat', '1'), ('nikhil', '2')])\n"
     ]
    }
   ],
   "source": [
    "from collections import OrderedDict\n",
    "\n",
    "iniordered_dict = OrderedDict([('akshat', '1'), ('nikhil', '2')])\n",
    "\n",
    "iniordered_dict.update({'manjeet':'3'})\n",
    "iniordered_dict.move_to_end('manjeet', last = False)\n",
    "\n",
    "print (\"Resultant Dictionary : \"+str(iniordered_dict))"
   ]
  },
  {
   "cell_type": "markdown",
   "id": "1807969e",
   "metadata": {},
   "source": [
    "7.Python | Check order of character in string using OrderedDict( )"
   ]
  },
  {
   "cell_type": "code",
   "execution_count": 9,
   "id": "7aa5680c",
   "metadata": {},
   "outputs": [
    {
     "name": "stdout",
     "output_type": "stream",
     "text": [
      "true\n"
     ]
    }
   ],
   "source": [
    "from collections import OrderedDict \n",
    "  \n",
    "def checkOrder(input, pattern): \n",
    "\n",
    "    dict = OrderedDict.fromkeys(input) \n",
    "\n",
    "    ptrlen = 0\n",
    "    for key,value in dict.items(): \n",
    "        if (key == pattern[ptrlen]): \n",
    "            ptrlen = ptrlen + 1\n",
    " \n",
    "        if (ptrlen == (len(pattern))): \n",
    "            return 'true'\n",
    " \n",
    "    return 'false'\n",
    " \n",
    "if __name__ == \"__main__\": \n",
    "    input = 'engineers rock'\n",
    "    pattern = 'er'\n",
    "    print (checkOrder(input,pattern)) "
   ]
  },
  {
   "cell_type": "markdown",
   "id": "107f3b67",
   "metadata": {},
   "source": [
    "8.Dictionary and counter in Python to find winner of election"
   ]
  },
  {
   "cell_type": "code",
   "execution_count": 10,
   "id": "df49702c",
   "metadata": {},
   "outputs": [
    {
     "name": "stdout",
     "output_type": "stream",
     "text": [
      "john\n"
     ]
    }
   ],
   "source": [
    "from collections import Counter\n",
    " \n",
    "def winner(input):\n",
    "    votes = Counter(input)\n",
    "    dict = {}\n",
    " \n",
    "    for value in votes.values():\n",
    "\n",
    "        dict[value] = []\n",
    " \n",
    "    for (key,value) in votes.items():\n",
    "        dict[value].append(key)\n",
    "\n",
    "    maxVote = sorted(dict.keys(),reverse=True)[0]\n",
    "\n",
    "    if len(dict[maxVote])>1:\n",
    "        print (sorted(dict[maxVote])[0])\n",
    "    else:\n",
    "        print (dict[maxVote][0])\n",
    "\n",
    "if __name__ == \"__main__\":\n",
    "    input =['john','johnny','jackie','johnny',\n",
    "            'john','jackie','jamie','jamie',\n",
    "            'john','johnny','jamie','johnny',\n",
    "            'john']\n",
    "    winner(input)"
   ]
  },
  {
   "cell_type": "markdown",
   "id": "f7f0a539",
   "metadata": {},
   "source": [
    "9.Python – Append Dictionary Keys and Values ( In order ) in dictionary"
   ]
  },
  {
   "cell_type": "code",
   "execution_count": 11,
   "id": "e304da7e",
   "metadata": {},
   "outputs": [
    {
     "name": "stdout",
     "output_type": "stream",
     "text": [
      "The original dictionary is : {'Gfg': 1, 'is': 3, 'Best': 2}\n",
      "The ordered keys and values : ['Gfg', 'is', 'Best', 1, 3, 2]\n"
     ]
    }
   ],
   "source": [
    "test_dict = {\"Gfg\" : 1, \"is\" :  3, \"Best\" : 2}\n",
    "\n",
    "print(\"The original dictionary is : \" + str(test_dict))\n",
    "\n",
    "res = list(test_dict.keys()) + list(test_dict.values())\n",
    "\n",
    "print(\"The ordered keys and values : \" + str(res)) "
   ]
  },
  {
   "cell_type": "code",
   "execution_count": null,
   "id": "d55b6ed1",
   "metadata": {},
   "outputs": [],
   "source": []
  }
 ],
 "metadata": {
  "kernelspec": {
   "display_name": "Python 3 (ipykernel)",
   "language": "python",
   "name": "python3"
  },
  "language_info": {
   "codemirror_mode": {
    "name": "ipython",
    "version": 3
   },
   "file_extension": ".py",
   "mimetype": "text/x-python",
   "name": "python",
   "nbconvert_exporter": "python",
   "pygments_lexer": "ipython3",
   "version": "3.9.7"
  }
 },
 "nbformat": 4,
 "nbformat_minor": 5
}
